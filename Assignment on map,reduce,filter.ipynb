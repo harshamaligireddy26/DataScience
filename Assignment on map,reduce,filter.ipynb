{
 "cells": [
  {
   "cell_type": "markdown",
   "id": "448c9390-a5c2-449b-a48e-054912a64183",
   "metadata": {},
   "source": [
    "<b>Practical Questions on map()</b>"
   ]
  },
  {
   "cell_type": "markdown",
   "id": "6c3aa4a5-7a41-400a-b3b7-48474f6ab590",
   "metadata": {},
   "source": [
    "<b>1.Convert a list of strings to uppercase</b>"
   ]
  },
  {
   "cell_type": "markdown",
   "id": "ec26399e-8b64-4d2c-a41a-54730a700f6a",
   "metadata": {},
   "source": [
    "<b>words = ['python', 'is', 'awesome']    Output: ['PYTHON', 'IS', 'AWESOME']</b>"
   ]
  },
  {
   "cell_type": "code",
   "execution_count": 3,
   "id": "2caf6376-a768-47db-bd11-ccd1314308e0",
   "metadata": {},
   "outputs": [
    {
     "data": {
      "text/plain": [
       "['PYTHON', 'IS', 'AWESOME']"
      ]
     },
     "execution_count": 3,
     "metadata": {},
     "output_type": "execute_result"
    }
   ],
   "source": [
    "words=['python','is','awesome']\n",
    "list1=list(map(str.upper,words))\n",
    "list1"
   ]
  },
  {
   "cell_type": "markdown",
   "id": "756eaafa-abb2-44df-a871-76fe1d5690e6",
   "metadata": {},
   "source": [
    "<b>2.Square all numbers in a list\n",
    "</b>"
   ]
  },
  {
   "cell_type": "markdown",
   "id": "ee412894-3423-4ac4-bad4-4de0bb24063a",
   "metadata": {},
   "source": [
    "<b>numbers = [1, 2, 3, 4]  Output: [1, 4, 9, 16]</b>"
   ]
  },
  {
   "cell_type": "code",
   "execution_count": 14,
   "id": "fd6242a7-8b9e-40ae-a8c1-3b731c6a1dea",
   "metadata": {},
   "outputs": [
    {
     "data": {
      "text/plain": [
       "[1, 4, 9, 16]"
      ]
     },
     "execution_count": 14,
     "metadata": {},
     "output_type": "execute_result"
    }
   ],
   "source": [
    "numbers=[1,2,3,4]\n",
    "list1=list(map(lambda x:x*x ,numbers))\n",
    "list1"
   ]
  },
  {
   "cell_type": "markdown",
   "id": "cdd01cf2-009c-4b1f-b0e2-8d9035cf90ff",
   "metadata": {},
   "source": [
    "<b>3.Convert a list of integers to strings\n",
    "</b>"
   ]
  },
  {
   "cell_type": "markdown",
   "id": "08658e26-8e60-4604-a0cd-8a694a73c44d",
   "metadata": {},
   "source": [
    "<b>nums = [1, 2, 3] Output: ['1', '2', '3']</b>"
   ]
  },
  {
   "cell_type": "code",
   "execution_count": 15,
   "id": "aee065c1-2761-4e37-9e3e-8339e1bff673",
   "metadata": {},
   "outputs": [
    {
     "data": {
      "text/plain": [
       "['1', '2', '3']"
      ]
     },
     "execution_count": 15,
     "metadata": {},
     "output_type": "execute_result"
    }
   ],
   "source": [
    "nums=[1,2,3]\n",
    "list1=list(map(lambda x:str(x),nums))\n",
    "list1"
   ]
  },
  {
   "cell_type": "markdown",
   "id": "4649c0a5-7ff5-43a2-af33-1a38c3ef9430",
   "metadata": {},
   "source": [
    "<b>4. Add 5 to each element in a list</b>"
   ]
  },
  {
   "cell_type": "markdown",
   "id": "4e27a493-0e7e-4b61-ac21-2412eb4ad336",
   "metadata": {},
   "source": [
    "<b>marks = [50, 60, 70]\n",
    "Output: [55, 65, 75]</b>"
   ]
  },
  {
   "cell_type": "code",
   "execution_count": 17,
   "id": "1939cb47-d0ad-48fc-9198-b5b1f822ac9d",
   "metadata": {},
   "outputs": [
    {
     "data": {
      "text/plain": [
       "[55, 65, 75]"
      ]
     },
     "execution_count": 17,
     "metadata": {},
     "output_type": "execute_result"
    }
   ],
   "source": [
    "marks=[50,60,70]\n",
    "list1=list(map(lambda x:x+5,marks))\n",
    "list1"
   ]
  },
  {
   "cell_type": "markdown",
   "id": "8dc55c4d-aae1-4b9d-b446-70c6ec84d38f",
   "metadata": {},
   "source": [
    "<b>5. Get lengths of all strings in a list</b>"
   ]
  },
  {
   "cell_type": "markdown",
   "id": "fbce64b5-25c5-4b4b-98e9-9516da2a4423",
   "metadata": {},
   "source": [
    "<b>names = ['apple', 'banana', 'kiwi']\n",
    "Output: [5, 6, 4]</b>"
   ]
  },
  {
   "cell_type": "code",
   "execution_count": 21,
   "id": "c8f5f4ed-3915-48a0-99f1-4b629fc21f44",
   "metadata": {},
   "outputs": [
    {
     "data": {
      "text/plain": [
       "[5, 6, 4]"
      ]
     },
     "execution_count": 21,
     "metadata": {},
     "output_type": "execute_result"
    }
   ],
   "source": [
    "names=['apple','banana','kiwi']\n",
    "list1=list(map(lambda x:len(x),names))\n",
    "list1"
   ]
  },
  {
   "cell_type": "markdown",
   "id": "463d3b3f-d9ae-48d7-8729-287ab7972e2b",
   "metadata": {},
   "source": [
    "<b>...............</b>"
   ]
  },
  {
   "cell_type": "markdown",
   "id": "8b0bf2b3-0dcf-46df-ac00-b38d01bafba0",
   "metadata": {},
   "source": [
    "<b>..............</b>"
   ]
  },
  {
   "cell_type": "markdown",
   "id": "c052e52d-7ebc-43a0-b347-978c0eb3a454",
   "metadata": {},
   "source": [
    "<b>1. Filter out even numbers</b>"
   ]
  },
  {
   "cell_type": "markdown",
   "id": "06e4fc09-8f41-4335-b4a5-5beed6745075",
   "metadata": {},
   "source": [
    "<b>nums = [1, 2, 3, 4, 5, 6]\n",
    "Output: [2, 4, 6]</b>"
   ]
  },
  {
   "cell_type": "code",
   "execution_count": 29,
   "id": "af022d93-a17e-4de5-946c-5512e7d9b2b3",
   "metadata": {},
   "outputs": [
    {
     "data": {
      "text/plain": [
       "[2, 4, 6]"
      ]
     },
     "execution_count": 29,
     "metadata": {},
     "output_type": "execute_result"
    }
   ],
   "source": [
    "nums=[1,2,3,4,5,6]\n",
    "list1=list(filter(lambda i:i%2==0,nums))\n",
    "list1"
   ]
  },
  {
   "cell_type": "markdown",
   "id": "14cae313-5f56-4031-a358-600262447a93",
   "metadata": {},
   "source": [
    "<b>2. Keep only strings with more than 3 characters\n",
    "\n",
    "</b>"
   ]
  },
  {
   "cell_type": "markdown",
   "id": "27f9c7e0-b006-4f17-b953-2955c1e0564a",
   "metadata": {},
   "source": [
    "<b>words = ['hi', 'hello', 'hey', 'sun']\n",
    "Output: ['hello']</b>"
   ]
  },
  {
   "cell_type": "code",
   "execution_count": 32,
   "id": "b7b239a2-98e5-4aca-8a55-3e3dcfd2afd9",
   "metadata": {},
   "outputs": [
    {
     "data": {
      "text/plain": [
       "['hello']"
      ]
     },
     "execution_count": 32,
     "metadata": {},
     "output_type": "execute_result"
    }
   ],
   "source": [
    "words=['hi','hello','hey','sun']\n",
    "list1=list(filter(lambda x:len(x)>3,words))\n",
    "list1"
   ]
  },
  {
   "cell_type": "markdown",
   "id": "4f86b8d5-ee2a-4cbd-aa8b-1ceebced1062",
   "metadata": {},
   "source": [
    "<b>3. Remove empty strings from a list\n",
    "\n",
    "</b>"
   ]
  },
  {
   "cell_type": "markdown",
   "id": "cc90c257-db4e-446f-b4c9-bc82707c7669",
   "metadata": {},
   "source": [
    "<b>data = ['Python', '', 'Java', '', 'C++']\n",
    "Output: ['Python', 'Java', 'C++']</b>"
   ]
  },
  {
   "cell_type": "code",
   "execution_count": 34,
   "id": "83dc4f93-80c9-46b8-9201-2e607e4604f0",
   "metadata": {},
   "outputs": [
    {
     "data": {
      "text/plain": [
       "['Python', 'Java', 'C++']"
      ]
     },
     "execution_count": 34,
     "metadata": {},
     "output_type": "execute_result"
    }
   ],
   "source": [
    "data=['Python','','Java','','C++']\n",
    "list1=list(filter(None,data))\n",
    "list1"
   ]
  },
  {
   "cell_type": "markdown",
   "id": "ab8bfdf6-0385-417d-bb5c-893b79aad48d",
   "metadata": {},
   "source": [
    "<b>4. Get names that start with 'A'\n",
    "</b>"
   ]
  },
  {
   "cell_type": "markdown",
   "id": "f674aa53-1ce9-424a-a038-7a64fdbc4b62",
   "metadata": {},
   "source": [
    "<b>names = ['Alice', 'Bob', 'Angela', 'Tom']\n",
    "Output: ['Alice', 'Angela']</b>"
   ]
  },
  {
   "cell_type": "code",
   "execution_count": 37,
   "id": "33090eb3-d9f2-4186-9a1c-a0550d1a2bb8",
   "metadata": {},
   "outputs": [
    {
     "data": {
      "text/plain": [
       "['Alice', 'Angela']"
      ]
     },
     "execution_count": 37,
     "metadata": {},
     "output_type": "execute_result"
    }
   ],
   "source": [
    "names =['Alice','Bob','Angela','Tom']\n",
    "list1=list(filter(lambda x:x[0]=='a' or x[0]=='A',names))\n",
    "list1"
   ]
  },
  {
   "cell_type": "markdown",
   "id": "62e7ac9c-8471-44b4-a0ea-482b9b33c839",
   "metadata": {},
   "source": [
    "<b>5. Keep truthy values only\n",
    "</b>"
   ]
  },
  {
   "cell_type": "markdown",
   "id": "cefb51e4-05b3-4487-a21f-59e545413aad",
   "metadata": {},
   "source": [
    "<b>\n",
    "items = [0, None, 'hello', False, 42, '']\n",
    "Output: ['hello', 42]</b>"
   ]
  },
  {
   "cell_type": "code",
   "execution_count": 40,
   "id": "87cf96e6-57b2-4110-a295-4ed8040a9f9b",
   "metadata": {},
   "outputs": [
    {
     "data": {
      "text/plain": [
       "['hello', 42]"
      ]
     },
     "execution_count": 40,
     "metadata": {},
     "output_type": "execute_result"
    }
   ],
   "source": [
    "items=[0,None,'hello',False,42,'']\n",
    "truthy=list(filter(bool,items))\n",
    "truthy"
   ]
  },
  {
   "cell_type": "markdown",
   "id": "3d2c59f1-3c58-4e1f-b525-a8ef708a6d41",
   "metadata": {},
   "source": [
    "<b>....................</b>"
   ]
  },
  {
   "cell_type": "markdown",
   "id": "349a4c80-f49f-4469-a7bb-86249a0ee0c1",
   "metadata": {},
   "source": [
    "<b>......................</b>"
   ]
  },
  {
   "cell_type": "markdown",
   "id": "860f95a9-0400-4825-a075-175b695bca9e",
   "metadata": {},
   "source": [
    "<b>1. Sum of all numbers\n",
    "\n",
    "</b>"
   ]
  },
  {
   "cell_type": "markdown",
   "id": "2cbb1983-d152-4240-8d26-bfc233ad5d00",
   "metadata": {},
   "source": [
    "<b>nums = [1, 2, 3, 4]\n",
    "Output: 10</b>"
   ]
  },
  {
   "cell_type": "code",
   "execution_count": 2,
   "id": "e535f753-34fa-43b3-bd17-b82852da58b8",
   "metadata": {},
   "outputs": [],
   "source": [
    "from functools import reduce"
   ]
  },
  {
   "cell_type": "code",
   "execution_count": 4,
   "id": "b3bb6c09-3d2b-4a3e-86f7-81325edafbc2",
   "metadata": {},
   "outputs": [
    {
     "data": {
      "text/plain": [
       "10"
      ]
     },
     "execution_count": 4,
     "metadata": {},
     "output_type": "execute_result"
    }
   ],
   "source": [
    "nums=[1,2,3,4]\n",
    "total=reduce(lambda x,y:x+y,nums)\n",
    "total"
   ]
  },
  {
   "cell_type": "markdown",
   "id": "1fba6494-cadf-487a-ade5-df6d74673d99",
   "metadata": {},
   "source": [
    "<b>2. Product of all even numbers\n",
    "</b>"
   ]
  },
  {
   "cell_type": "markdown",
   "id": "a84df9d0-4b07-4a81-a97c-2b7c05410eee",
   "metadata": {},
   "source": [
    "<b>nums = [1, 2, 3, 4, 5]\n",
    "Filter even → [2, 4]\n",
    "Reduce → 8</b>"
   ]
  },
  {
   "cell_type": "code",
   "execution_count": 15,
   "id": "42364a16-202d-4251-adac-4d1dbf2c34ef",
   "metadata": {},
   "outputs": [
    {
     "name": "stdout",
     "output_type": "stream",
     "text": [
      "[2, 4]\n"
     ]
    },
    {
     "data": {
      "text/plain": [
       "8"
      ]
     },
     "execution_count": 15,
     "metadata": {},
     "output_type": "execute_result"
    }
   ],
   "source": [
    "nums=[1,2,3,4,5]\n",
    "list1=list(filter(lambda x:x%2==0,nums))\n",
    "print(list1)\n",
    "total=reduce(lambda x,y:x*y,list1)\n",
    "total"
   ]
  },
  {
   "cell_type": "markdown",
   "id": "6a564105-e1a8-40b4-8ace-d6cf529820e9",
   "metadata": {},
   "source": [
    "<b>3. Find the longest word\n",
    "</b>"
   ]
  },
  {
   "cell_type": "markdown",
   "id": "bc109e03-caf8-4c40-aa22-4d92fed049c2",
   "metadata": {},
   "source": [
    "<b>words = ['apple', 'banana', 'kiwi']\n",
    "Output: 'banana'</b>"
   ]
  },
  {
   "cell_type": "code",
   "execution_count": 25,
   "id": "c606bfda-16bf-4c21-a2cb-b544284e8f21",
   "metadata": {},
   "outputs": [
    {
     "name": "stdout",
     "output_type": "stream",
     "text": [
      "banana\n"
     ]
    }
   ],
   "source": [
    "words=['apple','banana','kiwi']\n",
    "list1=list(map(lambda x:len(x),words))\n",
    "long=max(list1)\n",
    "for i in words:\n",
    "    if len(i)==long:\n",
    "        print((i))"
   ]
  },
  {
   "cell_type": "markdown",
   "id": "53ea84ae-423c-49fd-98b3-e2b2220e21b9",
   "metadata": {},
   "source": [
    "<b>4. Join list of strings into one sentence\n",
    "</b>"
   ]
  },
  {
   "cell_type": "markdown",
   "id": "1032eaf2-a5f5-488c-81db-939de0e0ae1d",
   "metadata": {},
   "source": [
    "<b>words = ['Python', 'is', 'fun']\n",
    "Output: 'Python is fun'</b>"
   ]
  },
  {
   "cell_type": "code",
   "execution_count": 6,
   "id": "6a20490e-9fdc-4a7c-ab6e-ada8afab16cd",
   "metadata": {},
   "outputs": [
    {
     "data": {
      "text/plain": [
       "'Python is fun'"
      ]
     },
     "execution_count": 6,
     "metadata": {},
     "output_type": "execute_result"
    }
   ],
   "source": [
    "words=['Python','is','fun']\n",
    "sentence=' '.join(words)\n",
    "sentence"
   ]
  },
  {
   "cell_type": "markdown",
   "id": "07bb1e2d-32e8-4532-8ae0-12ba9acd7ae2",
   "metadata": {},
   "source": [
    "<b>5. Create number from digits</b>\n"
   ]
  },
  {
   "cell_type": "markdown",
   "id": "500e1c7d-1bd4-4aec-8049-6a73c94d3151",
   "metadata": {},
   "source": [
    "<b>\n",
    "digits = [1, 2, 3, 4]\n",
    "Output: 1234</b>"
   ]
  },
  {
   "cell_type": "code",
   "execution_count": 8,
   "id": "5490c2d7-b54e-4cee-9585-478b6b05101b",
   "metadata": {},
   "outputs": [
    {
     "name": "stdout",
     "output_type": "stream",
     "text": [
      "1234\n"
     ]
    }
   ],
   "source": [
    "digits = [1, 2, 3, 4]\n",
    "number = int(''.join(map(str, digits)))\n",
    "print(number)"
   ]
  },
  {
   "cell_type": "code",
   "execution_count": null,
   "id": "52bfee29-8fa2-473a-88d2-3e7f88ded778",
   "metadata": {},
   "outputs": [],
   "source": []
  }
 ],
 "metadata": {
  "kernelspec": {
   "display_name": "Python 3 (ipykernel)",
   "language": "python",
   "name": "python3"
  },
  "language_info": {
   "codemirror_mode": {
    "name": "ipython",
    "version": 3
   },
   "file_extension": ".py",
   "mimetype": "text/x-python",
   "name": "python",
   "nbconvert_exporter": "python",
   "pygments_lexer": "ipython3",
   "version": "3.12.7"
  }
 },
 "nbformat": 4,
 "nbformat_minor": 5
}

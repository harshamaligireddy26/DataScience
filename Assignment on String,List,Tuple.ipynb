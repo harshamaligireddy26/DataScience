{
 "cells": [
  {
   "cell_type": "markdown",
   "id": "c66c9094-5657-44dc-bfbe-2e5b47f25f6e",
   "metadata": {},
   "source": [
    "<b>1. Create a string variable and print its length.</b>"
   ]
  },
  {
   "cell_type": "code",
   "execution_count": 1,
   "id": "6070feb7-b73a-47d3-9dcc-af87db641f0b",
   "metadata": {},
   "outputs": [
    {
     "name": "stdout",
     "output_type": "stream",
     "text": [
      "6\n"
     ]
    }
   ],
   "source": [
    "st=\"Harsha\"\n",
    "print(len(st))"
   ]
  },
  {
   "cell_type": "markdown",
   "id": "a36789ec-3287-4557-ba16-0059f50d8555",
   "metadata": {},
   "source": [
    "<b>2. Take a string input from the user and print it in reverse.</b>"
   ]
  },
  {
   "cell_type": "code",
   "execution_count": 2,
   "id": "e1a9b571-fce4-4743-9dec-40915698fef7",
   "metadata": {},
   "outputs": [
    {
     "name": "stdin",
     "output_type": "stream",
     "text": [
      "Enter a String: HARSHA\n"
     ]
    },
    {
     "name": "stdout",
     "output_type": "stream",
     "text": [
      "AHSRAH\n"
     ]
    }
   ],
   "source": [
    "st=input(\"Enter a String:\")\n",
    "string_reverse=st[::-1]\n",
    "print(string_reverse)"
   ]
  },
  {
   "cell_type": "markdown",
   "id": "cdbc354c-dadf-4f7b-9abb-d8ca1d30e4b6",
   "metadata": {},
   "source": [
    "<b>3. Replace all occurrences of \"A\" with \"@\" in a given string.</b>"
   ]
  },
  {
   "cell_type": "code",
   "execution_count": 3,
   "id": "c758dc30-59e1-491a-9356-911a76457969",
   "metadata": {},
   "outputs": [
    {
     "data": {
      "text/plain": [
       "'H@RSH@'"
      ]
     },
     "execution_count": 3,
     "metadata": {},
     "output_type": "execute_result"
    }
   ],
   "source": [
    "st.replace(\"A\",\"@\")"
   ]
  },
  {
   "cell_type": "markdown",
   "id": "6c6c1598-61c3-4df2-8857-c378b0c68b6b",
   "metadata": {},
   "source": [
    "<b>4. Convert a string to all uppercase letters using a loop (without .upper()).</b>"
   ]
  },
  {
   "cell_type": "code",
   "execution_count": 4,
   "id": "c27f71ca-fa18-4b35-80c9-b138c361d1ff",
   "metadata": {},
   "outputs": [
    {
     "name": "stdout",
     "output_type": "stream",
     "text": [
      "HARSHA\n"
     ]
    }
   ],
   "source": [
    "a = \"harsha\"\n",
    "upper=\"\"\n",
    "for i in a:\n",
    "    if 'a'<= i <= 'z':\n",
    "        upper+=chr(ord(i)-32)\n",
    "    else:\n",
    "        upper+=i\n",
    "print(upper)"
   ]
  },
  {
   "cell_type": "markdown",
   "id": "ce625317-6ef8-4814-ad88-3f1996b87a60",
   "metadata": {},
   "source": [
    "<b>5. Count how many times the letter \"e\" appears in a string.</b>"
   ]
  },
  {
   "cell_type": "code",
   "execution_count": 5,
   "id": "bb59ddb5-176b-4e38-bd11-dc167eb37a61",
   "metadata": {},
   "outputs": [
    {
     "data": {
      "text/plain": [
       "1"
      ]
     },
     "execution_count": 5,
     "metadata": {},
     "output_type": "execute_result"
    }
   ],
   "source": [
    "st=\"aimnext\"\n",
    "st.count(\"e\")"
   ]
  },
  {
   "cell_type": "markdown",
   "id": "aacecebb-b8c3-43c1-8ff5-4c7ca67b3e1b",
   "metadata": {},
   "source": [
    "<b>6. Print the first and last character of a given string.</b>"
   ]
  },
  {
   "cell_type": "code",
   "execution_count": 6,
   "id": "71c9aed2-011e-44e0-a9fd-cbe4f9cd5f04",
   "metadata": {},
   "outputs": [
    {
     "name": "stdout",
     "output_type": "stream",
     "text": [
      "a\n",
      "t\n"
     ]
    }
   ],
   "source": [
    "st=\"aimnext\"\n",
    "print(st[0])\n",
    "print(st[-1])"
   ]
  },
  {
   "cell_type": "markdown",
   "id": "f74d8da9-305c-4306-ba03-c23dd664e72f",
   "metadata": {},
   "source": [
    "<b>7.Concatenate two strings and print the result.</b>"
   ]
  },
  {
   "cell_type": "code",
   "execution_count": 7,
   "id": "b305f66d-d712-49f3-9b16-d2fdacddca16",
   "metadata": {},
   "outputs": [
    {
     "name": "stdout",
     "output_type": "stream",
     "text": [
      "datascience\n"
     ]
    }
   ],
   "source": [
    "str1=\"data\"\n",
    "str2=\"science\"\n",
    "st=str1+str2\n",
    "print(st)"
   ]
  },
  {
   "cell_type": "markdown",
   "id": "092356ea-e5b0-43d4-885f-081868628639",
   "metadata": {},
   "source": [
    "<b>8.Check if a given string contains the word \"Python\".</b>"
   ]
  },
  {
   "cell_type": "code",
   "execution_count": 8,
   "id": "3d43149e-67dd-4f3c-93f4-aef1e0467202",
   "metadata": {},
   "outputs": [
    {
     "name": "stdout",
     "output_type": "stream",
     "text": [
      "True\n",
      "False\n"
     ]
    }
   ],
   "source": [
    "str1=\"nopython\"\n",
    "str2=\"nopyton\"\n",
    "print(\"python\" in str1)\n",
    "print(\"python\"in str2)"
   ]
  },
  {
   "cell_type": "markdown",
   "id": "d2e87555-bdd6-4448-ba40-0d76076aec6c",
   "metadata": {},
   "source": [
    "<b>9. Remove all spaces from a string and print the new string.</b>"
   ]
  },
  {
   "cell_type": "code",
   "execution_count": 9,
   "id": "4b530318-9f73-410c-b29a-226a1212f410",
   "metadata": {},
   "outputs": [
    {
     "name": "stdout",
     "output_type": "stream",
     "text": [
      "pythonprogramming\n"
     ]
    }
   ],
   "source": [
    "original_string=\"pyth on pro grammi ng\"\n",
    "remove_spaces=original_string.replace(\" \",\"\")\n",
    "print(remove_spaces)"
   ]
  },
  {
   "cell_type": "markdown",
   "id": "81d35917-e3e4-48d3-a12c-ad2920fc25d2",
   "metadata": {},
   "source": [
    "<b>10.Extract and print the first five characters of a string.</b>"
   ]
  },
  {
   "cell_type": "code",
   "execution_count": 10,
   "id": "c2c6728d-b162-44e7-8f05-5497189e43c5",
   "metadata": {},
   "outputs": [
    {
     "data": {
      "text/plain": [
       "'Machi'"
      ]
     },
     "execution_count": 10,
     "metadata": {},
     "output_type": "execute_result"
    }
   ],
   "source": [
    "st=\"Machine Learning\"\n",
    "st[0:5]"
   ]
  },
  {
   "cell_type": "markdown",
   "id": "31db0114-b6c4-46b9-b51e-451aedcdff2f",
   "metadata": {},
   "source": [
    "<b>11.Create a list of five numbers and print the list.</b>"
   ]
  },
  {
   "cell_type": "code",
   "execution_count": 11,
   "id": "029e53bf-97ca-4b34-8009-f6d29e62bacc",
   "metadata": {},
   "outputs": [
    {
     "name": "stdout",
     "output_type": "stream",
     "text": [
      "[1, 2, 3, 4, 5]\n"
     ]
    }
   ],
   "source": [
    "lis=[1,2,3,4,5]\n",
    "print(lis)"
   ]
  },
  {
   "cell_type": "markdown",
   "id": "64f8c4df-f7dd-44f7-a8cf-1c3925f4a2b6",
   "metadata": {},
   "source": [
    "<b>12.Print the third element of a given list.</b>"
   ]
  },
  {
   "cell_type": "code",
   "execution_count": 12,
   "id": "30ed81c3-f25a-4ed9-a98c-05dd1c9d8843",
   "metadata": {},
   "outputs": [
    {
     "data": {
      "text/plain": [
       "3"
      ]
     },
     "execution_count": 12,
     "metadata": {},
     "output_type": "execute_result"
    }
   ],
   "source": [
    "lis[2]"
   ]
  },
  {
   "cell_type": "markdown",
   "id": "d3647175-f974-434c-acb3-32a754ac29d7",
   "metadata": {},
   "source": [
    "<b>13.Replace the second element of a list with \"hello\".</b>"
   ]
  },
  {
   "cell_type": "code",
   "execution_count": 13,
   "id": "61ba3c61-c61b-4a05-a077-75f8406680b6",
   "metadata": {},
   "outputs": [
    {
     "data": {
      "text/plain": [
       "[1, 2, 'hello', 4, 5]"
      ]
     },
     "execution_count": 13,
     "metadata": {},
     "output_type": "execute_result"
    }
   ],
   "source": [
    "lis[2]=\"hello\"\n",
    "lis"
   ]
  },
  {
   "cell_type": "markdown",
   "id": "cb8f372f-c970-4b9a-9429-7b071eca3b5f",
   "metadata": {},
   "source": [
    "<b>14.Add a new element to the end of a list./b<"
   ]
  },
  {
   "cell_type": "code",
   "execution_count": 14,
   "id": "25f7a1e7-322a-4c19-a6e7-e8d77d7e7dd2",
   "metadata": {},
   "outputs": [
    {
     "data": {
      "text/plain": [
       "[1, 2, 'hello', 4, 5, 'Rahul']"
      ]
     },
     "execution_count": 14,
     "metadata": {},
     "output_type": "execute_result"
    }
   ],
   "source": [
    "lis + [29]\n",
    "lis + [\"Rahul\"]"
   ]
  },
  {
   "cell_type": "markdown",
   "id": "7d0aa0ca-43c0-4fb4-8ab7-f0cee9aac68f",
   "metadata": {},
   "source": [
    "<b>15.Remove the last element from a list and print the modified list.</b>"
   ]
  },
  {
   "cell_type": "code",
   "execution_count": 15,
   "id": "01a94211-3643-48c9-b61d-90fe19983909",
   "metadata": {},
   "outputs": [
    {
     "data": {
      "text/plain": [
       "'Rahul'"
      ]
     },
     "execution_count": 15,
     "metadata": {},
     "output_type": "execute_result"
    }
   ],
   "source": [
    "lis=[1, 2, 'hello', 4, 5, 29, 'Rahul']\n",
    "lis.pop(-1)"
   ]
  },
  {
   "cell_type": "code",
   "execution_count": 16,
   "id": "66fcb009-d97f-4dd0-943e-18e713b59cf7",
   "metadata": {},
   "outputs": [
    {
     "data": {
      "text/plain": [
       "[1, 2, 'hello', 4, 5, 29]"
      ]
     },
     "execution_count": 16,
     "metadata": {},
     "output_type": "execute_result"
    }
   ],
   "source": [
    "lis"
   ]
  },
  {
   "cell_type": "markdown",
   "id": "74407fad-8dd3-483b-89a6-1033ce7faa60",
   "metadata": {},
   "source": [
    "<b>16.Print each element of a list one by one using a loop.</b>"
   ]
  },
  {
   "cell_type": "code",
   "execution_count": 17,
   "id": "752b4863-5983-47d6-9db1-df518fb516a4",
   "metadata": {},
   "outputs": [
    {
     "name": "stdout",
     "output_type": "stream",
     "text": [
      "1\n",
      "2\n",
      "hello\n",
      "4\n",
      "5\n",
      "29\n"
     ]
    }
   ],
   "source": [
    "for items in lis:\n",
    "    print(items)"
   ]
  },
  {
   "cell_type": "markdown",
   "id": "0622a9d7-8a9c-4dfa-b60b-f60ee7930183",
   "metadata": {},
   "source": [
    "<b>17.Check if the number 10 is in a given list.</b>"
   ]
  },
  {
   "cell_type": "code",
   "execution_count": 18,
   "id": "b58aae38-a02a-42e6-aae0-86459eb804d3",
   "metadata": {},
   "outputs": [
    {
     "data": {
      "text/plain": [
       "False"
      ]
     },
     "execution_count": 18,
     "metadata": {},
     "output_type": "execute_result"
    }
   ],
   "source": [
    "10 in lis"
   ]
  },
  {
   "cell_type": "markdown",
   "id": "b978e320-97da-4807-8ac5-d5eebf84aaf3",
   "metadata": {},
   "source": [
    "<b>18.Create two lists and join them into one.</b>"
   ]
  },
  {
   "cell_type": "code",
   "execution_count": 19,
   "id": "90c7f94d-d10a-4548-bd55-c8a925cff0a8",
   "metadata": {},
   "outputs": [
    {
     "name": "stdout",
     "output_type": "stream",
     "text": [
      "[1, 2, 'Harsha', True, 4, 5, 'Nani', False]\n"
     ]
    }
   ],
   "source": [
    "list1=[1,2,\"Harsha\",True]\n",
    "list2=[4,5,\"Nani\",False]\n",
    "print(list1+list2)"
   ]
  },
  {
   "cell_type": "markdown",
   "id": "1385ff7a-5a4e-475d-86d8-8b4df56f0cdb",
   "metadata": {},
   "source": [
    "<b>19.Print a list in reverse order without using slicing ([::-1]).</b>"
   ]
  },
  {
   "cell_type": "code",
   "execution_count": 20,
   "id": "1df330df-8ea9-496b-a2ba-1c078f6df89e",
   "metadata": {},
   "outputs": [],
   "source": [
    "lis=[1,2,\"Harsha\",True]"
   ]
  },
  {
   "cell_type": "code",
   "execution_count": 21,
   "id": "7f6bbd00-024d-421c-b14c-af050320427a",
   "metadata": {},
   "outputs": [
    {
     "data": {
      "text/plain": [
       "[True, 'Harsha', 2, 1]"
      ]
     },
     "execution_count": 21,
     "metadata": {},
     "output_type": "execute_result"
    }
   ],
   "source": [
    "lis.reverse()\n",
    "lis"
   ]
  },
  {
   "cell_type": "markdown",
   "id": "17543bf0-fa65-4b1a-b5a2-2211e168dd2e",
   "metadata": {},
   "source": [
    "<b>20.Sort a list in ascending order without using .sort().</b>\n"
   ]
  },
  {
   "cell_type": "code",
   "execution_count": 22,
   "id": "0479cde8-99e2-43cc-bc68-b9eaf689c8ad",
   "metadata": {},
   "outputs": [
    {
     "data": {
      "text/plain": [
       "{1, 3, 23, 26, 37}"
      ]
     },
     "execution_count": 22,
     "metadata": {},
     "output_type": "execute_result"
    }
   ],
   "source": [
    "lis=[23,26,37,1,3]\n",
    "l=set(lis)\n",
    "l"
   ]
  },
  {
   "cell_type": "markdown",
   "id": "c942b210-1b95-446e-9f75-923015ca9e5c",
   "metadata": {},
   "source": [
    "<b>21.Create a tuple of three colors and print it.</b>"
   ]
  },
  {
   "cell_type": "code",
   "execution_count": 23,
   "id": "2cb0b1ea-e338-4f7f-b64f-be9199a82017",
   "metadata": {},
   "outputs": [],
   "source": [
    "tupl=(\"Red\",\"Yellow\",\"Green\")"
   ]
  },
  {
   "cell_type": "code",
   "execution_count": 24,
   "id": "b5bdc5ac-f2ed-40fb-aca9-e5303c25f6bf",
   "metadata": {},
   "outputs": [
    {
     "data": {
      "text/plain": [
       "('Red', 'Yellow', 'Green')"
      ]
     },
     "execution_count": 24,
     "metadata": {},
     "output_type": "execute_result"
    }
   ],
   "source": [
    "tupl"
   ]
  },
  {
   "cell_type": "markdown",
   "id": "c5050875-1e04-46ba-8c90-56a61c95d6a7",
   "metadata": {},
   "source": [
    "<b>22.Print the second element of a given tuple</b>"
   ]
  },
  {
   "cell_type": "code",
   "execution_count": 25,
   "id": "aecf0546-8227-4bd6-9740-ac4b808e3fb0",
   "metadata": {},
   "outputs": [
    {
     "data": {
      "text/plain": [
       "'Yellow'"
      ]
     },
     "execution_count": 25,
     "metadata": {},
     "output_type": "execute_result"
    }
   ],
   "source": [
    "tupl[1]"
   ]
  },
  {
   "cell_type": "markdown",
   "id": "e8481a61-d0e5-4c77-9ea6-6d8de2610f41",
   "metadata": {},
   "source": [
    "<b>23.Try changing an element in a tuple (observe the error).</b>"
   ]
  },
  {
   "cell_type": "code",
   "execution_count": 26,
   "id": "f6477986-f805-4a6b-901a-00ca7596ba0b",
   "metadata": {},
   "outputs": [
    {
     "ename": "TypeError",
     "evalue": "'tuple' object does not support item assignment",
     "output_type": "error",
     "traceback": [
      "\u001b[1;31m---------------------------------------------------------------------------\u001b[0m",
      "\u001b[1;31mTypeError\u001b[0m                                 Traceback (most recent call last)",
      "Cell \u001b[1;32mIn[26], line 1\u001b[0m\n\u001b[1;32m----> 1\u001b[0m tupl[\u001b[38;5;241m1\u001b[39m]\u001b[38;5;241m=\u001b[39m\u001b[38;5;124m\"\u001b[39m\u001b[38;5;124mviolet\u001b[39m\u001b[38;5;124m\"\u001b[39m\n",
      "\u001b[1;31mTypeError\u001b[0m: 'tuple' object does not support item assignment"
     ]
    }
   ],
   "source": [
    "tupl[1]=\"violet\""
   ]
  },
  {
   "cell_type": "markdown",
   "id": "ffb96236-4afd-430a-b859-f07f38eb82e0",
   "metadata": {},
   "source": [
    "<b>24.Convert a tuple to a list and print it.</b>"
   ]
  },
  {
   "cell_type": "code",
   "execution_count": 27,
   "id": "b3d84d3c-c52e-4948-808d-c560b3d02981",
   "metadata": {},
   "outputs": [
    {
     "data": {
      "text/plain": [
       "[1, 3, 'game', 'True']"
      ]
     },
     "execution_count": 27,
     "metadata": {},
     "output_type": "execute_result"
    }
   ],
   "source": [
    "tuple1=(1,3,\"game\",\"True\")\n",
    "tup1=list(tuple1)\n",
    "tup1"
   ]
  },
  {
   "cell_type": "markdown",
   "id": "c4f9ced3-c358-4905-ad4d-1637bb5f7531",
   "metadata": {},
   "source": [
    "<b>25.Check if \"blue\" exists in a given tuple.</b>"
   ]
  },
  {
   "cell_type": "code",
   "execution_count": 28,
   "id": "52a3ed42-4752-4823-a975-0a6ac845ce76",
   "metadata": {},
   "outputs": [
    {
     "data": {
      "text/plain": [
       "('Red', 'Yellow', 'Green')"
      ]
     },
     "execution_count": 28,
     "metadata": {},
     "output_type": "execute_result"
    }
   ],
   "source": [
    "tupl"
   ]
  },
  {
   "cell_type": "code",
   "execution_count": 29,
   "id": "ab058971-9f78-4438-8a58-9e2d8b3b1f0c",
   "metadata": {},
   "outputs": [
    {
     "data": {
      "text/plain": [
       "False"
      ]
     },
     "execution_count": 29,
     "metadata": {},
     "output_type": "execute_result"
    }
   ],
   "source": [
    "\"blue\" in tupl"
   ]
  },
  {
   "cell_type": "markdown",
   "id": "e49f2fe6-6c8e-4102-a814-3e35eb331dae",
   "metadata": {},
   "source": [
    "<b>26.Print each element of a tuple using a loop.</b>"
   ]
  },
  {
   "cell_type": "code",
   "execution_count": 30,
   "id": "f1659a0e-05a0-4620-8220-d9806b164894",
   "metadata": {},
   "outputs": [
    {
     "name": "stdout",
     "output_type": "stream",
     "text": [
      "Red\n",
      "Yellow\n",
      "Green\n"
     ]
    }
   ],
   "source": [
    "for items in tupl:\n",
    "    print(items)"
   ]
  },
  {
   "cell_type": "markdown",
   "id": "8cd9e027-8277-4fa5-840a-6a128204c239",
   "metadata": {},
   "source": [
    "<b>27.Merge two tuples and print the result.</b>"
   ]
  },
  {
   "cell_type": "code",
   "execution_count": 31,
   "id": "96702928-67ad-4ea4-8afa-d08f25a1f5b9",
   "metadata": {},
   "outputs": [
    {
     "data": {
      "text/plain": [
       "(1, 7, 'Aim', True, 2, 8, 'Next', False)"
      ]
     },
     "execution_count": 31,
     "metadata": {},
     "output_type": "execute_result"
    }
   ],
   "source": [
    "tuple1=(1,7,\"Aim\",True)\n",
    "tuple2=(2,8,\"Next\",False)\n",
    "tuple1+tuple2"
   ]
  },
  {
   "cell_type": "markdown",
   "id": "c25e9bed-f41a-4dd8-a721-93f6e0e2cb46",
   "metadata": {},
   "source": [
    "<b>28.Print a tuple in reverse order.</b>"
   ]
  },
  {
   "cell_type": "code",
   "execution_count": 32,
   "id": "8f9d3558-adcf-4824-8e25-ed952f1e0412",
   "metadata": {},
   "outputs": [
    {
     "data": {
      "text/plain": [
       "('Green', 'Yellow', 'Red')"
      ]
     },
     "execution_count": 32,
     "metadata": {},
     "output_type": "execute_result"
    }
   ],
   "source": [
    "tupl[::-1]"
   ]
  },
  {
   "cell_type": "markdown",
   "id": "79b148c5-deb9-48f3-8e2f-f65ff76b4e9d",
   "metadata": {},
   "source": [
    "<b>29.Find the length of a tuple without using len()</b>"
   ]
  },
  {
   "cell_type": "code",
   "execution_count": 33,
   "id": "97516be0-d299-4f3c-bcba-b9154e1922ea",
   "metadata": {},
   "outputs": [
    {
     "data": {
      "text/plain": [
       "('Red', 'Yellow', 'Green')"
      ]
     },
     "execution_count": 33,
     "metadata": {},
     "output_type": "execute_result"
    }
   ],
   "source": [
    "tupl"
   ]
  },
  {
   "cell_type": "code",
   "execution_count": 34,
   "id": "27bd9d4d-7bbd-4b03-86cc-6a07e363af5f",
   "metadata": {},
   "outputs": [
    {
     "name": "stdout",
     "output_type": "stream",
     "text": [
      "3\n"
     ]
    }
   ],
   "source": [
    "coun=0\n",
    "for i in tupl:\n",
    "    coun+=1\n",
    "print(coun)\n",
    "    "
   ]
  },
  {
   "cell_type": "markdown",
   "id": "5690a343-0943-4f52-9587-63518d5dbdea",
   "metadata": {},
   "source": [
    "<b>30.Create a tuple with a single element and print its type.</b>"
   ]
  },
  {
   "cell_type": "code",
   "execution_count": 35,
   "id": "05296fb6-fdf1-468c-b285-3570e846a3a4",
   "metadata": {},
   "outputs": [
    {
     "data": {
      "text/plain": [
       "int"
      ]
     },
     "execution_count": 35,
     "metadata": {},
     "output_type": "execute_result"
    }
   ],
   "source": [
    "tup=(1)\n",
    "type(tup)"
   ]
  },
  {
   "cell_type": "code",
   "execution_count": 36,
   "id": "57feeab9-ca4c-473b-a3a5-32c2c35b50c5",
   "metadata": {},
   "outputs": [
    {
     "data": {
      "text/plain": [
       "tuple"
      ]
     },
     "execution_count": 36,
     "metadata": {},
     "output_type": "execute_result"
    }
   ],
   "source": [
    "tup=(1,2)\n",
    "type(tup)"
   ]
  },
  {
   "cell_type": "code",
   "execution_count": 37,
   "id": "a0843f2b-cc29-4c6e-9c2a-d1747cb3c66d",
   "metadata": {},
   "outputs": [
    {
     "data": {
      "text/plain": [
       "str"
      ]
     },
     "execution_count": 37,
     "metadata": {},
     "output_type": "execute_result"
    }
   ],
   "source": [
    "tup=(\"Hie\")\n",
    "type(tup)"
   ]
  },
  {
   "cell_type": "markdown",
   "id": "619941c1-8eb1-4cef-97df-4804cf73b243",
   "metadata": {},
   "source": [
    "<b>31.Create a string \"Hello, World!\" and print only \"World!\".</b>"
   ]
  },
  {
   "cell_type": "code",
   "execution_count": 38,
   "id": "c0b34ea4-a1e5-48da-8ee4-89cc63649b0f",
   "metadata": {},
   "outputs": [
    {
     "data": {
      "text/plain": [
       "'World!'"
      ]
     },
     "execution_count": 38,
     "metadata": {},
     "output_type": "execute_result"
    }
   ],
   "source": [
    "stri=\"Hello World!\"\n",
    "stri[6:]"
   ]
  },
  {
   "cell_type": "markdown",
   "id": "783eec2d-e974-4eec-a307-b10f9ad767e1",
   "metadata": {},
   "source": [
    "<b>32.Convert \"Python is fun\" to \"PYTHON IS FUN\" without using .upper().</b>"
   ]
  },
  {
   "cell_type": "code",
   "execution_count": 39,
   "id": "d83a4d1d-154b-45cc-8e47-1121229877d2",
   "metadata": {},
   "outputs": [
    {
     "name": "stdout",
     "output_type": "stream",
     "text": [
      "PYTHON IS FUN\n"
     ]
    }
   ],
   "source": [
    "a = \"Python is fun\"\n",
    "upper=\"\"\n",
    "for i in a:\n",
    "    if 'a'<= i <= 'z':\n",
    "        upper+=chr(ord(i)-32)\n",
    "    else:\n",
    "        upper+=i\n",
    "print(upper)\n",
    "\n"
   ]
  },
  {
   "cell_type": "markdown",
   "id": "3c1bdf06-a7c4-4314-b26e-b94138f04547",
   "metadata": {},
   "source": [
    "<b>33.Count how many words are in \"I love learning Python\" (without using .split()).</b>"
   ]
  },
  {
   "cell_type": "code",
   "execution_count": 40,
   "id": "785a7d4c-7e3a-4e61-ad27-11074b5bf0c0",
   "metadata": {},
   "outputs": [
    {
     "name": "stdout",
     "output_type": "stream",
     "text": [
      "4\n"
     ]
    }
   ],
   "source": [
    "str1=\"I love learning Python\"\n",
    "coun=1\n",
    "for items in str1:\n",
    "    if items== \" \":\n",
    "        coun+=1\n",
    "print(coun)"
   ]
  },
  {
   "cell_type": "code",
   "execution_count": 88,
   "id": "94f2b8f7-eb81-43f1-bf8a-b5e8c0c3f5a5",
   "metadata": {},
   "outputs": [
    {
     "name": "stdout",
     "output_type": "stream",
     "text": [
      "4\n"
     ]
    }
   ],
   "source": [
    "sentence = \"I love learning   Python\"\n",
    "count = 0\n",
    "in_wod=False\n",
    "for char in sentence:\n",
    "    if char != ' ' and not in_wod:\n",
    "        count += 1\n",
    "        in_wod=True\n",
    "    elif char == ' ':\n",
    "        in_wod=False\n",
    "print(count)"
   ]
  },
  {
   "cell_type": "markdown",
   "id": "e34ed419-46af-4bbb-ad81-bb6d964bdbb4",
   "metadata": {},
   "source": [
    "<b>34.Take a string input from the user and check if it starts with \"Hello\".\n",
    "</b>"
   ]
  },
  {
   "cell_type": "code",
   "execution_count": 41,
   "id": "d1b53b79-c441-44da-92c0-1e273c6706f1",
   "metadata": {},
   "outputs": [
    {
     "name": "stdin",
     "output_type": "stream",
     "text": [
      "Enter a String HeLLO world\n"
     ]
    }
   ],
   "source": [
    "a=input(\"Enter a String\")"
   ]
  },
  {
   "cell_type": "code",
   "execution_count": 42,
   "id": "dec37cd5-f74b-49fe-ab4a-7f0c15d969fa",
   "metadata": {},
   "outputs": [
    {
     "data": {
      "text/plain": [
       "False"
      ]
     },
     "execution_count": 42,
     "metadata": {},
     "output_type": "execute_result"
    }
   ],
   "source": [
    "a.startswith(\"Hello\")"
   ]
  },
  {
   "cell_type": "markdown",
   "id": "db8f7f53-3987-44b0-8b76-2f9336b66bdf",
   "metadata": {},
   "source": [
    "<b>35.Print every second character of a string.</b>"
   ]
  },
  {
   "cell_type": "code",
   "execution_count": 43,
   "id": "f98e19e9-4fc6-44ac-b8aa-3ef5f4ed5042",
   "metadata": {},
   "outputs": [
    {
     "name": "stdout",
     "output_type": "stream",
     "text": [
      "e\n",
      "e\n",
      "n\n",
      "a\n",
      "e\n"
     ]
    }
   ],
   "source": [
    "stri=\"Deep learning and Machine Learning\"\n",
    "lis1=stri.split()\n",
    "length=len(lis1)\n",
    "for i in range(0,length):\n",
    "    print(lis1[i][1])\n",
    "\n",
    "            \n"
   ]
  },
  {
   "cell_type": "markdown",
   "id": "095594a8-c3d8-4b5c-b05c-e94db0f9c71d",
   "metadata": {},
   "source": [
    "<b>36.Replace all vowels in a string with \"*\".</b>"
   ]
  },
  {
   "cell_type": "code",
   "execution_count": 44,
   "id": "751715a6-6cf1-41fd-a722-b6f1817cb8c8",
   "metadata": {},
   "outputs": [
    {
     "data": {
      "text/plain": [
       "'l**py**r'"
      ]
     },
     "execution_count": 44,
     "metadata": {},
     "output_type": "execute_result"
    }
   ],
   "source": [
    "stri=\"leapyear\"\n",
    "str1=\"aeiouAEIOU\"\n",
    "output=\"\"\n",
    "for i in range(len(stri)):\n",
    "    if stri[i] in str1:\n",
    "        output+=\"*\"\n",
    "    else:\n",
    "        output+=stri[i]\n",
    "output"
   ]
  },
  {
   "cell_type": "markdown",
   "id": "e8b70639-4b67-4d1b-9002-f3cd45b847d3",
   "metadata": {},
   "source": [
    "<b>37.Swap the first and last character of a string.</b>"
   ]
  },
  {
   "cell_type": "code",
   "execution_count": 45,
   "id": "5a955e8b-afac-4b5e-849a-7ad0776ca39d",
   "metadata": {},
   "outputs": [
    {
     "name": "stdout",
     "output_type": "stream",
     "text": [
      "deterEnglanP\n"
     ]
    }
   ],
   "source": [
    "c=\"PeterEngland\"\n",
    "first_character=c[0]\n",
    "last_character=c[-1]\n",
    "middle_characters=c[1:-1]\n",
    "print(last_character+middle_characters+first_character)\n"
   ]
  },
  {
   "cell_type": "markdown",
   "id": "42efc745-eaf3-4474-8825-b68995b52328",
   "metadata": {},
   "source": [
    "<b>38.Check if two given strings are the same (case-sensitive).</b>"
   ]
  },
  {
   "cell_type": "code",
   "execution_count": 46,
   "id": "35710553-0fad-40c1-9125-dac5650832e0",
   "metadata": {},
   "outputs": [
    {
     "data": {
      "text/plain": [
       "False"
      ]
     },
     "execution_count": 46,
     "metadata": {},
     "output_type": "execute_result"
    }
   ],
   "source": [
    "str1=\"Hello\"\n",
    "str2=\"helLO\"\n",
    "str1==str2"
   ]
  },
  {
   "cell_type": "markdown",
   "id": "27424435-1f8b-4bc0-b935-9d0fda1fcd6c",
   "metadata": {},
   "source": [
    "<b>39.Print a string without the first and last character.</b>"
   ]
  },
  {
   "cell_type": "code",
   "execution_count": 47,
   "id": "3d045727-be0b-4c3d-99d4-b63906323d8c",
   "metadata": {},
   "outputs": [
    {
     "data": {
      "text/plain": [
       "'eterEnglan'"
      ]
     },
     "execution_count": 47,
     "metadata": {},
     "output_type": "execute_result"
    }
   ],
   "source": [
    "c=\"PeterEngland\"\n",
    "c[1:-1]"
   ]
  },
  {
   "cell_type": "markdown",
   "id": "862da73e-eec4-4298-97f2-3f8b10311207",
   "metadata": {},
   "source": [
    "<b>40.Convert a string \"12345\" into a list of individual characters.\n",
    "</b>"
   ]
  },
  {
   "cell_type": "code",
   "execution_count": 48,
   "id": "b6fe8b66-bd6d-49d3-b617-6b64bc67942f",
   "metadata": {},
   "outputs": [
    {
     "data": {
      "text/plain": [
       "['1', '2', '3', '4', '5']"
      ]
     },
     "execution_count": 48,
     "metadata": {},
     "output_type": "execute_result"
    }
   ],
   "source": [
    "st=\"12345\"\n",
    "li=list(st)\n",
    "li\n"
   ]
  },
  {
   "cell_type": "markdown",
   "id": "8050a6b2-ca59-41a6-8fa2-1a6abfa0e727",
   "metadata": {},
   "source": [
    "<b>41.Create a list of five cities and print only the last three.</b>"
   ]
  },
  {
   "cell_type": "code",
   "execution_count": 49,
   "id": "82d942c0-138e-4db7-9477-4380e1557419",
   "metadata": {},
   "outputs": [
    {
     "data": {
      "text/plain": [
       "['Banglore', 'Miryalguda', 'Mumbai']"
      ]
     },
     "execution_count": 49,
     "metadata": {},
     "output_type": "execute_result"
    }
   ],
   "source": [
    "listt=[\"Hyderabad\",\"Suryapet\",\"Banglore\",\"Miryalguda\",\"Mumbai\"]\n",
    "listt[-3:]"
   ]
  },
  {
   "cell_type": "markdown",
   "id": "88007199-9337-4460-b3b9-dd7b39d4d99f",
   "metadata": {},
   "source": [
    "<b>42.Remove the middle element from a list of five elements.</b>"
   ]
  },
  {
   "cell_type": "code",
   "execution_count": 50,
   "id": "71a535d7-7616-4d4b-8450-d650ccd2ba1d",
   "metadata": {},
   "outputs": [
    {
     "data": {
      "text/plain": [
       "'Banglore'"
      ]
     },
     "execution_count": 50,
     "metadata": {},
     "output_type": "execute_result"
    }
   ],
   "source": [
    "listt=[\"Hyderabad\",\"Suryapet\",\"Banglore\",\"Miryalguda\",\"Mumbai\"]\n",
    "length=len(listt)\n",
    "avg=int((length+1)/2)\n",
    "listt[avg-1]\n"
   ]
  },
  {
   "cell_type": "markdown",
   "id": "29ed0979-8df1-4c52-abd7-95a666dadbf8",
   "metadata": {},
   "source": [
    "<b>43.Take five numbers from the user and store them in a list.</b>"
   ]
  },
  {
   "cell_type": "code",
   "execution_count": 51,
   "id": "bf51809d-5c9f-4f27-a430-9995df947a49",
   "metadata": {},
   "outputs": [
    {
     "name": "stdin",
     "output_type": "stream",
     "text": [
      "Enter 1 Number 1\n",
      "Enter 2 Number 12\n",
      "Enter 3 Number 123\n",
      "Enter 4 Number 1234\n",
      "Enter 5 Number 12345\n"
     ]
    }
   ],
   "source": [
    "lis=[]\n",
    "for i in range(0,5):\n",
    "    a=int(input(f\"Enter {i+1} Number\" ))\n",
    "    lis.append(a)"
   ]
  },
  {
   "cell_type": "code",
   "execution_count": 52,
   "id": "35380a3c-2e3e-4eb4-8b07-736795b63fbf",
   "metadata": {},
   "outputs": [
    {
     "data": {
      "text/plain": [
       "[1, 12, 123, 1234, 12345]"
      ]
     },
     "execution_count": 52,
     "metadata": {},
     "output_type": "execute_result"
    }
   ],
   "source": [
    "lis"
   ]
  },
  {
   "cell_type": "markdown",
   "id": "3b34f61d-27bc-462a-86d7-a3a36eda5955",
   "metadata": {},
   "source": [
    "<b>44.Find the index of \"apple\" in the list [\"banana\", \"orange\", \"apple\", \"grape\"].\n",
    "</b>"
   ]
  },
  {
   "cell_type": "code",
   "execution_count": 53,
   "id": "51329f59-65f9-4dce-b177-458cca5b0693",
   "metadata": {},
   "outputs": [
    {
     "data": {
      "text/plain": [
       "2"
      ]
     },
     "execution_count": 53,
     "metadata": {},
     "output_type": "execute_result"
    }
   ],
   "source": [
    "li= [\"banana\", \"orange\", \"apple\", \"grape\"]\n",
    "li.index(\"apple\")"
   ]
  },
  {
   "cell_type": "markdown",
   "id": "1ee393c2-aa63-4e90-b3fb-2c9cb121c5b7",
   "metadata": {},
   "source": [
    "<b>45.Print only the even numbers from a given list.</b>"
   ]
  },
  {
   "cell_type": "code",
   "execution_count": 54,
   "id": "42bfc042-f37a-4a76-aa28-b03766fee7f1",
   "metadata": {},
   "outputs": [
    {
     "name": "stdout",
     "output_type": "stream",
     "text": [
      "2\n",
      "4\n",
      "6\n",
      "8\n",
      "10\n"
     ]
    }
   ],
   "source": [
    "lis=[1,2,3,4,5,6,7,8,9,10]\n",
    "for item in lis:\n",
    "    if item%2==0:\n",
    "        print(item)"
   ]
  },
  {
   "cell_type": "markdown",
   "id": "37ea178e-0ba9-4402-9f40-b1764e2943f5",
   "metadata": {},
   "source": [
    "<b>46.Reverse a list by swapping elements (without [::-1]).\n",
    "</b>"
   ]
  },
  {
   "cell_type": "code",
   "execution_count": 77,
   "id": "ffb40ebd-c3a0-43f3-9aeb-5c009723b962",
   "metadata": {},
   "outputs": [
    {
     "name": "stdout",
     "output_type": "stream",
     "text": [
      "[5, 4, 3, 2, 1]\n"
     ]
    }
   ],
   "source": [
    "list1 = [1, 2, 3, 4, 5]\n",
    "length = len(list1)\n",
    "\n",
    "for i in range(length // 2):\n",
    "    list1[i], list1[length - 1 - i] = list1[length - 1 - i], list1[i]\n",
    "\n",
    "print(list1)\n",
    "\n",
    "\n"
   ]
  },
  {
   "cell_type": "markdown",
   "id": "d0d77ee0-fe45-4444-8d57-f4c66ba028d4",
   "metadata": {},
   "source": [
    "<b>47.Create a list of ten numbers and print only the unique elements.</b>"
   ]
  },
  {
   "cell_type": "code",
   "execution_count": 56,
   "id": "ac20619a-9b41-4b5b-b74f-3e2af9fc51a5",
   "metadata": {},
   "outputs": [
    {
     "name": "stdin",
     "output_type": "stream",
     "text": [
      "Enter 1 Number 1\n",
      "Enter 2 Number 1\n",
      "Enter 3 Number 2\n",
      "Enter 4 Number 3\n",
      "Enter 5 Number 4\n",
      "Enter 6 Number 5\n",
      "Enter 7 Number 5\n",
      "Enter 8 Number 6\n",
      "Enter 9 Number 7\n",
      "Enter 10 Number 7\n"
     ]
    }
   ],
   "source": [
    "lis=[]\n",
    "for i in range(0,10):\n",
    "    a=int(input(f\"Enter {i+1} Number\" ))\n",
    "    lis.append(a)"
   ]
  },
  {
   "cell_type": "code",
   "execution_count": 57,
   "id": "9f3372ea-7e0f-410d-883e-8f460e764f75",
   "metadata": {},
   "outputs": [
    {
     "data": {
      "text/plain": [
       "[1, 1, 2, 3, 4, 5, 5, 6, 7, 7]"
      ]
     },
     "execution_count": 57,
     "metadata": {},
     "output_type": "execute_result"
    }
   ],
   "source": [
    "lis"
   ]
  },
  {
   "cell_type": "code",
   "execution_count": 58,
   "id": "65188655-24a8-4f19-97f5-c68f7cbc3e9c",
   "metadata": {},
   "outputs": [
    {
     "data": {
      "text/plain": [
       "{1, 2, 3, 4, 5, 6, 7}"
      ]
     },
     "execution_count": 58,
     "metadata": {},
     "output_type": "execute_result"
    }
   ],
   "source": [
    "convert_to_set=set(lis)\n",
    "convert_to_set"
   ]
  },
  {
   "cell_type": "code",
   "execution_count": 59,
   "id": "be6e6eb8-44ba-4778-9d0c-22f5590a9155",
   "metadata": {},
   "outputs": [
    {
     "name": "stdout",
     "output_type": "stream",
     "text": [
      "1\n",
      "2\n",
      "3\n",
      "4\n",
      "5\n",
      "6\n",
      "7\n"
     ]
    }
   ],
   "source": [
    "for items in convert_to_set:\n",
    "    print(items)"
   ]
  },
  {
   "cell_type": "markdown",
   "id": "cc772d83-5bd4-45ce-bdd0-e402c94dc174",
   "metadata": {},
   "source": [
    "<b>48.Print the sum of all elements in a list (without using sum()).\n",
    "</b>"
   ]
  },
  {
   "cell_type": "code",
   "execution_count": 60,
   "id": "44de7a37-f4bd-4903-a828-93e4dcf4ea4d",
   "metadata": {},
   "outputs": [
    {
     "data": {
      "text/plain": [
       "26892"
      ]
     },
     "execution_count": 60,
     "metadata": {},
     "output_type": "execute_result"
    }
   ],
   "source": [
    "list1=[10,33,37,4,3,26523,282]\n",
    "total=0\n",
    "for items in list1:\n",
    "    total+=items\n",
    "total"
   ]
  },
  {
   "cell_type": "code",
   "execution_count": 61,
   "id": "84880d81-5856-4427-95d3-c3ed0d90e9eb",
   "metadata": {},
   "outputs": [
    {
     "data": {
      "text/plain": [
       "26892"
      ]
     },
     "execution_count": 61,
     "metadata": {},
     "output_type": "execute_result"
    }
   ],
   "source": [
    "x=sum(list1)\n",
    "x"
   ]
  },
  {
   "cell_type": "markdown",
   "id": "61adb88e-b349-42fc-a97f-0a17c9124179",
   "metadata": {},
   "source": [
    "<b> 49.Move the first element of a list to the last position.</b>"
   ]
  },
  {
   "cell_type": "code",
   "execution_count": 62,
   "id": "dcf9a8f7-e2d7-4d67-86ed-57befcab7077",
   "metadata": {},
   "outputs": [
    {
     "data": {
      "text/plain": [
       "[12, 3, 45, 81, 1]"
      ]
     },
     "execution_count": 62,
     "metadata": {},
     "output_type": "execute_result"
    }
   ],
   "source": [
    "list1=[1,12,3,45,81]\n",
    "a=list1[0]\n",
    "list1.append(a)\n",
    "list1.pop(0)\n",
    "list1"
   ]
  },
  {
   "cell_type": "markdown",
   "id": "4a689ff0-456c-4481-88cc-307a5a42102f",
   "metadata": {},
   "source": [
    "<b>50.Create a list with mixed data types (int, float, string) and print each element with its type.</b>"
   ]
  },
  {
   "cell_type": "code",
   "execution_count": 63,
   "id": "332edf9f-e176-4b65-8c84-4e55bdcb369f",
   "metadata": {},
   "outputs": [
    {
     "name": "stdout",
     "output_type": "stream",
     "text": [
      "<class 'int'>\n",
      "<class 'float'>\n",
      "<class 'str'>\n"
     ]
    }
   ],
   "source": [
    "list1=[1,2.5,\"Ram\"]\n",
    "for items in list1:\n",
    "    print(type(items))\n"
   ]
  },
  {
   "cell_type": "markdown",
   "id": "74f024b3-c5d5-41c9-97d7-7b4cf5ca86d4",
   "metadata": {},
   "source": [
    "<b>51.Create a tuple of five numbers and print only the first three.</b>"
   ]
  },
  {
   "cell_type": "code",
   "execution_count": 64,
   "id": "0a48dff7-8384-48ec-8112-bc55dd18e309",
   "metadata": {},
   "outputs": [
    {
     "data": {
      "text/plain": [
       "(1, 2, 3)"
      ]
     },
     "execution_count": 64,
     "metadata": {},
     "output_type": "execute_result"
    }
   ],
   "source": [
    "tuple1=(1,2,3,4,5)\n",
    "tuple1[0:3]"
   ]
  },
  {
   "cell_type": "markdown",
   "id": "13daa757-7558-475c-830d-1616056b86b4",
   "metadata": {},
   "source": [
    "<b>52.Print the last element of a tuple without using negative indexing.</b>"
   ]
  },
  {
   "cell_type": "code",
   "execution_count": 65,
   "id": "0992b045-c5a6-49a3-8720-7b4af0aa2106",
   "metadata": {},
   "outputs": [
    {
     "name": "stdout",
     "output_type": "stream",
     "text": [
      "5\n"
     ]
    }
   ],
   "source": [
    "print(tuple1[(len(tuple1))-1])"
   ]
  },
  {
   "cell_type": "markdown",
   "id": "338ec931-896e-4e31-a14f-8931d350e396",
   "metadata": {},
   "source": [
    "<b>53.Convert a tuple (1, 2, 3, 4, 5) into a list and add a new number.</b>"
   ]
  },
  {
   "cell_type": "code",
   "execution_count": 66,
   "id": "78d24a5b-f934-4e2e-845e-b74b24218c0a",
   "metadata": {},
   "outputs": [
    {
     "data": {
      "text/plain": [
       "[1, 2, 3, 4, 5, 6]"
      ]
     },
     "execution_count": 66,
     "metadata": {},
     "output_type": "execute_result"
    }
   ],
   "source": [
    "list1=list(tuple1)\n",
    "list1.append(6)\n",
    "list1"
   ]
  },
  {
   "cell_type": "markdown",
   "id": "fc638eef-382c-49f6-bd04-c7cf4dc24252",
   "metadata": {},
   "source": [
    "<b>54.Try deleting an element from a tuple and observe the error.</b>"
   ]
  },
  {
   "cell_type": "code",
   "execution_count": 67,
   "id": "3169fe93-f1db-4ea5-8d52-88a561f0fa1b",
   "metadata": {},
   "outputs": [
    {
     "ename": "AttributeError",
     "evalue": "'tuple' object has no attribute 'remove'",
     "output_type": "error",
     "traceback": [
      "\u001b[1;31m---------------------------------------------------------------------------\u001b[0m",
      "\u001b[1;31mAttributeError\u001b[0m                            Traceback (most recent call last)",
      "Cell \u001b[1;32mIn[67], line 1\u001b[0m\n\u001b[1;32m----> 1\u001b[0m tuple1\u001b[38;5;241m.\u001b[39mremove(\u001b[38;5;241m3\u001b[39m)\n",
      "\u001b[1;31mAttributeError\u001b[0m: 'tuple' object has no attribute 'remove'"
     ]
    }
   ],
   "source": [
    "tuple1.remove(3)"
   ]
  },
  {
   "cell_type": "markdown",
   "id": "c60d1be6-7519-4941-9542-27601f114596",
   "metadata": {},
   "source": [
    "<b>55.Extract the middle element from a tuple with an odd number of elements.</b>"
   ]
  },
  {
   "cell_type": "code",
   "execution_count": 68,
   "id": "31bc9ea5-a0a6-4be1-810b-b0ac8ef25a5a",
   "metadata": {},
   "outputs": [
    {
     "data": {
      "text/plain": [
       "'Suryapet'"
      ]
     },
     "execution_count": 68,
     "metadata": {},
     "output_type": "execute_result"
    }
   ],
   "source": [
    "tuple2=(900,\"Suryapet\",20.9)\n",
    "length=len(tuple2)\n",
    "avg=int((length+1)/2)\n",
    "tuple2[avg-1]"
   ]
  },
  {
   "cell_type": "markdown",
   "id": "7db9150f-0776-401f-95d1-fcc0690346a7",
   "metadata": {},
   "source": [
    "<b>56.Check if two tuples (1, 2, 3) and (3, 2, 1) are the same.</b>"
   ]
  },
  {
   "cell_type": "code",
   "execution_count": 69,
   "id": "a2a89822-433d-43e9-b484-5c4f97c46754",
   "metadata": {},
   "outputs": [
    {
     "data": {
      "text/plain": [
       "False"
      ]
     },
     "execution_count": 69,
     "metadata": {},
     "output_type": "execute_result"
    }
   ],
   "source": [
    "tuple1=(1,2,3)\n",
    "tuple2=(3,2,1)\n",
    "tuple1==tuple2"
   ]
  },
  {
   "cell_type": "markdown",
   "id": "f641fed3-3f62-4342-a829-d7102a7f511d",
   "metadata": {},
   "source": [
    "<b>57.Create a nested tuple and print an inner element.</b>"
   ]
  },
  {
   "cell_type": "code",
   "execution_count": 70,
   "id": "721693ff-5e4d-4e97-8b7e-bc9cb6e6b366",
   "metadata": {},
   "outputs": [
    {
     "data": {
      "text/plain": [
       "7.0"
      ]
     },
     "execution_count": 70,
     "metadata": {},
     "output_type": "execute_result"
    }
   ],
   "source": [
    "tuple1=(1,2.0,(\"Harsha\",7.0,89),True)\n",
    "tuple1[2][1]"
   ]
  },
  {
   "cell_type": "markdown",
   "id": "8e2702f5-683b-4a01-a8e5-d66902924200",
   "metadata": {},
   "source": [
    "<b>58.Merge three tuples into one.</b>"
   ]
  },
  {
   "cell_type": "code",
   "execution_count": 71,
   "id": "76490ce3-31bb-4801-8392-73e657d20872",
   "metadata": {},
   "outputs": [
    {
     "data": {
      "text/plain": [
       "((1, 3, 5), (2, 4, 6), (7, 8, 9))"
      ]
     },
     "execution_count": 71,
     "metadata": {},
     "output_type": "execute_result"
    }
   ],
   "source": [
    "tuple1=(1,3,5)\n",
    "tuple2=(2,4,6)\n",
    "tuple3=(7,8,9)\n",
    "tuple4=(tuple1,tuple2,tuple3)\n",
    "tuple4"
   ]
  },
  {
   "cell_type": "markdown",
   "id": "2020807a-ec3d-4174-9372-4a0070653515",
   "metadata": {},
   "source": [
    "<b>59.Find the index of 5 in the tuple (1, 3, 5, 7, 9).\n",
    "</b>"
   ]
  },
  {
   "cell_type": "code",
   "execution_count": 72,
   "id": "8dde738f-d40b-4edb-9cea-42f0b2d97a89",
   "metadata": {},
   "outputs": [
    {
     "data": {
      "text/plain": [
       "2"
      ]
     },
     "execution_count": 72,
     "metadata": {},
     "output_type": "execute_result"
    }
   ],
   "source": [
    "tuple1=(1,3,5,7,9)\n",
    "tuple1.index(5)"
   ]
  },
  {
   "cell_type": "markdown",
   "id": "3812d399-2c6f-411b-8e98-1be6be65465f",
   "metadata": {},
   "source": [
    "<b>60.Unpack a tuple into separate variables.</b>"
   ]
  },
  {
   "cell_type": "code",
   "execution_count": 73,
   "id": "13ef7ca7-2734-48f3-b090-99587707369c",
   "metadata": {},
   "outputs": [
    {
     "name": "stdout",
     "output_type": "stream",
     "text": [
      "Dog\n",
      "Cat\n",
      "Donkey\n"
     ]
    }
   ],
   "source": [
    "animals=(\"Dog\",\"Cat\",\"Donkey\")\n",
    "(Rat,Bat,Pig)=animals\n",
    "print(Rat)\n",
    "print(Bat)\n",
    "print(Pig)"
   ]
  },
  {
   "cell_type": "code",
   "execution_count": 74,
   "id": "9492777c-e00b-4d84-911f-ca511a818f77",
   "metadata": {},
   "outputs": [
    {
     "name": "stdout",
     "output_type": "stream",
     "text": [
      "Dog\n",
      "Cat\n",
      "['Donkey', 'Fox', 'Roxy']\n"
     ]
    }
   ],
   "source": [
    "animals=(\"Dog\",\"Cat\",\"Donkey\",\"Fox\",\"Roxy\")\n",
    "(Rat,Bat,*Pig)=animals\n",
    "print(Rat)\n",
    "print(Bat)\n",
    "print(Pig)"
   ]
  },
  {
   "cell_type": "code",
   "execution_count": 75,
   "id": "eb359e68-11bd-45f7-9e16-c7e334193edf",
   "metadata": {},
   "outputs": [
    {
     "name": "stdout",
     "output_type": "stream",
     "text": [
      "Dog\n",
      "['Cat', 'Donkey', 'Fox']\n",
      "Roxy\n"
     ]
    }
   ],
   "source": [
    "animals=(\"Dog\",\"Cat\",\"Donkey\",\"Fox\",\"Roxy\")\n",
    "(Rat,*Bat,Pig)=animals\n",
    "print(Rat)\n",
    "print(Bat)\n",
    "print(Pig)"
   ]
  },
  {
   "cell_type": "code",
   "execution_count": 76,
   "id": "c89f578b-5fdf-4602-b93c-16cfde638a7b",
   "metadata": {},
   "outputs": [
    {
     "name": "stdout",
     "output_type": "stream",
     "text": [
      "['Dog', 'Cat', 'Donkey']\n",
      "Fox\n",
      "Roxy\n"
     ]
    }
   ],
   "source": [
    "animals=(\"Dog\",\"Cat\",\"Donkey\",\"Fox\",\"Roxy\")\n",
    "(*Rat,Bat,Pig)=animals\n",
    "print(Rat)\n",
    "print(Bat)\n",
    "print(Pig)"
   ]
  },
  {
   "cell_type": "code",
   "execution_count": null,
   "id": "3b1da1ae-b805-413d-8557-27e10f0a89c4",
   "metadata": {},
   "outputs": [],
   "source": []
  }
 ],
 "metadata": {
  "kernelspec": {
   "display_name": "Python 3 (ipykernel)",
   "language": "python",
   "name": "python3"
  },
  "language_info": {
   "codemirror_mode": {
    "name": "ipython",
    "version": 3
   },
   "file_extension": ".py",
   "mimetype": "text/x-python",
   "name": "python",
   "nbconvert_exporter": "python",
   "pygments_lexer": "ipython3",
   "version": "3.12.7"
  }
 },
 "nbformat": 4,
 "nbformat_minor": 5
}

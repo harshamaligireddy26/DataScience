{
 "cells": [
  {
   "cell_type": "code",
   "execution_count": 1,
   "id": "9f116a64-ef66-471f-82f8-258b1028c531",
   "metadata": {},
   "outputs": [],
   "source": [
    "l = [3,4,5,6,7 , [23,456,67,8,78,78] , [345,56,87,8,98,9] , (234,6657,6) , {\"key1\" :\"sudh\" , 234:[23,45,656]}]"
   ]
  },
  {
   "cell_type": "code",
   "execution_count": 2,
   "id": "7a3a7fa9-528c-47a6-9c9a-968a28cffed3",
   "metadata": {},
   "outputs": [
    {
     "data": {
      "text/plain": [
       "[3,\n",
       " 4,\n",
       " 5,\n",
       " 6,\n",
       " 7,\n",
       " [23, 456, 67, 8, 78, 78],\n",
       " [345, 56, 87, 8, 98, 9],\n",
       " (234, 6657, 6),\n",
       " {'key1': 'sudh', 234: [23, 45, 656]}]"
      ]
     },
     "execution_count": 2,
     "metadata": {},
     "output_type": "execute_result"
    }
   ],
   "source": [
    "l"
   ]
  },
  {
   "cell_type": "markdown",
   "id": "54f1a303-0c7b-42d5-b520-82a73d619fc8",
   "metadata": {},
   "source": [
    "<b>1 .Try to reverse a list</b>"
   ]
  },
  {
   "cell_type": "code",
   "execution_count": 3,
   "id": "4a8f9e8e-87c6-4da1-8d4e-da08b8f25c44",
   "metadata": {},
   "outputs": [
    {
     "data": {
      "text/plain": [
       "[{'key1': 'sudh', 234: [23, 45, 656]},\n",
       " (234, 6657, 6),\n",
       " [345, 56, 87, 8, 98, 9],\n",
       " [23, 456, 67, 8, 78, 78],\n",
       " 7,\n",
       " 6,\n",
       " 5,\n",
       " 4,\n",
       " 3]"
      ]
     },
     "execution_count": 3,
     "metadata": {},
     "output_type": "execute_result"
    }
   ],
   "source": [
    "l[::-1]"
   ]
  },
  {
   "cell_type": "markdown",
   "id": "eaa55e9e-8eeb-4d58-8800-39a946c6421b",
   "metadata": {},
   "source": [
    "<b>2 .Try to access 234 out of this list </b>"
   ]
  },
  {
   "cell_type": "code",
   "execution_count": 6,
   "id": "b52093ce-9ffa-44b4-9ba8-ad8f6b8cce1e",
   "metadata": {},
   "outputs": [
    {
     "data": {
      "text/plain": [
       "234"
      ]
     },
     "execution_count": 6,
     "metadata": {},
     "output_type": "execute_result"
    }
   ],
   "source": [
    "l[7][0]"
   ]
  },
  {
   "cell_type": "markdown",
   "id": "d76e6725-80f0-42fd-a2ff-8cfa667c382b",
   "metadata": {},
   "source": [
    "<b>3 .Try to access 456 </b>"
   ]
  },
  {
   "cell_type": "code",
   "execution_count": 8,
   "id": "07974140-9108-47d5-a642-bb0080b7b669",
   "metadata": {},
   "outputs": [
    {
     "data": {
      "text/plain": [
       "456"
      ]
     },
     "execution_count": 8,
     "metadata": {},
     "output_type": "execute_result"
    }
   ],
   "source": [
    "l[5][1]"
   ]
  },
  {
   "cell_type": "markdown",
   "id": "7d4bfbd5-e1c2-4444-b08f-cfa8a9ec1bc7",
   "metadata": {},
   "source": [
    "<b>4 .Try to extract only a list collection form list l</b>"
   ]
  },
  {
   "cell_type": "code",
   "execution_count": 13,
   "id": "9e4bd3bc-4b41-4cf0-a51b-c4d7a5f03d1b",
   "metadata": {},
   "outputs": [
    {
     "data": {
      "text/plain": [
       "[23, 456, 67, 8, 78, 78]"
      ]
     },
     "execution_count": 13,
     "metadata": {},
     "output_type": "execute_result"
    }
   ],
   "source": [
    "l[5]"
   ]
  },
  {
   "cell_type": "code",
   "execution_count": 14,
   "id": "83cb02a1-e92b-4d2e-a7da-ed53c4d7ff63",
   "metadata": {},
   "outputs": [
    {
     "data": {
      "text/plain": [
       "[345, 56, 87, 8, 98, 9]"
      ]
     },
     "execution_count": 14,
     "metadata": {},
     "output_type": "execute_result"
    }
   ],
   "source": [
    "l[6]"
   ]
  },
  {
   "cell_type": "code",
   "execution_count": 15,
   "id": "194e17ce-5dd4-4fcf-b103-d4fb65a08f39",
   "metadata": {},
   "outputs": [
    {
     "name": "stdout",
     "output_type": "stream",
     "text": [
      "[23, 456, 67, 8, 78, 78] [345, 56, 87, 8, 98, 9]\n"
     ]
    }
   ],
   "source": [
    "print(l[5],l[6])"
   ]
  },
  {
   "cell_type": "markdown",
   "id": "556f9f38-202b-4a00-94c1-28ff02208563",
   "metadata": {},
   "source": [
    "<b>5 .Try to extract \"sudh\"</b>"
   ]
  },
  {
   "cell_type": "code",
   "execution_count": 17,
   "id": "a7b69b05-a8ff-491e-8548-0759d23154b0",
   "metadata": {},
   "outputs": [
    {
     "data": {
      "text/plain": [
       "'sudh'"
      ]
     },
     "execution_count": 17,
     "metadata": {},
     "output_type": "execute_result"
    }
   ],
   "source": [
    "l[8]['key1']"
   ]
  },
  {
   "cell_type": "markdown",
   "id": "c34e47c0-00df-45b5-9ad5-facb0ef187dd",
   "metadata": {},
   "source": [
    "<b>6 .Try to list all the key in dict element avaible in list</b>"
   ]
  },
  {
   "cell_type": "code",
   "execution_count": 22,
   "id": "76059d32-39d6-4909-83f1-752b1040753f",
   "metadata": {},
   "outputs": [
    {
     "data": {
      "text/plain": [
       "{'key1': 'sudh', 234: [23, 45, 656]}"
      ]
     },
     "execution_count": 22,
     "metadata": {},
     "output_type": "execute_result"
    }
   ],
   "source": [
    "l1=l[8]\n",
    "l1"
   ]
  },
  {
   "cell_type": "code",
   "execution_count": 28,
   "id": "e2a2a252-8674-4436-ab55-504d9bcb94bf",
   "metadata": {},
   "outputs": [
    {
     "data": {
      "text/plain": [
       "dict_keys(['key1', 234])"
      ]
     },
     "execution_count": 28,
     "metadata": {},
     "output_type": "execute_result"
    }
   ],
   "source": [
    "l1.keys()"
   ]
  },
  {
   "cell_type": "code",
   "execution_count": 29,
   "id": "a2de9d59-4310-4697-8463-0e953f83c002",
   "metadata": {},
   "outputs": [
    {
     "data": {
      "text/plain": [
       "['key1', 234]"
      ]
     },
     "execution_count": 29,
     "metadata": {},
     "output_type": "execute_result"
    }
   ],
   "source": [
    "l2=list(l1)\n",
    "l2"
   ]
  },
  {
   "cell_type": "markdown",
   "id": "d6e8a855-014c-4c4b-88c9-96fd8cd03c8f",
   "metadata": {},
   "source": [
    "<b>7 .Try to extract all the value element form dict available in list </b>"
   ]
  },
  {
   "cell_type": "code",
   "execution_count": 34,
   "id": "3f7a1e57-24e4-4970-8274-8ed45bb5bc9f",
   "metadata": {},
   "outputs": [
    {
     "data": {
      "text/plain": [
       "['sudh', [23, 45, 656]]"
      ]
     },
     "execution_count": 34,
     "metadata": {},
     "output_type": "execute_result"
    }
   ],
   "source": [
    "list(l1.values())"
   ]
  },
  {
   "cell_type": "markdown",
   "id": "0f8d0217-ec01-4f3f-aee5-ecc69a049d0f",
   "metadata": {},
   "source": [
    "<b>INPUT AND PRINT</b>"
   ]
  },
  {
   "cell_type": "markdown",
   "id": "3ab6d290-f278-4ffd-881a-5aa4aae66b56",
   "metadata": {},
   "source": [
    "<b>1.Declare two variables `a` and `b`, assign integer values to them, and print their sum.</b>"
   ]
  },
  {
   "cell_type": "code",
   "execution_count": 42,
   "id": "ed9db481-5c3c-4c2f-8353-2e538a93b372",
   "metadata": {},
   "outputs": [
    {
     "name": "stdout",
     "output_type": "stream",
     "text": [
      "The sum of `a` and `b`: 30\n"
     ]
    }
   ],
   "source": [
    "a=10\n",
    "b=20\n",
    "\n",
    "print(\"The sum of `a` and `b`:\",a+b)"
   ]
  },
  {
   "cell_type": "markdown",
   "id": "c29532a7-24f3-43b7-a558-19bb620f7c53",
   "metadata": {},
   "source": [
    "<b>2. Create a variable `name` and assign your name to it. Print a greeting message using your name.</b>"
   ]
  },
  {
   "cell_type": "code",
   "execution_count": 46,
   "id": "8ceca007-981a-443b-89c4-1b9dcb57271c",
   "metadata": {},
   "outputs": [
    {
     "name": "stdout",
     "output_type": "stream",
     "text": [
      "Hello, Harshavardhan!\n"
     ]
    }
   ],
   "source": [
    "name=\"Harshavardhan\"\n",
    "print(f\"Hello, {name}!\")"
   ]
  },
  {
   "cell_type": "markdown",
   "id": "d97d9ac7-3e5c-4d57-af2f-b62358af8c11",
   "metadata": {},
   "source": [
    "<b>3. Define a variable `pi` and assign the value of π (pi) to it. Print the value of `pi`.</b>"
   ]
  },
  {
   "cell_type": "code",
   "execution_count": 49,
   "id": "badc865e-5db9-497d-ad79-5d531139cc63",
   "metadata": {},
   "outputs": [
    {
     "name": "stdout",
     "output_type": "stream",
     "text": [
      "The value of π (pi): 3.14159\n"
     ]
    }
   ],
   "source": [
    "pi=3.14159\n",
    "π=pi\n",
    "print(\"The value of π (pi):\",pi)"
   ]
  },
  {
   "cell_type": "markdown",
   "id": "1768d7a9-34ae-48fe-96cb-a7fd0cf2fbf7",
   "metadata": {},
   "source": [
    "<b>4. Define a variable `is_raining` and ask the user to input either \"True\" or \"False\" (as a string). Convert the input to a boolean and print its type.</b>"
   ]
  },
  {
   "cell_type": "code",
   "execution_count": 52,
   "id": "2020be48-4603-4ebc-995c-eb36c5a87f25",
   "metadata": {},
   "outputs": [
    {
     "name": "stdin",
     "output_type": "stream",
     "text": [
      "Is it raining? Enter 'True' or 'False': True\n"
     ]
    },
    {
     "name": "stdout",
     "output_type": "stream",
     "text": [
      "<class 'bool'>\n"
     ]
    }
   ],
   "source": [
    "is_raining=input(\"Is it raining? Enter 'True' or 'False':\")\n",
    "convert_boolean=bool(is_raining)\n",
    "print(type(convert_boolean))\n",
    "\n"
   ]
  },
  {
   "cell_type": "markdown",
   "id": "7a6ad2d8-2e93-41ec-a480-48522c7fa89b",
   "metadata": {},
   "source": [
    "<b>5. Create a string variable `sentence` containing any sentence of your choice. Ask the user to input a number, convert it to an integer, and print the sentence repeated that number of times.</b>"
   ]
  },
  {
   "cell_type": "code",
   "execution_count": 54,
   "id": "066c28b1-8fec-438a-be1f-9ea306b7c9d1",
   "metadata": {},
   "outputs": [
    {
     "name": "stdin",
     "output_type": "stream",
     "text": [
      "Enter a Number: 3\n"
     ]
    },
    {
     "name": "stdout",
     "output_type": "stream",
     "text": [
      "I am learning Python\n",
      "I am learning Python\n",
      "I am learning Python\n"
     ]
    }
   ],
   "source": [
    "sentence=\"I am learning Python\"\n",
    "a=int(input(\"Enter a Number:\"))\n",
    "for i in range (0,a):\n",
    "    print(sentence)\n"
   ]
  },
  {
   "cell_type": "markdown",
   "id": "c57c74e5-8291-4309-8f9f-800fba79ce19",
   "metadata": {},
   "source": [
    "<b>6. Given two variables `x` and `y`, perform the following operations and print the results:\n",
    "    - Addition of `x` and `y`.\n",
    "    - Subtraction of `y` from `x`.\n",
    "    - Multiplication of `x` and `y`.\n",
    "    - Division of `x` by `y`.\n",
    "    - `x` raised to the power of `y`.\n",
    "    - The remainder when `x` is divided by `y`.\n",
    "    - The floor division of `x` by `y`.</b>"
   ]
  },
  {
   "cell_type": "code",
   "execution_count": 57,
   "id": "d64f01e0-e9b3-4bf1-b73f-419d03e6e0d1",
   "metadata": {},
   "outputs": [
    {
     "name": "stdin",
     "output_type": "stream",
     "text": [
      "Enter X value: 10\n",
      "Enter Y value: 3\n"
     ]
    },
    {
     "name": "stdout",
     "output_type": "stream",
     "text": [
      "Addition of X and Y : 13\n",
      "Subtraction of Y from X -7\n",
      "Multiplication of X and Y 30\n",
      "Division of X by Y 3.3333333333333335\n",
      "X raised to the power of Y: 1000\n",
      "The remainder when X is divided by Y: 1\n",
      "The floor division of X by Y: 3\n"
     ]
    }
   ],
   "source": [
    "x=int(input(\"Enter X value:\"))\n",
    "y=int(input(\"Enter Y value:\"))\n",
    "print(\"Addition of X and Y :\",x+y)\n",
    "print(\"Subtraction of Y from X\",y-x)\n",
    "print(\"Multiplication of X and Y\",x*y)\n",
    "print(\"Division of X by Y\",x/y)\n",
    "print(\"X raised to the power of Y:\",x ** y)\n",
    "print(\"The remainder when X is divided by Y:\",x%y)\n",
    "print(\"The floor division of X by Y:\", x // y)"
   ]
  },
  {
   "cell_type": "markdown",
   "id": "b1b8f80d-9a07-4427-b021-822ff2df88da",
   "metadata": {},
   "source": [
    "<b>7. Define a variable `value` and assign any numerical value to it. Ask the user to input a new value. Update the variable `value` with the new input and print the updated value.</b>"
   ]
  },
  {
   "cell_type": "code",
   "execution_count": 58,
   "id": "04a305f4-26e2-4fd6-a073-10381af98656",
   "metadata": {},
   "outputs": [
    {
     "name": "stdin",
     "output_type": "stream",
     "text": [
      "Enter a new Value: 34\n"
     ]
    },
    {
     "name": "stdout",
     "output_type": "stream",
     "text": [
      "34\n"
     ]
    }
   ],
   "source": [
    "value=10\n",
    "a=int(input(\"Enter a new Value:\"))\n",
    "value=a\n",
    "print(value)"
   ]
  },
  {
   "cell_type": "code",
   "execution_count": null,
   "id": "5aec48f2-53c0-4583-a2c2-a5d8776dc3d8",
   "metadata": {},
   "outputs": [],
   "source": []
  }
 ],
 "metadata": {
  "kernelspec": {
   "display_name": "Python 3 (ipykernel)",
   "language": "python",
   "name": "python3"
  },
  "language_info": {
   "codemirror_mode": {
    "name": "ipython",
    "version": 3
   },
   "file_extension": ".py",
   "mimetype": "text/x-python",
   "name": "python",
   "nbconvert_exporter": "python",
   "pygments_lexer": "ipython3",
   "version": "3.12.7"
  }
 },
 "nbformat": 4,
 "nbformat_minor": 5
}

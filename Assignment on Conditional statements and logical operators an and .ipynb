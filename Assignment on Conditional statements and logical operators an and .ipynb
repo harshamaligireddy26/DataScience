{
 "cells": [
  {
   "cell_type": "markdown",
   "id": "14fdb2a5-f0db-4d31-968b-c6fef47ffeea",
   "metadata": {},
   "source": [
    "<b>1:\n",
    "Write a program that takes a number as input and prints \"Even\" if it's an even number, and \"Odd\" if it's an odd number.</b>"
   ]
  },
  {
   "cell_type": "code",
   "execution_count": 1,
   "id": "f1cc49da-d6ea-46ba-aee8-92bf2c657f64",
   "metadata": {},
   "outputs": [
    {
     "name": "stdin",
     "output_type": "stream",
     "text": [
      "Enter a number: 45\n"
     ]
    },
    {
     "name": "stdout",
     "output_type": "stream",
     "text": [
      "Odd\n"
     ]
    }
   ],
   "source": [
    "number=int(input(\"Enter a number:\"))\n",
    "if number%2==0:\n",
    "    print(\"Even\")\n",
    "else:\n",
    "    print(\"Odd\")\n"
   ]
  },
  {
   "cell_type": "markdown",
   "id": "6f741f0b-eb1f-413f-a0ee-bc8c01355d9a",
   "metadata": {},
   "source": [
    "<b>2: Write a program that takes two numbers as input and prints the larger number.</b>"
   ]
  },
  {
   "cell_type": "code",
   "execution_count": 2,
   "id": "53b1e044-726a-4058-8ecd-a38a80d08bec",
   "metadata": {},
   "outputs": [
    {
     "name": "stdin",
     "output_type": "stream",
     "text": [
      "Enter the first number: 23\n",
      "Enter the second number: 45\n"
     ]
    },
    {
     "name": "stdout",
     "output_type": "stream",
     "text": [
      "45\n"
     ]
    }
   ],
   "source": [
    "num1=int(input(\"Enter the first number:\"))\n",
    "num2=int(input(\"Enter the second number:\"))\n",
    "if num1>num2:\n",
    "    print(num1)\n",
    "else:\n",
    "    print(num2)\n"
   ]
  },
  {
   "cell_type": "markdown",
   "id": "5f15f924-a347-4447-9758-494ccf05e024",
   "metadata": {},
   "source": [
    "<b></b>"
   ]
  },
  {
   "cell_type": "markdown",
   "id": "74a5741a-d0d8-4c93-ad96-2f0706d72806",
   "metadata": {},
   "source": [
    "<b>3: Write a program that takes a character as input and prints \"Vowel\" if it's a vowel (a, e, i, o, u), and \"Consonant\" otherwise.</b>"
   ]
  },
  {
   "cell_type": "code",
   "execution_count": 3,
   "id": "84500f38-f0c0-4423-bae5-4d0c51128dc9",
   "metadata": {},
   "outputs": [
    {
     "name": "stdin",
     "output_type": "stream",
     "text": [
      "Enter a character: u\n"
     ]
    },
    {
     "name": "stdout",
     "output_type": "stream",
     "text": [
      "Vowel\n"
     ]
    }
   ],
   "source": [
    "character=input(\"Enter a character:\")\n",
    "list1=['a','e','i','o','u']\n",
    "char_lower=character.lower()\n",
    "if char_lower in list1:\n",
    "    print(\"Vowel\")\n",
    "else:\n",
    "    print(\"Consonant\")"
   ]
  },
  {
   "cell_type": "markdown",
   "id": "04c3f12e-5cdd-48b4-a969-0765279e8952",
   "metadata": {},
   "source": [
    "<b>4: Write a program that takes a year as input and prints \"Leap Year\" if it's a leap year, and \"Not a Leap Year\" otherwise.\n",
    "</b>"
   ]
  },
  {
   "cell_type": "code",
   "execution_count": 4,
   "id": "a61ed9b6-8743-4314-9991-962445d5ce75",
   "metadata": {},
   "outputs": [
    {
     "name": "stdin",
     "output_type": "stream",
     "text": [
      "Enter a year: 2344\n"
     ]
    },
    {
     "name": "stdout",
     "output_type": "stream",
     "text": [
      "Leap year\n"
     ]
    }
   ],
   "source": [
    "year=int(input(\"Enter a year:\"))\n",
    "if (year % 4 == 0 and year % 100 != 0) or (year % 400 == 0):\n",
    "    print(\"Leap year\")\n",
    "else:\n",
    "    print(\"Not leap Year\")"
   ]
  },
  {
   "cell_type": "markdown",
   "id": "9d476081-09c0-4f85-b516-4fb8b1a626d6",
   "metadata": {},
   "source": [
    "<b>5: Write a program that takes a grade as input (A, B, C, D, or F) and prints \"Pass\" if it's A, B, C, or D, and \"Fail\" if it's F.</b>"
   ]
  },
  {
   "cell_type": "code",
   "execution_count": 5,
   "id": "00f724f6-1bfa-4191-9dd3-61abc1b476e2",
   "metadata": {},
   "outputs": [
    {
     "name": "stdin",
     "output_type": "stream",
     "text": [
      "Enter your Grade: A\n"
     ]
    },
    {
     "name": "stdout",
     "output_type": "stream",
     "text": [
      "Pass\n"
     ]
    }
   ],
   "source": [
    "grade=input(\"Enter your Grade:\")\n",
    "list1=[\"A\",\"B\",\"C\",\"D\"]\n",
    "grad=grade.upper()\n",
    "if grad in list1:\n",
    "    print(\"Pass\")\n",
    "elif grad ==\"F\":\n",
    "    print(\"Fail\")\n",
    "else:\n",
    "    print(\"Enter a valid Grade\")"
   ]
  },
  {
   "cell_type": "markdown",
   "id": "c856891e-955f-4f1e-8242-9ec68270e78b",
   "metadata": {},
   "source": [
    "<b>Assignment</b>"
   ]
  },
  {
   "cell_type": "markdown",
   "id": "dda44ce4-3b6c-4715-accb-e58009047997",
   "metadata": {},
   "source": [
    "<b>1. Number Comparison\n",
    "</b>"
   ]
  },
  {
   "cell_type": "markdown",
   "id": "ea800592-a9e2-4077-b202-33b32f501699",
   "metadata": {},
   "source": [
    "<b>Write a program to check if a number entered by the user is positive, negative, or zero</b>"
   ]
  },
  {
   "cell_type": "code",
   "execution_count": 6,
   "id": "ddf5f1e9-fb4a-442a-901a-abbd37a398ee",
   "metadata": {},
   "outputs": [
    {
     "name": "stdin",
     "output_type": "stream",
     "text": [
      "Enter a Number: 3\n"
     ]
    },
    {
     "name": "stdout",
     "output_type": "stream",
     "text": [
      "Number is Positive\n"
     ]
    }
   ],
   "source": [
    "number=int(input(\"Enter a Number:\"))\n",
    "if number>0:\n",
    "    print(\"Number is Positive\")\n",
    "elif number<0:\n",
    "    print(\"Number is Negative\")\n",
    "elif number==0:\n",
    "    print(\"Number is Zero\")"
   ]
  },
  {
   "cell_type": "markdown",
   "id": "6b86154f-8da0-418e-83cf-84d9b4a0d0c0",
   "metadata": {},
   "source": [
    "<b>2. Leap Year Checker</b>"
   ]
  },
  {
   "cell_type": "markdown",
   "id": "88fb5aed-b51b-4f34-8638-344180d1402d",
   "metadata": {},
   "source": [
    "<b>Write a program to determine whether a given year is a leap year or not.</b>"
   ]
  },
  {
   "cell_type": "code",
   "execution_count": 7,
   "id": "da74818a-187f-46d5-a546-13f5cb9badee",
   "metadata": {},
   "outputs": [
    {
     "name": "stdin",
     "output_type": "stream",
     "text": [
      "Enter a year: 2200\n"
     ]
    },
    {
     "name": "stdout",
     "output_type": "stream",
     "text": [
      "Not leap Year\n"
     ]
    }
   ],
   "source": [
    "year=int(input(\"Enter a year:\"))\n",
    "if (year % 4 == 0 and year % 100 != 0) or (year % 400 == 0):\n",
    "    print(\"Leap year\")\n",
    "else:\n",
    "    print(\"Not leap Year\")"
   ]
  },
  {
   "cell_type": "markdown",
   "id": "e4e18d9c-19b2-4657-9eda-2ac42c735a8c",
   "metadata": {},
   "source": [
    "<b>3. Age Eligibility\n",
    "</b>"
   ]
  },
  {
   "cell_type": "markdown",
   "id": "edc71400-70ee-4c14-b73c-6bd7ba2c9c11",
   "metadata": {},
   "source": [
    "<b>Write a program that asks for a user's age and determines if they are eligible to vote (18 years and older)</b>"
   ]
  },
  {
   "cell_type": "code",
   "execution_count": 8,
   "id": "fc23027f-ace8-488a-ab48-7e1f8ee24451",
   "metadata": {},
   "outputs": [
    {
     "name": "stdin",
     "output_type": "stream",
     "text": [
      "Enter Age : 23\n"
     ]
    },
    {
     "name": "stdout",
     "output_type": "stream",
     "text": [
      "Eligible to Vote\n"
     ]
    }
   ],
   "source": [
    "age=int(input(\"Enter Age :\"))\n",
    "if age>=18:\n",
    "    print(\"Eligible to Vote\")\n",
    "else:\n",
    "    print(\"Not Eligible to Vote\")"
   ]
  },
  {
   "cell_type": "markdown",
   "id": "145bd4cb-103c-4bab-8f59-3368727f6350",
   "metadata": {},
   "source": [
    "<b>4. Grading System\n",
    "</b>"
   ]
  },
  {
   "cell_type": "markdown",
   "id": "346cc508-381e-48dc-ba6f-66bc792f3f2c",
   "metadata": {},
   "source": [
    "<b>Write a program that takes a student's marks as input and displays their grade based on the following criteria:\n",
    "\n",
    "</b>"
   ]
  },
  {
   "cell_type": "markdown",
   "id": "2843c725-f43c-495f-a06a-299842dc93a2",
   "metadata": {},
   "source": [
    "90 and above: A"
   ]
  },
  {
   "cell_type": "markdown",
   "id": "446e0901-8713-41a0-a7de-8d03cd75a4a5",
   "metadata": {},
   "source": [
    "75–89: B"
   ]
  },
  {
   "cell_type": "markdown",
   "id": "3d670edb-b368-46c2-b017-427a5e18a409",
   "metadata": {},
   "source": [
    "50–74: C"
   ]
  },
  {
   "cell_type": "markdown",
   "id": "d36e8b75-a18e-4fca-a735-19c79b0cddd2",
   "metadata": {},
   "source": [
    "Below 50: F"
   ]
  },
  {
   "cell_type": "code",
   "execution_count": 9,
   "id": "20384ea0-188a-41dc-813a-58945874c0f6",
   "metadata": {},
   "outputs": [
    {
     "name": "stdin",
     "output_type": "stream",
     "text": [
      "Enter Student's Marks: 44\n"
     ]
    },
    {
     "name": "stdout",
     "output_type": "stream",
     "text": [
      "Grade F\n"
     ]
    }
   ],
   "source": [
    "marks=int(input(\"Enter Student's Marks:\"))\n",
    "if marks>=90:\n",
    "    print(\"Grade A\")\n",
    "elif marks>=75 and marks<=89:\n",
    "    print(\"Grade B\")\n",
    "elif marks>=50 and marks<=74:\n",
    "    print(\"Grade C\")\n",
    "elif marks<50:\n",
    "    print(\"Grade F\")"
   ]
  },
  {
   "cell_type": "markdown",
   "id": "9e562835-8414-422f-87b9-5fd8e0e5086e",
   "metadata": {},
   "source": [
    "<b>\n",
    "5.Even or Odd\n",
    "</b>"
   ]
  },
  {
   "cell_type": "markdown",
   "id": "9e751a05-5bd2-4a07-9e41-5c7a6eb3d6b0",
   "metadata": {},
   "source": [
    "<b>\n",
    "Write a program to check whether a number entered by the user is even or odd.</b>"
   ]
  },
  {
   "cell_type": "code",
   "execution_count": 10,
   "id": "dbaf6e39-b189-459c-9fb3-1e26acaec2e8",
   "metadata": {},
   "outputs": [
    {
     "name": "stdin",
     "output_type": "stream",
     "text": [
      "Enter a number: 34\n"
     ]
    },
    {
     "name": "stdout",
     "output_type": "stream",
     "text": [
      "Even\n"
     ]
    }
   ],
   "source": [
    "number=int(input(\"Enter a number:\"))\n",
    "if number%2==0:\n",
    "    print(\"Even\")\n",
    "else:\n",
    "    print(\"Odd\")"
   ]
  },
  {
   "cell_type": "markdown",
   "id": "b4b420fd-8408-41e9-91c3-c3620b9f7312",
   "metadata": {},
   "source": [
    "<b>6. Maximum of Three Numbers</b>"
   ]
  },
  {
   "cell_type": "markdown",
   "id": "467710e0-dc2d-4f9c-8591-82a0a9fb085b",
   "metadata": {},
   "source": [
    "<b>Write a program that takes three numbers as input and determines the largest of the three.</b>"
   ]
  },
  {
   "cell_type": "code",
   "execution_count": 11,
   "id": "9c01043e-f93c-4d11-864b-607158a696f3",
   "metadata": {},
   "outputs": [
    {
     "name": "stdin",
     "output_type": "stream",
     "text": [
      "Enter the first number: 32\n",
      "Enter the second number: 235\n",
      "Enter the third number: 23553\n"
     ]
    },
    {
     "name": "stdout",
     "output_type": "stream",
     "text": [
      "23553 is the largest\n"
     ]
    }
   ],
   "source": [
    "num1=int(input(\"Enter the first number:\"))\n",
    "num2=int(input(\"Enter the second number:\"))\n",
    "num3=int(input(\"Enter the third number:\"))\n",
    "if num1>num2 and num1>num3:\n",
    "    print(num1,\"is the largest\")\n",
    "elif num2>num1 and num2>num3:\n",
    "    print(num2,\"is the largest\")\n",
    "elif num3>num1 and num3>num2:\n",
    "    print(num3,\"is the largest\")"
   ]
  },
  {
   "cell_type": "markdown",
   "id": "c3468597-945b-49a5-82be-d674814609f1",
   "metadata": {},
   "source": [
    "<b>7. Password Validation</b>"
   ]
  },
  {
   "cell_type": "markdown",
   "id": "f700274e-933c-4106-b094-6f9ff6f3b62f",
   "metadata": {},
   "source": [
    "<b>Write a program that asks the user to enter a password and checks if it matches a predefined password. If it matches, print \"Access Granted\"; otherwise, print \"Access Denied.\"</b>"
   ]
  },
  {
   "cell_type": "code",
   "execution_count": 12,
   "id": "3cba9486-3e75-4e2d-aee1-63e0372c7bb8",
   "metadata": {},
   "outputs": [
    {
     "name": "stdin",
     "output_type": "stream",
     "text": [
      "Enter Password: Har@1233\n"
     ]
    },
    {
     "name": "stdout",
     "output_type": "stream",
     "text": [
      "Access Denied\n"
     ]
    }
   ],
   "source": [
    "password_is=\"Har@123\"\n",
    "input_password=input(\"Enter Password:\")\n",
    "if input_password==password_is:\n",
    "    print(\"Access Granted\")\n",
    "else:\n",
    "    print(\"Access Denied\")"
   ]
  },
  {
   "cell_type": "markdown",
   "id": "4b77bb36-759b-4634-94e5-225fa8d35396",
   "metadata": {},
   "source": [
    "<b>8. Discount Calculation</b>"
   ]
  },
  {
   "cell_type": "markdown",
   "id": "295314ec-3464-4503-83fd-89001b77e0e5",
   "metadata": {},
   "source": [
    "<b>A store gives a 10% discount if the total purchase is above $1000. Write a program to calculate the final amount after applying the discount if applicable.</b>"
   ]
  },
  {
   "cell_type": "code",
   "execution_count": 13,
   "id": "fb275663-8ae1-49bd-93ed-7abbdad323c3",
   "metadata": {},
   "outputs": [
    {
     "name": "stdin",
     "output_type": "stream",
     "text": [
      "Enter the Total Amount: 1345\n"
     ]
    },
    {
     "name": "stdout",
     "output_type": "stream",
     "text": [
      "You are Applicable for Discount\n",
      "Total Amount: 1210.5\n"
     ]
    }
   ],
   "source": [
    "price=float(input(\"Enter the Total Amount:\"))\n",
    "if price>=1000:\n",
    "    discount_price=float(price-(price*0.1))\n",
    "    print(\"You are Applicable for Discount\")\n",
    "    print(\"Total Amount:\",discount_price)\n",
    "else :\n",
    "    print(\"You are not Applicable for Discount\")\n",
    "    print(\"Total Amount:\",price)"
   ]
  },
  {
   "cell_type": "markdown",
   "id": "2fa0bf5e-0a4f-43cd-882d-b3837518d2f7",
   "metadata": {},
   "source": [
    "<b>9. Triangle Type Checker</b>"
   ]
  },
  {
   "cell_type": "markdown",
   "id": "8b6e3ab0-4d52-4c86-89aa-9a251d65066b",
   "metadata": {},
   "source": [
    "<b>Write a program that takes the lengths of three sides of a triangle and determines if it is:</b>"
   ]
  },
  {
   "cell_type": "markdown",
   "id": "a2576a75-e5be-4de7-b8ad-db3dd096fc9d",
   "metadata": {},
   "source": [
    "<b>Equilateral (all sides are equal),\n",
    "Isosceles (two sides are equal), or\n",
    "Scalene (no sides are equal).</b>"
   ]
  },
  {
   "cell_type": "code",
   "execution_count": 16,
   "id": "2cfea90d-1991-4d90-bc62-6e024e37d9a5",
   "metadata": {},
   "outputs": [
    {
     "name": "stdin",
     "output_type": "stream",
     "text": [
      "Side1 Length: 12\n",
      "Side2 Length: 13\n",
      "Side3 Length: 12\n"
     ]
    },
    {
     "name": "stdout",
     "output_type": "stream",
     "text": [
      "Isosceles\n"
     ]
    }
   ],
   "source": [
    "side1=int(input(\"Side1 Length:\"))\n",
    "side2=int(input(\"Side2 Length:\"))\n",
    "side3=int(input(\"Side3 Length:\"))\n",
    "if side1==side2==side3:\n",
    "    print(\"Equilateral\")\n",
    "elif side1!=side2 and side2!=side3 and side1!=side3:\n",
    "    print(\"Scalene\")\n",
    "else:\n",
    "    print(\"Isosceles\")"
   ]
  },
  {
   "cell_type": "markdown",
   "id": "110ef62b-6c71-4c1a-8c43-538d1b62b58b",
   "metadata": {},
   "source": [
    "<b>10. Divisibility Check</b>"
   ]
  },
  {
   "cell_type": "markdown",
   "id": "1bb56730-0d1f-4683-9e8b-a71ecf48a175",
   "metadata": {},
   "source": [
    "<b>Write a program to check if a number entered by the user is divisible by 5 and 11 or not.</b>"
   ]
  },
  {
   "cell_type": "code",
   "execution_count": 76,
   "id": "ea50dcc7-c80c-49df-aae3-a9c37e603a0d",
   "metadata": {},
   "outputs": [
    {
     "name": "stdin",
     "output_type": "stream",
     "text": [
      "Enter a Number: 54\n"
     ]
    },
    {
     "name": "stdout",
     "output_type": "stream",
     "text": [
      "Number is not divisible by 5 and 11\n"
     ]
    }
   ],
   "source": [
    "number=int(input(\"Enter a Number:\"))\n",
    "if number%5==0 and number%11==0:\n",
    "    print(\"Number is divisible by 5 and 11\")\n",
    "else:\n",
    "    print(\"Number is not divisible by 5 and 11\")\n"
   ]
  },
  {
   "cell_type": "markdown",
   "id": "230977ec-8c08-4aac-9de2-4bd88aecb20c",
   "metadata": {},
   "source": [
    "<b>11. Attendance Eligibility</b>"
   ]
  },
  {
   "cell_type": "markdown",
   "id": "b6986298-a632-4668-910b-ba73c285a33f",
   "metadata": {},
   "source": [
    "<b>A student is allowed to take the exam if their attendance is 75% or higher. Write a program to ask the student for their total classes and attended classes, calculate attendance, and determine their eligibility</b>"
   ]
  },
  {
   "cell_type": "code",
   "execution_count": 92,
   "id": "6e872249-3774-4738-9b4e-686d7295e11c",
   "metadata": {},
   "outputs": [
    {
     "name": "stdin",
     "output_type": "stream",
     "text": [
      "Total classes:  21\n",
      "Attended classes:  21\n"
     ]
    },
    {
     "name": "stdout",
     "output_type": "stream",
     "text": [
      "100.0 %\n",
      "Student is Allowed to take Exam\n"
     ]
    }
   ],
   "source": [
    "total_classes=int(input(\"Total classes: \"))\n",
    "attend_classes=int(input(\"Attended classes: \"))\n",
    "attend_percentage=float(100/float(total_classes/attend_classes))\n",
    "attendper=round(attend_percentage,2)\n",
    "print(attendper,\"%\")\n",
    "if attendper>=75:\n",
    "    print(\"Student is Allowed to take Exam\")\n",
    "else :\n",
    "    print(\"Student is not Allowed to take Exam\")"
   ]
  },
  {
   "cell_type": "markdown",
   "id": "6b432d16-f013-467e-ad68-d8a063c79c40",
   "metadata": {},
   "source": [
    "<b>12. Temperature Advice</b>"
   ]
  },
  {
   "cell_type": "markdown",
   "id": "93a6aff3-a3f1-4026-b7f7-f3a881ffb984",
   "metadata": {},
   "source": [
    "<b>Write a program that asks the user for the current temperature and provides advice:</b>"
   ]
  },
  {
   "cell_type": "markdown",
   "id": "38868fa8-d160-4f9d-9625-6873c500862c",
   "metadata": {},
   "source": [
    "Above 30°C: \"It's hot outside. Stay hydrated.\"\n"
   ]
  },
  {
   "cell_type": "markdown",
   "id": "9ba20583-28ff-4a63-b770-52b3bf9eb6ce",
   "metadata": {},
   "source": [
    "Between 15°C and 30°C: \"The weather is pleasant.\""
   ]
  },
  {
   "cell_type": "markdown",
   "id": "82d28906-c3c4-4c31-8fd1-75e03f06ca70",
   "metadata": {},
   "source": [
    "Below 15°C: \"It's cold outside. Wear a jacket.\""
   ]
  },
  {
   "cell_type": "code",
   "execution_count": 95,
   "id": "4d619110-9291-4e23-bea7-6c08b140617e",
   "metadata": {},
   "outputs": [
    {
     "name": "stdin",
     "output_type": "stream",
     "text": [
      "Enter Temperature in °C: 234\n"
     ]
    },
    {
     "name": "stdout",
     "output_type": "stream",
     "text": [
      "It's hot outside. Stay hydrated.\n"
     ]
    }
   ],
   "source": [
    "temp=int(input(\"Enter Temperature in °C:\"))\n",
    "if temp>30:\n",
    "    print(\"It's hot outside. Stay hydrated.\")\n",
    "elif temp<15:\n",
    "    print(\"It's cold outside. Wear a jacket.\")\n",
    "else:\n",
    "    print(\"The Whether is Pleasant.\")"
   ]
  },
  {
   "cell_type": "markdown",
   "id": "4303e89c-2b26-4c8c-9243-008fecce2789",
   "metadata": {},
   "source": [
    "<b>13. Number Range Check</b>"
   ]
  },
  {
   "cell_type": "markdown",
   "id": "30b4cb7b-a72a-47f9-b89b-2005ff6c3213",
   "metadata": {},
   "source": [
    "<b>Write a program to check if a number lies in the range of 1 to 100 (inclusive).</b>"
   ]
  },
  {
   "cell_type": "code",
   "execution_count": 98,
   "id": "59b81f9c-9e76-4c1f-a89d-544e2e9244d1",
   "metadata": {},
   "outputs": [
    {
     "name": "stdin",
     "output_type": "stream",
     "text": [
      "Enter a Number: 999\n"
     ]
    },
    {
     "name": "stdout",
     "output_type": "stream",
     "text": [
      "Number not lies in the Range 1 to 100\n"
     ]
    }
   ],
   "source": [
    "number=int(input(\"Enter a Number:\"))\n",
    "if number>=1 and number<=100:\n",
    "    print(\"Number lies in the Range 1 to 100\")\n",
    "else :\n",
    "    print(\"Number not lies in the Range 1 to 100\")"
   ]
  },
  {
   "cell_type": "markdown",
   "id": "040d18dc-ab47-42d2-a8da-3fd117402f79",
   "metadata": {},
   "source": [
    "<b>14. Simple Calculator</b>"
   ]
  },
  {
   "cell_type": "markdown",
   "id": "2a69d7a5-46c0-4309-b9e4-b687f0ff2fad",
   "metadata": {},
   "source": [
    "<b>Write a program that takes two numbers and an operator (+, -, *, /) as input and performs the corresponding operation. If the operator is invalid, print an error message.</b>"
   ]
  },
  {
   "cell_type": "code",
   "execution_count": 102,
   "id": "8f837fcf-2de0-49d8-9212-0176e3d663a0",
   "metadata": {},
   "outputs": [
    {
     "name": "stdin",
     "output_type": "stream",
     "text": [
      "Enter Number1: 32\n",
      "Enter Number2: 45\n",
      "Enter a Operator to perform Operation: =\n"
     ]
    },
    {
     "name": "stdout",
     "output_type": "stream",
     "text": [
      "Error.Operator is Invalid\n"
     ]
    }
   ],
   "source": [
    "num1=float(input(\"Enter Number1:\"))\n",
    "num2 =float(input(\"Enter Number2:\"))\n",
    "operator=input(\"Enter a Operator to perform Operation:\")\n",
    "if operator == '+':\n",
    "     print(num1 + num2)\n",
    "elif operator == '-':\n",
    "     print(num1 - num2)\n",
    "elif operator == '*':\n",
    "     print(num1 * num2)\n",
    "elif operator == '/':\n",
    "    print(num1/num2)\n",
    "else:\n",
    "    print(\"Error.Operator is Invalid\")"
   ]
  },
  {
   "cell_type": "markdown",
   "id": "32a65cfc-af72-493b-96b5-90dea4396bb7",
   "metadata": {},
   "source": [
    "<b>15. Odd or Even Year</b>"
   ]
  },
  {
   "cell_type": "markdown",
   "id": "4e5a3a1d-d82f-43ee-b589-ed310cf68599",
   "metadata": {},
   "source": [
    "<b>Write a program to determine whether a given year is odd or even</b>"
   ]
  },
  {
   "cell_type": "code",
   "execution_count": 105,
   "id": "1b5c807c-6908-4790-8b24-2fc2e0d07eab",
   "metadata": {},
   "outputs": [
    {
     "name": "stdin",
     "output_type": "stream",
     "text": [
      "Enter a Year: 245\n"
     ]
    },
    {
     "name": "stdout",
     "output_type": "stream",
     "text": [
      "Odd Year\n"
     ]
    }
   ],
   "source": [
    "year=int(input(\"Enter a Year:\"))\n",
    "if year%2==0:\n",
    "    print(\"Even Year\")\n",
    "else:\n",
    "    print(\"Odd Year\")\n"
   ]
  },
  {
   "cell_type": "code",
   "execution_count": null,
   "id": "def77f8f-abb7-4f18-b220-1520048920de",
   "metadata": {},
   "outputs": [],
   "source": []
  }
 ],
 "metadata": {
  "kernelspec": {
   "display_name": "Python 3 (ipykernel)",
   "language": "python",
   "name": "python3"
  },
  "language_info": {
   "codemirror_mode": {
    "name": "ipython",
    "version": 3
   },
   "file_extension": ".py",
   "mimetype": "text/x-python",
   "name": "python",
   "nbconvert_exporter": "python",
   "pygments_lexer": "ipython3",
   "version": "3.12.7"
  }
 },
 "nbformat": 4,
 "nbformat_minor": 5
}

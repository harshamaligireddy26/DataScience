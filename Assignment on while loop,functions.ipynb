{
 "cells": [
  {
   "cell_type": "markdown",
   "id": "e3a39284-1daa-4906-b818-89a742927635",
   "metadata": {},
   "source": [
    "<b>Assignment using while loop and control statements:</b>"
   ]
  },
  {
   "cell_type": "markdown",
   "id": "6b6326a0-1bb7-44b6-b030-c9c5d8f68f9f",
   "metadata": {},
   "source": [
    "<b>1.Write a Python program to print all numbers from 1 to 10, but stop the loop immediately when reaching 5 using the break statement.</b>"
   ]
  },
  {
   "cell_type": "code",
   "execution_count": 1,
   "id": "139b9320-dc02-40fe-bf0b-42c72cefb1e1",
   "metadata": {},
   "outputs": [
    {
     "name": "stdout",
     "output_type": "stream",
     "text": [
      "1\n",
      "2\n",
      "3\n",
      "4\n"
     ]
    }
   ],
   "source": [
    "i=1\n",
    "while i<10:\n",
    "    if i==5:\n",
    "        break\n",
    "    print(i)\n",
    "    i=i+1"
   ]
  },
  {
   "cell_type": "markdown",
   "id": "7fc92bd7-c850-490d-acf2-040413dbf56f",
   "metadata": {},
   "source": [
    "<b>2.Given a list of numbers [1, 2, 3, 4, 5], use a for loop to print the elements one by one. However, if the element is 3, skip it using the continue statement.</b>"
   ]
  },
  {
   "cell_type": "code",
   "execution_count": 2,
   "id": "0057a1bf-5bfe-4aea-86ec-9f9902fe3ea5",
   "metadata": {},
   "outputs": [
    {
     "name": "stdout",
     "output_type": "stream",
     "text": [
      "1\n",
      "2\n",
      "4\n",
      "5\n"
     ]
    }
   ],
   "source": [
    "list1=[1,2,3,4,5]\n",
    "for i in list1:\n",
    "    if i==3:\n",
    "        continue\n",
    "    print(i)\n",
    "    "
   ]
  },
  {
   "cell_type": "markdown",
   "id": "d1b916e5-7f89-43ed-965f-e5cdee238e0d",
   "metadata": {},
   "source": [
    "<b>3.Write a Python function that takes a string as input and checks if it contains the letter 'o'. If it does, print \"Found 'o'\" and use the break statement to stop searching.</b>"
   ]
  },
  {
   "cell_type": "code",
   "execution_count": 3,
   "id": "b59960c6-3e7c-49c4-9bab-55f834833bf3",
   "metadata": {},
   "outputs": [
    {
     "name": "stdin",
     "output_type": "stream",
     "text": [
      "Enter a String: oops\n"
     ]
    },
    {
     "name": "stdout",
     "output_type": "stream",
     "text": [
      "Found 'o'\n"
     ]
    }
   ],
   "source": [
    "str1=input(\"Enter a String:\").lower()\n",
    "list1=list(str1)\n",
    "for i in list1:\n",
    "    if i==\"o\":\n",
    "        print (\"Found 'o'\")\n",
    "        break\n"
   ]
  },
  {
   "cell_type": "markdown",
   "id": "8c5ee3da-efb0-432a-8587-392a7e3aeb15",
   "metadata": {},
   "source": [
    "<b>4.Given a list of numbers [1, 2, 3, 4, 5], use a for loop to double each element and print the result. However, if the element is 4, use the continue statement to skip it.</b>"
   ]
  },
  {
   "cell_type": "code",
   "execution_count": 4,
   "id": "d0a9a81b-a743-4640-abca-752bd062cdfb",
   "metadata": {},
   "outputs": [
    {
     "name": "stdout",
     "output_type": "stream",
     "text": [
      "2\n",
      "4\n",
      "6\n",
      "8\n",
      "10\n"
     ]
    }
   ],
   "source": [
    "list1=[1,2,3,4,5]\n",
    "for i in list1:\n",
    "    print(i*2)"
   ]
  },
  {
   "cell_type": "markdown",
   "id": "57828a2b-164d-4090-a5bd-a459fdb72b10",
   "metadata": {},
   "source": [
    "<b>5.Write a Python program to print all numbers from 1 to 20 using a while loop. However, stop the loop when reaching 15 using the break statement.\n",
    "</b>"
   ]
  },
  {
   "cell_type": "code",
   "execution_count": 5,
   "id": "22ed0784-3278-4611-88cd-f8a664c6fa7a",
   "metadata": {},
   "outputs": [
    {
     "name": "stdout",
     "output_type": "stream",
     "text": [
      "1\n",
      "2\n",
      "3\n",
      "4\n",
      "5\n",
      "6\n",
      "7\n",
      "8\n",
      "9\n",
      "10\n",
      "11\n",
      "12\n",
      "13\n",
      "14\n",
      "15\n"
     ]
    }
   ],
   "source": [
    "i=1\n",
    "while i<20:\n",
    "    if i==16:\n",
    "        break\n",
    "    print(i)\n",
    "    i=i+1"
   ]
  },
  {
   "cell_type": "markdown",
   "id": "a0f3fb50-51eb-42ae-adea-265e4ba75ccf",
   "metadata": {},
   "source": [
    "<b>While Loop practicals:</b>"
   ]
  },
  {
   "cell_type": "markdown",
   "id": "1e0c034c-9352-4cdd-bfd1-f29060f462ab",
   "metadata": {},
   "source": [
    "<b>1. Print Numbers from 1 to 10</b>"
   ]
  },
  {
   "cell_type": "code",
   "execution_count": 6,
   "id": "7d580b87-4e8a-4893-b8a6-73cdc33e7dd5",
   "metadata": {},
   "outputs": [
    {
     "name": "stdout",
     "output_type": "stream",
     "text": [
      "1\n",
      "2\n",
      "3\n",
      "4\n",
      "5\n",
      "6\n",
      "7\n",
      "8\n",
      "9\n",
      "10\n"
     ]
    }
   ],
   "source": [
    "i=1\n",
    "while i<11:\n",
    "    print(i)\n",
    "    i=i+1"
   ]
  },
  {
   "cell_type": "markdown",
   "id": "7e14b576-fa06-4d8a-bcc4-c8ac82d54810",
   "metadata": {},
   "source": [
    "<b>2. Sum of Numbers from 1 to N</b>"
   ]
  },
  {
   "cell_type": "code",
   "execution_count": 8,
   "id": "b854f9bd-073f-43ef-b838-e7a674c1e5cb",
   "metadata": {},
   "outputs": [
    {
     "name": "stdin",
     "output_type": "stream",
     "text": [
      "Input : 5\n"
     ]
    },
    {
     "name": "stdout",
     "output_type": "stream",
     "text": [
      "15\n"
     ]
    }
   ],
   "source": [
    "n=int(input(\"Input :\"))\n",
    "i=1\n",
    "sum1=0\n",
    "while i<=n:\n",
    "    sum1=sum1+i\n",
    "    i=i+1\n",
    "print(sum1)\n"
   ]
  },
  {
   "cell_type": "markdown",
   "id": "983b73a8-6f45-4d40-b49c-7b638a014a02",
   "metadata": {},
   "source": [
    "<b>3. Print Even Numbers up to N</b>"
   ]
  },
  {
   "cell_type": "code",
   "execution_count": 9,
   "id": "de697647-5958-4f03-8f8b-8d6158a28ca8",
   "metadata": {},
   "outputs": [
    {
     "name": "stdin",
     "output_type": "stream",
     "text": [
      "Input : 10\n"
     ]
    },
    {
     "name": "stdout",
     "output_type": "stream",
     "text": [
      "2\n",
      "4\n",
      "6\n",
      "8\n",
      "10\n"
     ]
    }
   ],
   "source": [
    "n=int(input(\"Input :\"))\n",
    "i=1\n",
    "while i<=n:\n",
    "    if i%2==0:\n",
    "        print(i)\n",
    "    i=i+1"
   ]
  },
  {
   "cell_type": "markdown",
   "id": "75462823-0e8c-4e86-9f8c-7de7ff62903c",
   "metadata": {},
   "source": [
    "<b>4. Count Digits in a Number</b>"
   ]
  },
  {
   "cell_type": "code",
   "execution_count": 10,
   "id": "14dc3f53-44dd-4ca6-a840-3f9fb76c29d2",
   "metadata": {},
   "outputs": [
    {
     "name": "stdin",
     "output_type": "stream",
     "text": [
      "Input : 12345\n"
     ]
    },
    {
     "name": "stdout",
     "output_type": "stream",
     "text": [
      "5\n"
     ]
    }
   ],
   "source": [
    "n=int(input(\"Input :\"))\n",
    "str1=str(n)\n",
    "list1=list(str1)\n",
    "print(len(list1))\n",
    "\n"
   ]
  },
  {
   "cell_type": "markdown",
   "id": "3609819a-07d1-4d33-b6f9-2f150ab8447b",
   "metadata": {},
   "source": [
    "<b>5.Reverse a Number</b>"
   ]
  },
  {
   "cell_type": "code",
   "execution_count": 11,
   "id": "c71c4318-02b3-4847-a65f-9e268d1d3569",
   "metadata": {},
   "outputs": [
    {
     "name": "stdin",
     "output_type": "stream",
     "text": [
      "Input : 1234\n"
     ]
    },
    {
     "name": "stdout",
     "output_type": "stream",
     "text": [
      "4321\n"
     ]
    }
   ],
   "source": [
    "n=int(input(\"Input :\"))\n",
    "str1=str(n)\n",
    "print(int(str1[::-1]))"
   ]
  },
  {
   "cell_type": "markdown",
   "id": "0696f82e-41d6-4d13-9f62-4882a98d05db",
   "metadata": {},
   "source": [
    "<b>6. Check if a Number is a Palindrome</b>"
   ]
  },
  {
   "cell_type": "code",
   "execution_count": null,
   "id": "af37e61e-5a3b-437d-be28-db3f00042547",
   "metadata": {},
   "outputs": [],
   "source": [
    "n=int(input(\"Input:\"))\n",
    "str1=str(n)\n",
    "str2=str1[::-1]\n",
    "if str1==str2:\n",
    "    print(True)\n",
    "else:\n",
    "    print(False)"
   ]
  },
  {
   "cell_type": "markdown",
   "id": "0336e2e8-72c3-421c-9788-c3474c3d68f5",
   "metadata": {},
   "source": [
    "<b>Functions</b>"
   ]
  },
  {
   "cell_type": "markdown",
   "id": "e7d62fda-5d91-4404-9062-3a2eb9cf2176",
   "metadata": {},
   "source": [
    "<b>1.Function to Add Two Numbers</b>"
   ]
  },
  {
   "cell_type": "code",
   "execution_count": 24,
   "id": "ab674971-9284-4ff4-85ee-cd75186ed42e",
   "metadata": {},
   "outputs": [
    {
     "name": "stdin",
     "output_type": "stream",
     "text": [
      "Enter A number: 23\n",
      "Enter B number: 23\n"
     ]
    },
    {
     "data": {
      "text/plain": [
       "46"
      ]
     },
     "execution_count": 24,
     "metadata": {},
     "output_type": "execute_result"
    }
   ],
   "source": [
    "def add(a, b):\n",
    "    return a+b\n",
    "a=int(input(\"Enter A number:\"))\n",
    "b=int(input(\"Enter B number:\"))\n",
    "add(a,b)"
   ]
  },
  {
   "cell_type": "markdown",
   "id": "60962993-2727-49e8-9cc9-346371b9950f",
   "metadata": {},
   "source": [
    "<b>2.Function to Find Maximum of Three Numbers\n",
    "\n",
    "</b>"
   ]
  },
  {
   "cell_type": "code",
   "execution_count": 29,
   "id": "5f34db35-80be-44cb-a20e-77757f910574",
   "metadata": {},
   "outputs": [
    {
     "name": "stdin",
     "output_type": "stream",
     "text": [
      "Enter A number: 13\n",
      "Enter B number: 24\n",
      "Enter C number: 5\n"
     ]
    },
    {
     "data": {
      "text/plain": [
       "'24 is Maximum'"
      ]
     },
     "execution_count": 29,
     "metadata": {},
     "output_type": "execute_result"
    }
   ],
   "source": [
    "def max_of_three(a, b, c):\n",
    "    if a>b and a>c:\n",
    "        return f\"{a} is Maximum\"\n",
    "    elif b>a and b>c:\n",
    "        return f\"{b} is Maximum\"\n",
    "    else :\n",
    "        return f\"{c} is Maximum\"\n",
    "a=int(input(\"Enter A number:\"))\n",
    "b=int(input(\"Enter B number:\"))\n",
    "c=int(input(\"Enter C number:\"))\n",
    "max_of_three(a,b,c)\n",
    "    "
   ]
  },
  {
   "cell_type": "markdown",
   "id": "37f1885c-bb36-4f06-9f41-6feedb93f1ef",
   "metadata": {},
   "source": [
    "<b>3.Function to Check Prime Number</b>"
   ]
  },
  {
   "cell_type": "code",
   "execution_count": 40,
   "id": "86d270fa-b824-4a3e-aac8-83ef98537a43",
   "metadata": {},
   "outputs": [
    {
     "name": "stdin",
     "output_type": "stream",
     "text": [
      "Input: 8\n"
     ]
    },
    {
     "name": "stdout",
     "output_type": "stream",
     "text": [
      "False\n"
     ]
    }
   ],
   "source": [
    "def is_prime(n):\n",
    "    sum1=0\n",
    "    for i in range(1,n+1):\n",
    "        if n%i==0:\n",
    "            sum1=sum1+1\n",
    "    if sum1==2:\n",
    "        print(\"True\")\n",
    "    else:\n",
    "        print(\"False\")\n",
    "n=int(input(\"Input:\"))\n",
    "is_prime(n)\n",
    "            "
   ]
  },
  {
   "cell_type": "markdown",
   "id": "eae29f1e-3f3d-4209-b2a1-135660ce3cae",
   "metadata": {},
   "source": [
    "<b>4. Function to Calculate Factorial</b>"
   ]
  },
  {
   "cell_type": "code",
   "execution_count": 42,
   "id": "ac15cf0f-adb3-4f93-b697-2cf5415d80c3",
   "metadata": {},
   "outputs": [
    {
     "name": "stdin",
     "output_type": "stream",
     "text": [
      "Input : 5\n"
     ]
    },
    {
     "data": {
      "text/plain": [
       "120"
      ]
     },
     "execution_count": 42,
     "metadata": {},
     "output_type": "execute_result"
    }
   ],
   "source": [
    "def factorial(n):\n",
    "    i=1\n",
    "    multi=1\n",
    "    while i<=n:\n",
    "        multi=multi*i\n",
    "        i=i+1\n",
    "    return multi\n",
    "n=int(input(\"Input :\"))\n",
    "factorial(n)\n",
    "        "
   ]
  },
  {
   "cell_type": "markdown",
   "id": "9dd17ab9-fa9b-476e-aca1-2adff1a6526c",
   "metadata": {},
   "source": [
    "<b>5.Function to Print Fibonacci Series up to N terms</b>"
   ]
  },
  {
   "cell_type": "code",
   "execution_count": null,
   "id": "c79b13a9-8647-4fe9-9ce6-543b203971be",
   "metadata": {},
   "outputs": [],
   "source": [
    "def fibonacci(n):\n",
    "    list1 = [0, 1]\n",
    "    i=2\n",
    "    while i<n:\n",
    "        a = list1[i-1] + list1[i-2]\n",
    "        list1.append(a)\n",
    "        i=i+1\n",
    "    return list1\n",
    "n = int(input(\"Enter the number of Fibonacci terms you want: \"))\n",
    "list1 = fibonacci(n)\n",
    "\n",
    "print(\"Fibonacci Sequence:\")\n",
    "print(list1)"
   ]
  },
  {
   "cell_type": "markdown",
   "id": "f043dd19-ff1c-4c77-af88-9df5578c176b",
   "metadata": {},
   "source": [
    "<b>6.Function to Count Vowels in a String\n",
    "</b>"
   ]
  },
  {
   "cell_type": "code",
   "execution_count": 15,
   "id": "4e8acb0d-7a40-41bc-83cd-366095905657",
   "metadata": {},
   "outputs": [
    {
     "name": "stdin",
     "output_type": "stream",
     "text": [
      "Enter a String AeIoUHappy\n"
     ]
    },
    {
     "data": {
      "text/plain": [
       "6"
      ]
     },
     "execution_count": 15,
     "metadata": {},
     "output_type": "execute_result"
    }
   ],
   "source": [
    "def count_vowels(s):\n",
    "    list1=list(s)\n",
    "    list2=['a','e','i','o','u']\n",
    "    count1=0\n",
    "    for i in list1:\n",
    "        if i in list2:\n",
    "            count1=count1+1\n",
    "    return count1\n",
    "s=input(\"Enter a String\").lower()\n",
    "count_vowels(s)            \n",
    "    "
   ]
  },
  {
   "cell_type": "code",
   "execution_count": null,
   "id": "eaf68d1e-f484-4baf-8f70-48074095b54e",
   "metadata": {},
   "outputs": [],
   "source": []
  }
 ],
 "metadata": {
  "kernelspec": {
   "display_name": "Python 3 (ipykernel)",
   "language": "python",
   "name": "python3"
  },
  "language_info": {
   "codemirror_mode": {
    "name": "ipython",
    "version": 3
   },
   "file_extension": ".py",
   "mimetype": "text/x-python",
   "name": "python",
   "nbconvert_exporter": "python",
   "pygments_lexer": "ipython3",
   "version": "3.12.7"
  }
 },
 "nbformat": 4,
 "nbformat_minor": 5
}

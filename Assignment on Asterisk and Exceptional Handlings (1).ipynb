{
 "cells": [
  {
   "cell_type": "markdown",
   "id": "36a103a0-25c1-4f5d-b3bd-50a61221cc4b",
   "metadata": {},
   "source": [
    "# Asterisk And Exceptional Handling"
   ]
  },
  {
   "cell_type": "markdown",
   "id": "c29caed7-8d8a-4fac-89ee-dce5af8533cd",
   "metadata": {},
   "source": [
    "<b>1. Write a function print_info(**kwargs) that prints all the key-value pairs passed to it.</b>"
   ]
  },
  {
   "cell_type": "code",
   "execution_count": 1,
   "id": "eb53f2da-6797-490b-baa7-edc68050f3a4",
   "metadata": {},
   "outputs": [
    {
     "data": {
      "text/plain": [
       "{'a': 'nithin', 'b': 'balu', 'c': 'harsha', 'd': 'data'}"
      ]
     },
     "execution_count": 1,
     "metadata": {},
     "output_type": "execute_result"
    }
   ],
   "source": [
    "def print_info(**kwargs):\n",
    "    return kwargs\n",
    "print_info(a = \"nithin\" , b=\"balu\", c= \"harsha\", d = \"data\")\n"
   ]
  },
  {
   "cell_type": "markdown",
   "id": "f37a23fb-49ad-43f1-901d-df5c81ef4820",
   "metadata": {},
   "source": [
    "<b>2. Create a function greet_people(**kwargs) where each key is a person's name and the value is their greeting. Print out a greeting for each person</b>"
   ]
  },
  {
   "cell_type": "code",
   "execution_count": 2,
   "id": "d8412900-4dbe-4e58-bf21-80f9df8f76f9",
   "metadata": {},
   "outputs": [
    {
     "name": "stdout",
     "output_type": "stream",
     "text": [
      "nithin : Hi, This is Nithin\n",
      "balu : Hi, This is Balu\n",
      "Harsha : Hi,This is Harsha\n"
     ]
    }
   ],
   "source": [
    "def greet_people(**kwargs):\n",
    "    for k,v in kwargs.items():\n",
    "        print(k, \":\" , v)\n",
    "        \n",
    "greet_people(nithin = \"Hi, This is Nithin\" , balu = \"Hi, This is Balu\", Harsha = \"Hi,This is Harsha\")"
   ]
  },
  {
   "cell_type": "markdown",
   "id": "9a141c05-f807-4e61-8363-4d5222e04438",
   "metadata": {},
   "source": [
    "<b>3. Write a function person_details(name, age, **kwargs) that prints name and age, and then any additional information passed in.</b>"
   ]
  },
  {
   "cell_type": "code",
   "execution_count": 3,
   "id": "11dcb5f8-2db0-43e2-b23b-817cbfb0f6e8",
   "metadata": {},
   "outputs": [
    {
     "data": {
      "text/plain": [
       "('nithin', 23, {'a': 'technology', 'b': 'datascience'})"
      ]
     },
     "execution_count": 3,
     "metadata": {},
     "output_type": "execute_result"
    }
   ],
   "source": [
    "def person_details(name,age,**kwargs):\n",
    "    return name,age,kwargs\n",
    "person_details(\"nithin\",23,a = \"technology\" , b = \"datascience\")"
   ]
  },
  {
   "cell_type": "markdown",
   "id": "904176dd-6e30-42c6-8ade-b133cd688dd6",
   "metadata": {},
   "source": [
    "<b>4. Define a function build_profile(**kwargs) that builds and returns a dictionary of user profile information.</b>"
   ]
  },
  {
   "cell_type": "code",
   "execution_count": 4,
   "id": "f39d5cdc-376f-44c1-9f43-e48f6bd109d6",
   "metadata": {},
   "outputs": [
    {
     "data": {
      "text/plain": [
       "{'name': 'nithin', 'Age': 23, 'email': 'aimnxt@gmail.com', 'phone': 999999999}"
      ]
     },
     "execution_count": 4,
     "metadata": {},
     "output_type": "execute_result"
    }
   ],
   "source": [
    "def build_profile(**kwargs):\n",
    "    return kwargs\n",
    "\n",
    "build_profile(name = \"nithin\", Age = 23 , email = \"aimnxt@gmail.com\", phone = 999999999)\n",
    "    "
   ]
  },
  {
   "cell_type": "markdown",
   "id": "2fb10bfd-ab31-4f72-b395-4b55958c234b",
   "metadata": {},
   "source": [
    "<b>5. Write a function combine_dicts(**kwargs) that takes multiple keyword arguments and returns them as a single dictionary.</b>"
   ]
  },
  {
   "cell_type": "code",
   "execution_count": 5,
   "id": "bff00136-ab23-47cd-86ac-daa78fb408da",
   "metadata": {},
   "outputs": [
    {
     "data": {
      "text/plain": [
       "{'name': 'nithin', 'Age': 23, 'email': 'aimnxt@gmail.com', 'phone': 999999999}"
      ]
     },
     "execution_count": 5,
     "metadata": {},
     "output_type": "execute_result"
    }
   ],
   "source": [
    "def combine_dicts(**kwargs):\n",
    "    return kwargs\n",
    "combine_dicts(name = \"nithin\", Age = 23 , email = \"aimnxt@gmail.com\", phone = 999999999)\n"
   ]
  },
  {
   "cell_type": "markdown",
   "id": "a1ae293d-a15b-438e-a48a-0bd06bc00ad2",
   "metadata": {},
   "source": [
    "<b>6. Create a function sum_named_numbers(**kwargs) that sums all the values passed as keyword arguments (assume all values are numbers).</b>\n"
   ]
  },
  {
   "cell_type": "code",
   "execution_count": 6,
   "id": "3e4026a7-7d6d-466e-8b52-c5e47be74a7b",
   "metadata": {},
   "outputs": [
    {
     "data": {
      "text/plain": [
       "10"
      ]
     },
     "execution_count": 6,
     "metadata": {},
     "output_type": "execute_result"
    }
   ],
   "source": [
    "def sum_named_numbers(**kwargs):\n",
    "    s=0\n",
    "    for k,v in kwargs.items():\n",
    "        s = s+v\n",
    "    return s\n",
    "sum_named_numbers(a=1,b=2,c=3,d=4)"
   ]
  },
  {
   "cell_type": "markdown",
   "id": "4b503489-8222-471f-8937-72f0e7873270",
   "metadata": {},
   "source": [
    "<b>7. Define a function filter_keywords(**kwargs) that only returns keyword arguments where the value is a string.</b>\n"
   ]
  },
  {
   "cell_type": "code",
   "execution_count": 7,
   "id": "0d0f7874-1692-4467-9351-ae5864343812",
   "metadata": {},
   "outputs": [
    {
     "data": {
      "text/plain": [
       "['nithin', 'balu', 'harsha']"
      ]
     },
     "execution_count": 7,
     "metadata": {},
     "output_type": "execute_result"
    }
   ],
   "source": [
    "def filter_keywords(**kwargs):\n",
    "    l=[]\n",
    "    for k,v in kwargs.items():\n",
    "        l.append(v)\n",
    "        f = list(filter(lambda b: type(b) == str, l))\n",
    "    return f\n",
    "filter_keywords(a=\"nithin\",b=\"balu\",c=10, d=90,e=\"harsha\")"
   ]
  },
  {
   "cell_type": "markdown",
   "id": "29368472-b560-4dd1-b840-bfaa82b1fc83",
   "metadata": {},
   "source": [
    "<b>8. Write a decorator function debug_info(func) that prints **kwargs passed to any wrapped function.</b>"
   ]
  },
  {
   "cell_type": "code",
   "execution_count": null,
   "id": "2ba7ab02-5cee-455d-b837-a13b83b00e12",
   "metadata": {},
   "outputs": [],
   "source": []
  },
  {
   "cell_type": "markdown",
   "id": "a1f76074-5ae9-4cd8-b797-ad51f943bbbe",
   "metadata": {},
   "source": [
    "<b>9. Write a function print_styled_text(text, **styles) that applies style options like bold=True, italic=True, etc., and prints how the text should be styled.</b>"
   ]
  },
  {
   "cell_type": "code",
   "execution_count": 8,
   "id": "543ba5bc-708e-4ed4-b4d7-e47fd1eea1e9",
   "metadata": {},
   "outputs": [
    {
     "name": "stdout",
     "output_type": "stream",
     "text": [
      "Text : I am learning datascience at Aimnxt' | Styles_applied : bold, italic\n"
     ]
    }
   ],
   "source": [
    "def print_styled_text(text,**styles):\n",
    "    applied_styles = [style for style,enabled in styles.items() if enabled]\n",
    "\n",
    "    if applied_styles :\n",
    "        style_str = ', ' .join(applied_styles)\n",
    "        print(f\"Text : {text}' | Styles_applied : {style_str}\")\n",
    "    else:\n",
    "        print(f\"Text  : {text}' | No styles applied\")\n",
    "\n",
    "\n",
    "        \n",
    "print_styled_text(\"I am learning datascience at Aimnxt\" , bold=True,italic=True,underline=False)"
   ]
  },
  {
   "cell_type": "markdown",
   "id": "0ca300ad-a084-46ca-b1a1-b11275a8a705",
   "metadata": {},
   "source": [
    "<b>10. Write a function custom_message(**kwargs) where it checks for specific keys like name, time, and location and builds a formatted message if those keys exist.</b>"
   ]
  },
  {
   "cell_type": "code",
   "execution_count": 9,
   "id": "4a121c4d-6a04-4cbf-93e0-c147f4319135",
   "metadata": {},
   "outputs": [
    {
     "name": "stdout",
     "output_type": "stream",
     "text": [
      "Hello, nithin at 10 AM in Room 204!\n",
      "Hello, voot!\n",
      "No specific message to print\n"
     ]
    }
   ],
   "source": [
    "def custom_message(**kwargs):\n",
    "    name = kwargs.get('name')\n",
    "    time = kwargs.get('time')\n",
    "    location = kwargs.get('location')\n",
    "    \n",
    "    message_part = []\n",
    "    \n",
    "    if name:\n",
    "        message_part.append(f\"Hello, {name}\")\n",
    "    if time:\n",
    "        message_part.append(f\"at {time}\")\n",
    "    if location:\n",
    "        message_part.append(f\"in {location}\")\n",
    "\n",
    "    if message_part : \n",
    "        message = ' '.join(message_part) + \"!\"\n",
    "        print(message)\n",
    "    else:\n",
    "        print(\"No specific message to print\")\n",
    "\n",
    "custom_message(name = \"nithin\" , time = \"10 AM\", location = \"Room 204\")\n",
    "custom_message(name = \"voot\")\n",
    "custom_message()"
   ]
  },
  {
   "cell_type": "markdown",
   "id": "882bc402-b71f-42a7-bfea-70af9d8b884c",
   "metadata": {},
   "source": [
    "<b>11. Write a program that takes user input for two numbers and divides them. Use try-except to catch divide-by-zero errors.</b>"
   ]
  },
  {
   "cell_type": "code",
   "execution_count": 10,
   "id": "cb90a8dd-0467-4f10-a2ae-e6dbdce9810c",
   "metadata": {},
   "outputs": [
    {
     "name": "stdin",
     "output_type": "stream",
     "text": [
      "Enter First Number:  45\n",
      "Enter Second Number:  0\n"
     ]
    },
    {
     "name": "stdout",
     "output_type": "stream",
     "text": [
      "Number Can't Divide by Zero\n"
     ]
    }
   ],
   "source": [
    "try:\n",
    "    a = int(input(\"Enter First Number: \"))\n",
    "    b = int(input(\"Enter Second Number: \"))\n",
    "    c = a/b\n",
    "    print(c)\n",
    "except ZeroDivisionError:\n",
    "    print(\"Number Can't Divide by Zero\")"
   ]
  },
  {
   "cell_type": "markdown",
   "id": "f894b031-a986-416e-8f5d-e56c19aa3d03",
   "metadata": {},
   "source": [
    "<b>12. Create a function that reads an integer from user input. Use try-except to handle invalid (non-integer) input.</b>"
   ]
  },
  {
   "cell_type": "code",
   "execution_count": 11,
   "id": "9ade9a29-08ff-478b-a320-1f387ef6a18a",
   "metadata": {},
   "outputs": [
    {
     "name": "stdin",
     "output_type": "stream",
     "text": [
      "Enter First Number:  2\n",
      "Enter Second Number:  4\n"
     ]
    },
    {
     "data": {
      "text/plain": [
       "0.5"
      ]
     },
     "execution_count": 11,
     "metadata": {},
     "output_type": "execute_result"
    }
   ],
   "source": [
    "def func():\n",
    "    try:\n",
    "        a = int(input(\"Enter First Number: \"))\n",
    "        b = int(input(\"Enter Second Number: \"))\n",
    "        c = a/b\n",
    "        return c\n",
    "    except ZeroDivisionError:\n",
    "        return \"Number Can't Divide by Zero\"\n",
    "func()"
   ]
  },
  {
   "cell_type": "markdown",
   "id": "a4c2f8ab-f7ec-4bd2-bd2a-3b4fdfb46ad6",
   "metadata": {},
   "source": [
    "<b>13. Write a function that opens a file by name. Use exception handling to catch the case where the file doesn’t exist.</b>"
   ]
  },
  {
   "cell_type": "code",
   "execution_count": null,
   "id": "cfd744cb-9e9c-4bce-8477-705af9b2dbb7",
   "metadata": {},
   "outputs": [],
   "source": []
  },
  {
   "cell_type": "markdown",
   "id": "383d8209-70da-4c60-8658-8f8f225e4d3e",
   "metadata": {},
   "source": [
    "<b>14. Write a calculator function that takes two numbers and an operation (+, -, *, /) and handles any potential exceptions (e.g., division by zero, invalid operation).</b>"
   ]
  },
  {
   "cell_type": "code",
   "execution_count": 12,
   "id": "a64abfd4-9061-47d6-9ee5-c23df95eda07",
   "metadata": {},
   "outputs": [
    {
     "name": "stdout",
     "output_type": "stream",
     "text": [
      "3\n",
      "2\n",
      "1\n",
      "2.0\n",
      "Number cannot be divided by zero\n"
     ]
    }
   ],
   "source": [
    "def calculator(a,b,symbol):\n",
    "    try:\n",
    "        if symbol == '+':\n",
    "            c = a+b\n",
    "            return c\n",
    "        elif symbol == '-':\n",
    "            c = a-b\n",
    "            return c\n",
    "        elif symbol == '*' :\n",
    "            c = a*b\n",
    "            return c\n",
    "        else:\n",
    "            c = a/b\n",
    "            return c\n",
    "    except ZeroDivisionError:\n",
    "        print(\"Number cannot be divided by zero\")\n",
    "    except InvalidOperation:\n",
    "        print(\"Operation cannot be perfomed\")\n",
    "\n",
    "a = calculator(1,2,'+')\n",
    "print(a)\n",
    "b = calculator(1,2,'*')\n",
    "print(b)\n",
    "c = calculator(2,1,'-')\n",
    "print(c)\n",
    "d = calculator(2,1,'/')\n",
    "print(d)\n",
    "e = calculator(2,0,'/')"
   ]
  },
  {
   "cell_type": "markdown",
   "id": "750a3224-8f7a-4b38-8d4f-0b43a1d475f7",
   "metadata": {},
   "source": [
    "<b>15. Make a function get_list_item(lst, index) that returns the element at the given index. Catch exceptions if the index is out of range.</b>"
   ]
  },
  {
   "cell_type": "code",
   "execution_count": 13,
   "id": "f51e4c25-2669-49d6-b037-1400bfab27d2",
   "metadata": {},
   "outputs": [
    {
     "name": "stdin",
     "output_type": "stream",
     "text": [
      "Enter index:  6\n"
     ]
    },
    {
     "name": "stdout",
     "output_type": "stream",
     "text": [
      "Index Is Out Of Range\n"
     ]
    }
   ],
   "source": [
    "def get_list_item(lst,index):\n",
    "    try:\n",
    "        return lst[index]\n",
    "    except IndexError:\n",
    "        print(\"Index Is Out Of Range\")\n",
    "lst=[1,2,3,4,5,6]\n",
    "index=int(input(\"Enter index: \"))\n",
    "get_list_item(lst,index)"
   ]
  },
  {
   "cell_type": "markdown",
   "id": "38a0a778-b0b3-497c-9518-7a4298d250ab",
   "metadata": {},
   "source": [
    "<b>16. Write a function called greet that takes a name as input and prints \"Hello, [name]!\"</b>"
   ]
  },
  {
   "cell_type": "code",
   "execution_count": 126,
   "id": "8ed245cc-4c04-4f62-8cf0-b6c6d8112d56",
   "metadata": {},
   "outputs": [
    {
     "name": "stdout",
     "output_type": "stream",
     "text": [
      "Hello, nithin !\n"
     ]
    }
   ],
   "source": [
    "def greet(name):\n",
    "    print(f\"Hello, {name} !\")\n",
    "greet(\"nithin\")"
   ]
  },
  {
   "cell_type": "markdown",
   "id": "2faa6251-ad9c-475e-b1ce-cf2fd54eadae",
   "metadata": {},
   "source": [
    "<b>17. Create a function add_numbers that takes two numbers as arguments and returns their sum.</b>\n"
   ]
  },
  {
   "cell_type": "code",
   "execution_count": 131,
   "id": "9b5454f5-2833-46c9-b1d6-90f7386cebd7",
   "metadata": {},
   "outputs": [
    {
     "data": {
      "text/plain": [
       "30"
      ]
     },
     "execution_count": 131,
     "metadata": {},
     "output_type": "execute_result"
    }
   ],
   "source": [
    "def add_numbers(a,b):\n",
    "    return a+b\n",
    "add_numbers(10,20)"
   ]
  },
  {
   "cell_type": "markdown",
   "id": "72164bc0-6143-4498-93ff-08f1a5f14059",
   "metadata": {},
   "source": [
    "<b>18. Write a function is_even that returns True if a number is even, and False otherwise.</b>"
   ]
  },
  {
   "cell_type": "code",
   "execution_count": 138,
   "id": "94f57f0e-9451-458f-b439-816cdcdd3e5d",
   "metadata": {},
   "outputs": [
    {
     "name": "stdout",
     "output_type": "stream",
     "text": [
      "True\n",
      "False\n"
     ]
    }
   ],
   "source": [
    "def is_even(n):\n",
    "    if n%2==0:\n",
    "        print(\"True\")\n",
    "    else:\n",
    "        print(\"False\")\n",
    "is_even(2)\n",
    "is_even(5)\n"
   ]
  },
  {
   "cell_type": "markdown",
   "id": "12a03834-a753-4c48-adea-774d7b702c25",
   "metadata": {},
   "source": [
    "<b>19. Define a function factorial that returns the factorial of a given number.</b>"
   ]
  },
  {
   "cell_type": "code",
   "execution_count": 141,
   "id": "57b5f3b4-3cf6-49f9-8e66-a3827781e1a1",
   "metadata": {},
   "outputs": [
    {
     "data": {
      "text/plain": [
       "120"
      ]
     },
     "execution_count": 141,
     "metadata": {},
     "output_type": "execute_result"
    }
   ],
   "source": [
    "def fact(n):\n",
    "    if n == 1:\n",
    "        return 1\n",
    "    else:\n",
    "        return n * fact(n-1)\n",
    "fact(5)"
   ]
  },
  {
   "cell_type": "markdown",
   "id": "a3fdced3-dbf4-4717-99f4-cd1228913460",
   "metadata": {},
   "source": [
    "<b>20. Create a function reverse_string that takes a string and returns it reversed.</b>"
   ]
  },
  {
   "cell_type": "code",
   "execution_count": 144,
   "id": "be129761-d0e1-4a79-bc6b-1590aa6f42ad",
   "metadata": {},
   "outputs": [
    {
     "data": {
      "text/plain": [
       "'nihtin'"
      ]
     },
     "execution_count": 144,
     "metadata": {},
     "output_type": "execute_result"
    }
   ],
   "source": [
    "def reverse_string(st):\n",
    "    return st[::-1]\n",
    "reverse_string(\"nithin\")"
   ]
  },
  {
   "cell_type": "markdown",
   "id": "2e6b1411-c10f-44ca-94fd-ea88d7d43181",
   "metadata": {},
   "source": [
    "<b>21. Write a function max_of_three that returns the largest of three numbers.</b>\n"
   ]
  },
  {
   "cell_type": "code",
   "execution_count": 147,
   "id": "59a532d5-5b27-4f7d-bc43-9fd0131c7e96",
   "metadata": {},
   "outputs": [
    {
     "data": {
      "text/plain": [
       "3"
      ]
     },
     "execution_count": 147,
     "metadata": {},
     "output_type": "execute_result"
    }
   ],
   "source": [
    "def max_of_three(a,b,c):\n",
    "    if a>b and a>c:\n",
    "        return a\n",
    "    elif b>a and b>c:\n",
    "        return b\n",
    "    else:\n",
    "        return c\n",
    "max_of_three(1,2,3)"
   ]
  },
  {
   "cell_type": "markdown",
   "id": "65eaf194-7821-4bd5-802b-1a333d3948cd",
   "metadata": {},
   "source": [
    "<b>22. Define a function count_vowels that returns the number of vowels in a string.</b>\n"
   ]
  },
  {
   "cell_type": "code",
   "execution_count": 154,
   "id": "36f05a23-2111-4059-9f20-8872b7a9b158",
   "metadata": {},
   "outputs": [
    {
     "data": {
      "text/plain": [
       "10"
      ]
     },
     "execution_count": 154,
     "metadata": {},
     "output_type": "execute_result"
    }
   ],
   "source": [
    "def count_vowels(s):\n",
    "    a = \"aeiouAEIOU\"\n",
    "    c=0\n",
    "    for s in a:\n",
    "        c=c+1\n",
    "    return c\n",
    "count_vowels(\"DATASCIENCE AIMNXT\")\n",
    "    "
   ]
  },
  {
   "cell_type": "markdown",
   "id": "fe4f01cc-62ba-4a6b-94a5-c057cf66d83c",
   "metadata": {},
   "source": [
    "<b>23. Write a function fibonacci(n) that returns the nth Fibonacci number.</b>"
   ]
  },
  {
   "cell_type": "code",
   "execution_count": 159,
   "id": "80dc2391-a9db-4af5-96f4-82f5dd99b916",
   "metadata": {},
   "outputs": [
    {
     "name": "stdout",
     "output_type": "stream",
     "text": [
      "1 2 3 5 8 "
     ]
    }
   ],
   "source": [
    "def fibonacci(n):\n",
    "    a=0\n",
    "    b=1\n",
    "    for i in range(n):\n",
    "        c=a+b\n",
    "        print(c, end=\" \")\n",
    "        a=b\n",
    "        b=c\n",
    "fibonacci(5)"
   ]
  },
  {
   "cell_type": "code",
   "execution_count": null,
   "id": "1785a771-bf1d-4c85-b244-04ab918c56fa",
   "metadata": {},
   "outputs": [],
   "source": []
  }
 ],
 "metadata": {
  "kernelspec": {
   "display_name": "Python 3 (ipykernel)",
   "language": "python",
   "name": "python3"
  },
  "language_info": {
   "codemirror_mode": {
    "name": "ipython",
    "version": 3
   },
   "file_extension": ".py",
   "mimetype": "text/x-python",
   "name": "python",
   "nbconvert_exporter": "python",
   "pygments_lexer": "ipython3",
   "version": "3.12.7"
  }
 },
 "nbformat": 4,
 "nbformat_minor": 5
}

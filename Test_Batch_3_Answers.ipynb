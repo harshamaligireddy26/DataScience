{
 "cells": [
  {
   "cell_type": "markdown",
   "id": "49aa5e5a-f0d2-41ba-9571-1f104b7528c3",
   "metadata": {},
   "source": [
    "# Practice Questions"
   ]
  },
  {
   "cell_type": "markdown",
   "id": "4a5b8dd4-58c1-42fc-882f-58e8749924f4",
   "metadata": {},
   "source": [
    "<b>1. What is the difference between a function and a method in Python?</b>"
   ]
  },
  {
   "cell_type": "markdown",
   "id": "57fc5539-cab3-4689-8b27-6f97183daf0b",
   "metadata": {},
   "source": [
    "Function:\n",
    "1. A function is defined using the def keyword and is not tied to any object or class (unless explicitly passed).\n",
    "2. It can be defined at the module level (outside of a class).\n",
    "\n",
    "Method:\n",
    "1. A method is also a function, but it is associated with an object or class.\n",
    "2. It is defined within a class and automatically takes the instance (self) or class (cls) as its first argument.\n",
    "\n"
   ]
  },
  {
   "cell_type": "markdown",
   "id": "526b07b8-472e-4a23-a8ba-8e07afc47d09",
   "metadata": {},
   "source": [
    "<b>2. Which keyword is used to define a function in Python? <b>"
   ]
  },
  {
   "cell_type": "markdown",
   "id": "564c711f-cba2-48be-91d7-54c91cbe19b1",
   "metadata": {},
   "source": [
    "A function is defined using the def keyword"
   ]
  },
  {
   "cell_type": "markdown",
   "id": "0af03a7f-6704-49f4-9c20-31d5a4338c04",
   "metadata": {},
   "source": [
    "<b>3. What will return do inside a function?<b>"
   ]
  },
  {
   "cell_type": "markdown",
   "id": "85293253-e0c1-4b73-9982-0da5096fd5f0",
   "metadata": {},
   "source": [
    "It allows the function to return a value or result."
   ]
  },
  {
   "cell_type": "markdown",
   "id": "734f084c-f9cb-4f8d-86c6-06bb965bae92",
   "metadata": {},
   "source": [
    "<b>4. What is the default return value of a function if there is no return statement?<b>"
   ]
  },
  {
   "cell_type": "markdown",
   "id": "ce2b94cd-4da0-458f-91ab-6b8f2d6e8ec5",
   "metadata": {},
   "source": [
    "If a Python function does not have a return statement (or the return statement has no value), it returns None by default."
   ]
  },
  {
   "cell_type": "markdown",
   "id": "c968c03d-868a-434e-af89-732364a0b2a2",
   "metadata": {},
   "source": [
    "<b>5. What is a keyword argument? Give an example.<b>"
   ]
  },
  {
   "cell_type": "markdown",
   "id": "637932e4-86e9-420c-88c2-9bbd46af103d",
   "metadata": {},
   "source": [
    "A keyword argument is an argument passed to a function by explicitly specifying the parameter name\n"
   ]
  },
  {
   "cell_type": "code",
   "execution_count": 1,
   "id": "6c4c3a2f-ff71-4286-b143-08e240d40f28",
   "metadata": {},
   "outputs": [
    {
     "name": "stdout",
     "output_type": "stream",
     "text": [
      "Good morning, Harsha!\n"
     ]
    }
   ],
   "source": [
    "def greet(name, message):\n",
    "    print(f\"{message}, {name}!\")\n",
    "\n",
    "greet(name=\"Harsha\", message=\"Good morning\")"
   ]
  },
  {
   "cell_type": "markdown",
   "id": "a6e9c70a-2a00-42d0-ac54-d34978f894e8",
   "metadata": {},
   "source": [
    "<b>6. What is the use of *args and **kwargs in function definitions?<b>"
   ]
  },
  {
   "cell_type": "markdown",
   "id": "bf6a5bbe-74d4-412b-a2f7-907d16a01ec1",
   "metadata": {},
   "source": [
    "1. *args – Non-keyword variable arguments\n",
    "   \n",
    "Allows you to pass any number of positional arguments.\n",
    "\n",
    "\n",
    "Inside the function, args is a tuple.\n",
    "\n",
    "2. **kwargs – Keyword variable arguments\n",
    "  \n",
    "Allows you to pass any number of keyword arguments.\n",
    "\n",
    "\n",
    "Inside the function, kwargs is a dictionary."
   ]
  },
  {
   "cell_type": "markdown",
   "id": "96b594e4-5dc0-44c6-88b5-53981d8640d0",
   "metadata": {},
   "source": [
    "<b>7. Can you define a function inside another function in Python?<b>"
   ]
  },
  {
   "cell_type": "markdown",
   "id": "6cb4b68e-a4cd-422a-a816-af180f4a4551",
   "metadata": {},
   "source": [
    "Yes, you can define a function inside another function in Python. This is called a nested function or inner function.\n"
   ]
  },
  {
   "cell_type": "code",
   "execution_count": 2,
   "id": "a162cd3d-53a7-4898-ad99-07705d8b6213",
   "metadata": {},
   "outputs": [
    {
     "name": "stdout",
     "output_type": "stream",
     "text": [
      "Hello, Harsha!\n"
     ]
    }
   ],
   "source": [
    "def outer_function(name):\n",
    "    def inner_function():\n",
    "        return f\"Hello, {name}!\"\n",
    "    return inner_function()\n",
    "\n",
    "print(outer_function(\"Harsha\"))"
   ]
  },
  {
   "cell_type": "markdown",
   "id": "7c71e1fc-9926-47f9-8e04-4460d6ff6292",
   "metadata": {},
   "source": [
    "<b>8. What does global keyword do inside a function?<b>"
   ]
  },
  {
   "cell_type": "markdown",
   "id": "10da71fa-ec4d-472b-82ea-9bd71a3fd116",
   "metadata": {},
   "source": [
    "The global keyword in Python is used inside a function to indicate that a variable refers to the global (module-level) scope, not the local one.\n",
    "\n",
    "\n",
    "Purpose:\n",
    "It allows you to modify a global variable from within a function."
   ]
  },
  {
   "cell_type": "code",
   "execution_count": 3,
   "id": "d320577b-26a8-45bb-abef-af7d5521beed",
   "metadata": {},
   "outputs": [
    {
     "name": "stdout",
     "output_type": "stream",
     "text": [
      "10\n"
     ]
    }
   ],
   "source": [
    "x = 10\n",
    "\n",
    "def modify_global():\n",
    "    global x\n",
    "    x = 10\n",
    "\n",
    "modify_global()\n",
    "print(x)"
   ]
  },
  {
   "cell_type": "markdown",
   "id": "d0692dc9-9323-448a-aaa8-40e63bf0c222",
   "metadata": {},
   "source": [
    "<b>9. Which of the following creates a lambda function?\n",
    "a) lambda x: x + 2\n",
    "b) def lambda x: x + 2\n",
    "c) function lambda(x): x + 2"
   ]
  },
  {
   "cell_type": "code",
   "execution_count": 4,
   "id": "4970902f-2cab-4eff-80cc-7b4436ac704c",
   "metadata": {},
   "outputs": [
    {
     "data": {
      "text/plain": [
       "<function __main__.<lambda>(x)>"
      ]
     },
     "execution_count": 4,
     "metadata": {},
     "output_type": "execute_result"
    }
   ],
   "source": [
    "lambda x: x+2"
   ]
  },
  {
   "cell_type": "markdown",
   "id": "0f355851-a5fa-47de-aa45-342d47fcc532",
   "metadata": {},
   "source": [
    "<b>10.Identify the error:\n",
    "\n",
    "def greet(name):\n",
    "\n",
    "print(\"Hello\", name)"
   ]
  },
  {
   "cell_type": "code",
   "execution_count": 5,
   "id": "e4ea6534-c533-4228-9053-892e93b0133f",
   "metadata": {},
   "outputs": [
    {
     "name": "stdout",
     "output_type": "stream",
     "text": [
      "Hello Harsha\n"
     ]
    }
   ],
   "source": [
    "def greet(name):\n",
    "    print(\"Hello\",name)\n",
    "\n",
    "greet(\"Harsha\")"
   ]
  },
  {
   "cell_type": "markdown",
   "id": "c8ee5daf-1b47-4d9c-b2ef-65d71ed566ec",
   "metadata": {},
   "source": [
    "<b>11. Write a function that takes two numbers and returns their sum."
   ]
  },
  {
   "cell_type": "code",
   "execution_count": 6,
   "id": "9cca0046-c53e-4f02-afed-f8ba5cc77dea",
   "metadata": {},
   "outputs": [
    {
     "data": {
      "text/plain": [
       "12"
      ]
     },
     "execution_count": 6,
     "metadata": {},
     "output_type": "execute_result"
    }
   ],
   "source": [
    "def add(a,b):\n",
    "    return a+b\n",
    "add(10,2)"
   ]
  },
  {
   "cell_type": "markdown",
   "id": "93c01593-de99-433a-aed8-0610e3f0967e",
   "metadata": {},
   "source": [
    "<b>12. Write a function to check if a number is even or odd."
   ]
  },
  {
   "cell_type": "code",
   "execution_count": 7,
   "id": "a8aeccb8-39b7-4a12-8ca5-cd852bf8ac94",
   "metadata": {},
   "outputs": [
    {
     "data": {
      "text/plain": [
       "'Given Number is Odd'"
      ]
     },
     "execution_count": 7,
     "metadata": {},
     "output_type": "execute_result"
    }
   ],
   "source": [
    "def od(n):\n",
    "    if n%2==0:\n",
    "        return \"Given Number is Even\"\n",
    "    else:\n",
    "        return \"Given Number is Odd\"\n",
    "\n",
    "od(15)"
   ]
  },
  {
   "cell_type": "markdown",
   "id": "7d0ef626-a4bb-486a-be39-df718ff17763",
   "metadata": {},
   "source": [
    "<b>13. Write a function that returns the factorial of a number."
   ]
  },
  {
   "cell_type": "code",
   "execution_count": 8,
   "id": "378a17e1-78ca-47d9-bdec-58cf67cde5a1",
   "metadata": {},
   "outputs": [
    {
     "data": {
      "text/plain": [
       "720"
      ]
     },
     "execution_count": 8,
     "metadata": {},
     "output_type": "execute_result"
    }
   ],
   "source": [
    "def fact(n):\n",
    "    if n==0 or n==1:\n",
    "        return 1\n",
    "    else:\n",
    "        return n * fact(n-1)\n",
    "\n",
    "fact(6)"
   ]
  },
  {
   "cell_type": "markdown",
   "id": "9f44865c-c2e0-4769-b2df-b31f503f35e0",
   "metadata": {},
   "source": [
    "<b>14. Write a function that reverses a string."
   ]
  },
  {
   "cell_type": "code",
   "execution_count": 9,
   "id": "368e89fa-d613-4a6b-9504-3665ed772456",
   "metadata": {},
   "outputs": [
    {
     "data": {
      "text/plain": [
       "'ahsraH'"
      ]
     },
     "execution_count": 9,
     "metadata": {},
     "output_type": "execute_result"
    }
   ],
   "source": [
    "def rs(s):\n",
    "    return s[::-1]\n",
    "\n",
    "rs(\"Harsha\")\n",
    "    "
   ]
  },
  {
   "cell_type": "markdown",
   "id": "ffadafbb-4473-4999-a0bb-e3ff92e35dfc",
   "metadata": {},
   "source": [
    "<b>15. Write a function that takes a list and returns a list of squares."
   ]
  },
  {
   "cell_type": "code",
   "execution_count": 11,
   "id": "5d3de9ae-cc66-43fe-a459-6741778e103a",
   "metadata": {},
   "outputs": [
    {
     "data": {
      "text/plain": [
       "[1, 4, 9, 1, 36, 16, 25, 36]"
      ]
     },
     "execution_count": 11,
     "metadata": {},
     "output_type": "execute_result"
    }
   ],
   "source": [
    "def square(l):\n",
    "    return [x**2 for x in l]\n",
    "\n",
    "l=[1,2,3,1,6,4,5,6]\n",
    "square(l)\n"
   ]
  },
  {
   "cell_type": "markdown",
   "id": "a3d12a90-6904-425a-b9e6-0dc73449116c",
   "metadata": {},
   "source": [
    "<b>16. Write a function that takes a string and returns True if it is a palindrome."
   ]
  },
  {
   "cell_type": "code",
   "execution_count": 12,
   "id": "8397e9d3-439f-4f07-a00e-42e96a423fcb",
   "metadata": {},
   "outputs": [
    {
     "data": {
      "text/plain": [
       "'Not Palindrome'"
      ]
     },
     "execution_count": 12,
     "metadata": {},
     "output_type": "execute_result"
    }
   ],
   "source": [
    "def palin(s):\n",
    "    a = s[::-1]\n",
    "    if s==a:\n",
    "        return \"Palindrome\"\n",
    "    else:\n",
    "        return \"Not Palindrome\"\n",
    "\n",
    "palin(\"harsha\")"
   ]
  },
  {
   "cell_type": "markdown",
   "id": "4c675716-25e4-4918-a520-a82ccc6d59cc",
   "metadata": {},
   "source": [
    "<b>17. Write a recursive function to calculate the nth Fibonacci number."
   ]
  },
  {
   "cell_type": "code",
   "execution_count": 13,
   "id": "61afb571-f7cf-4ba4-a98e-8455d22571ef",
   "metadata": {},
   "outputs": [
    {
     "data": {
      "text/plain": [
       "5"
      ]
     },
     "execution_count": 13,
     "metadata": {},
     "output_type": "execute_result"
    }
   ],
   "source": [
    "def fibonacci(n):\n",
    "    if n <= 0:\n",
    "        return 0\n",
    "    elif n == 1:\n",
    "        return 1\n",
    "    else:\n",
    "        return fibonacci(n - 1) + fibonacci(n - 2)\n",
    "\n",
    "fibonacci(5)"
   ]
  },
  {
   "cell_type": "markdown",
   "id": "3ff6ecdd-28e7-4675-a9b3-3840f8d8485e",
   "metadata": {},
   "source": [
    "<b>18. Write a function that accepts variable number of arguments and returns their sum."
   ]
  },
  {
   "cell_type": "code",
   "execution_count": 14,
   "id": "e3e6a3ff-b381-489c-a778-3e9f3693d01e",
   "metadata": {},
   "outputs": [
    {
     "data": {
      "text/plain": [
       "21"
      ]
     },
     "execution_count": 14,
     "metadata": {},
     "output_type": "execute_result"
    }
   ],
   "source": [
    "def s(*args):\n",
    "    return sum(args)\n",
    "s(1,2,3,4,5,6)"
   ]
  },
  {
   "cell_type": "markdown",
   "id": "4b9f3a02-c11a-4ea2-9496-482de738275b",
   "metadata": {},
   "source": [
    "<b>19. Write a function that takes a dictionary and prints keys and values."
   ]
  },
  {
   "cell_type": "code",
   "execution_count": 15,
   "id": "22a2eda9-179f-465c-9790-281723e0906b",
   "metadata": {},
   "outputs": [
    {
     "name": "stdout",
     "output_type": "stream",
     "text": [
      "name harsha\n",
      "age 22\n",
      "number 236\n"
     ]
    }
   ],
   "source": [
    "def dict(**kwargs):\n",
    "    for k,v in kwargs.items():\n",
    "        print(k,v)\n",
    "dict(name=\"harsha\", age=22, number=236)"
   ]
  },
  {
   "cell_type": "markdown",
   "id": "7e10dfd9-904b-4fec-904b-3cc8ca7aef66",
   "metadata": {},
   "source": [
    "<b>20. Write a function that accepts a list of numbers and returns only even numbers."
   ]
  },
  {
   "cell_type": "code",
   "execution_count": 16,
   "id": "18f69670-f21d-4a65-a313-4c4e21883414",
   "metadata": {},
   "outputs": [
    {
     "name": "stdout",
     "output_type": "stream",
     "text": [
      "2\n",
      "4\n",
      "6\n"
     ]
    }
   ],
   "source": [
    "def even(l):\n",
    "    for i in l:\n",
    "        if i%2==0:\n",
    "            print(i)\n",
    "    \n",
    "l=[1,2,3,4,5,6]\n",
    "even(l)\n",
    "    "
   ]
  },
  {
   "cell_type": "markdown",
   "id": "89e23bad-2184-4fa7-8a33-4f624713d841",
   "metadata": {},
   "source": [
    "<b>21. Create a lambda function to add 5 to a given number.\n"
   ]
  },
  {
   "cell_type": "code",
   "execution_count": 17,
   "id": "e398625c-874d-4cfa-920f-3a278e0ac3d8",
   "metadata": {},
   "outputs": [
    {
     "data": {
      "text/plain": [
       "15"
      ]
     },
     "execution_count": 17,
     "metadata": {},
     "output_type": "execute_result"
    }
   ],
   "source": [
    "add_five = lambda x: x + 5\n",
    "add_five(10)"
   ]
  },
  {
   "cell_type": "markdown",
   "id": "ac3efaa3-3bb8-4889-bb31-eda8e9b7670c",
   "metadata": {},
   "source": [
    "<b>22. Create a function that returns the largest number from a list."
   ]
  },
  {
   "cell_type": "code",
   "execution_count": 18,
   "id": "e30361d0-c9be-415a-95cb-ddc9ea065516",
   "metadata": {},
   "outputs": [
    {
     "data": {
      "text/plain": [
       "6"
      ]
     },
     "execution_count": 18,
     "metadata": {},
     "output_type": "execute_result"
    }
   ],
   "source": [
    "def largest(l):\n",
    "    return max(l)\n",
    "l=[1,2,3,4,5,6]\n",
    "largest(l)"
   ]
  },
  {
   "cell_type": "markdown",
   "id": "2696e519-4e95-4b09-b2ce-b786e251c237",
   "metadata": {},
   "source": [
    "<b>23. Create a function with default arguments."
   ]
  },
  {
   "cell_type": "code",
   "execution_count": 19,
   "id": "66a96336-1a3f-4c69-a528-e4c8917586bf",
   "metadata": {},
   "outputs": [
    {
     "name": "stdout",
     "output_type": "stream",
     "text": [
      "Hello, Harsha!\n",
      "Hello, Guest!\n"
     ]
    }
   ],
   "source": [
    "def greet(name=\"Guest\"):\n",
    "    print(f\"Hello, {name}!\")\n",
    "greet(\"Harsha\")\n",
    "greet()"
   ]
  },
  {
   "cell_type": "markdown",
   "id": "fb4ff72d-73cd-47f2-a84b-a0e31b285a6d",
   "metadata": {},
   "source": [
    "<b>24. Write a function that counts vowels in a string.\n"
   ]
  },
  {
   "cell_type": "code",
   "execution_count": 124,
   "id": "db6b5723-31cd-4c38-b293-c852916986f7",
   "metadata": {},
   "outputs": [
    {
     "data": {
      "text/plain": [
       "2"
      ]
     },
     "execution_count": 124,
     "metadata": {},
     "output_type": "execute_result"
    }
   ],
   "source": [
    "v = 'aeiouAEIOU'\n",
    "def cv(s):\n",
    "    c=0\n",
    "    for i in s:\n",
    "        if i in v:\n",
    "            c=c+1\n",
    "    return c\n",
    "cv(\"harsha\")\n",
    "    "
   ]
  },
  {
   "cell_type": "markdown",
   "id": "3df221fe-ce41-43e6-8147-89cb0818860e",
   "metadata": {},
   "source": [
    "<b>25. Write a function that merges two lists and removes duplicates."
   ]
  },
  {
   "cell_type": "code",
   "execution_count": 20,
   "id": "ea4aee13-e5bb-4d60-9be0-d998f2495d1f",
   "metadata": {},
   "outputs": [
    {
     "data": {
      "text/plain": [
       "[1, 2, 3, 4, 5, 6]"
      ]
     },
     "execution_count": 20,
     "metadata": {},
     "output_type": "execute_result"
    }
   ],
   "source": [
    "def merge_and_remove_duplicates(list1, list2):\n",
    "    merged_list = list1 + list2\n",
    "    return list(set(merged_list))\n",
    "l=[1,2,3,4,5,6]\n",
    "l1=[2,3,4,5,6]\n",
    "merge_and_remove_duplicates(l,l1)"
   ]
  },
  {
   "cell_type": "markdown",
   "id": "0db63e7c-429f-4e33-977c-34c7c393ced2",
   "metadata": {},
   "source": [
    "<b>26. What is pandas in Python?"
   ]
  },
  {
   "cell_type": "markdown",
   "id": "3f02a63e-118a-486b-8c20-b7ea9ae12f22",
   "metadata": {},
   "source": [
    "Pandas is a powerful and flexible open-source library in Python used for data manipulation and analysis. It provides data structures like Series and DataFrame that make it easy to work with structured data (e.g., tabular data, time series, and more)."
   ]
  },
  {
   "cell_type": "markdown",
   "id": "d349592d-8f98-47a6-b980-f5866c67dbac",
   "metadata": {},
   "source": [
    "<b>27. Which function is used to read a CSV file?"
   ]
  },
  {
   "cell_type": "code",
   "execution_count": 21,
   "id": "8fd51421-3077-47be-90e8-31e9b2da3a9a",
   "metadata": {},
   "outputs": [
    {
     "data": {
      "text/html": [
       "<div>\n",
       "<style scoped>\n",
       "    .dataframe tbody tr th:only-of-type {\n",
       "        vertical-align: middle;\n",
       "    }\n",
       "\n",
       "    .dataframe tbody tr th {\n",
       "        vertical-align: top;\n",
       "    }\n",
       "\n",
       "    .dataframe thead th {\n",
       "        text-align: right;\n",
       "    }\n",
       "</style>\n",
       "<table border=\"1\" class=\"dataframe\">\n",
       "  <thead>\n",
       "    <tr style=\"text-align: right;\">\n",
       "      <th></th>\n",
       "      <th>SL No</th>\n",
       "      <th>Date</th>\n",
       "      <th>Agent Name</th>\n",
       "      <th>Total Chats</th>\n",
       "      <th>Average Response Time</th>\n",
       "      <th>Average Resolution Time</th>\n",
       "      <th>Average Rating</th>\n",
       "      <th>Total Feedback</th>\n",
       "    </tr>\n",
       "  </thead>\n",
       "  <tbody>\n",
       "    <tr>\n",
       "      <th>0</th>\n",
       "      <td>1</td>\n",
       "      <td>7/30/2022</td>\n",
       "      <td>Prerna Singh</td>\n",
       "      <td>11</td>\n",
       "      <td>0:00:38</td>\n",
       "      <td>0:04:20</td>\n",
       "      <td>4.11</td>\n",
       "      <td>9</td>\n",
       "    </tr>\n",
       "    <tr>\n",
       "      <th>1</th>\n",
       "      <td>2</td>\n",
       "      <td>7/30/2022</td>\n",
       "      <td>Nandani Gupta</td>\n",
       "      <td>11</td>\n",
       "      <td>0:01:15</td>\n",
       "      <td>0:28:25</td>\n",
       "      <td>3.14</td>\n",
       "      <td>7</td>\n",
       "    </tr>\n",
       "    <tr>\n",
       "      <th>2</th>\n",
       "      <td>3</td>\n",
       "      <td>7/30/2022</td>\n",
       "      <td>Ameya Jain</td>\n",
       "      <td>14</td>\n",
       "      <td>0:00:30</td>\n",
       "      <td>0:11:36</td>\n",
       "      <td>4.55</td>\n",
       "      <td>11</td>\n",
       "    </tr>\n",
       "    <tr>\n",
       "      <th>3</th>\n",
       "      <td>4</td>\n",
       "      <td>7/30/2022</td>\n",
       "      <td>Mahesh Sarade</td>\n",
       "      <td>14</td>\n",
       "      <td>0:01:04</td>\n",
       "      <td>0:15:46</td>\n",
       "      <td>4.71</td>\n",
       "      <td>7</td>\n",
       "    </tr>\n",
       "    <tr>\n",
       "      <th>4</th>\n",
       "      <td>5</td>\n",
       "      <td>7/30/2022</td>\n",
       "      <td>Swati</td>\n",
       "      <td>14</td>\n",
       "      <td>0:01:11</td>\n",
       "      <td>0:16:33</td>\n",
       "      <td>3.67</td>\n",
       "      <td>6</td>\n",
       "    </tr>\n",
       "  </tbody>\n",
       "</table>\n",
       "</div>"
      ],
      "text/plain": [
       "   SL No       Date     Agent Name  Total Chats Average Response Time  \\\n",
       "0      1  7/30/2022   Prerna Singh           11               0:00:38   \n",
       "1      2  7/30/2022  Nandani Gupta           11               0:01:15   \n",
       "2      3  7/30/2022     Ameya Jain           14               0:00:30   \n",
       "3      4  7/30/2022  Mahesh Sarade           14               0:01:04   \n",
       "4      5  7/30/2022         Swati            14               0:01:11   \n",
       "\n",
       "  Average Resolution Time  Average Rating  Total Feedback  \n",
       "0                 0:04:20            4.11               9  \n",
       "1                 0:28:25            3.14               7  \n",
       "2                 0:11:36            4.55              11  \n",
       "3                 0:15:46            4.71               7  \n",
       "4                 0:16:33            3.67               6  "
      ]
     },
     "execution_count": 21,
     "metadata": {},
     "output_type": "execute_result"
    }
   ],
   "source": [
    "import pandas as pd\n",
    "\n",
    "df = pd.read_csv(\"C:/HARSHA/Course/DATA SCIENCE/DATASETS/AgentPerformance.csv\")\n",
    "\n",
    "df.head()"
   ]
  },
  {
   "cell_type": "markdown",
   "id": "315b962c-325d-4eed-80ae-05a91b462786",
   "metadata": {},
   "source": [
    "<b>28. What is the difference between loc and iloc?"
   ]
  },
  {
   "cell_type": "markdown",
   "id": "ecc65907-bdc6-4e20-b3a9-f5f0adc8d06c",
   "metadata": {},
   "source": [
    "1. loc: Label-based indexing\n",
    "\n",
    "loc is used to select data based on the label (index) of rows and columns.\n",
    "\n",
    "It includes both start and stop positions when slicing.\n",
    "\n",
    "\n",
    "2. iloc: Integer-location based indexing\n",
    "\n",
    "iloc is used to select data based on the integer position (i.e., the index of rows and columns).\n",
    "\n",
    "It excludes the stop position when slicing (i.e., it's exclusive of the last element)."
   ]
  },
  {
   "cell_type": "markdown",
   "id": "9469b33d-96a5-40bf-9e6f-b34681a29011",
   "metadata": {},
   "source": [
    "<b>29. How do you check for missing values in a DataFrame?`"
   ]
  },
  {
   "cell_type": "code",
   "execution_count": 22,
   "id": "3007e918-b511-4551-8404-029db305f02a",
   "metadata": {},
   "outputs": [
    {
     "name": "stdout",
     "output_type": "stream",
     "text": [
      "    Name    Age\n",
      "0  False  False\n",
      "1  False   True\n",
      "2  False  False\n",
      "3   True  False\n"
     ]
    }
   ],
   "source": [
    "import pandas as pd\n",
    "\n",
    "data = {'Name': ['Harsha', 'Balu', 'nithin', None],\n",
    "        'Age': [22, None, 32, 10]}\n",
    "\n",
    "df = pd.DataFrame(data)\n",
    "\n",
    "print(df.isnull())"
   ]
  },
  {
   "cell_type": "markdown",
   "id": "391beecc-1b48-4eb7-9256-9e52e9773a5d",
   "metadata": {},
   "source": [
    "<b>30. How can you get basic statistical summary of a DataFrame?\n"
   ]
  },
  {
   "cell_type": "code",
   "execution_count": 23,
   "id": "e44b94e3-086f-44bf-a524-49b8206425fa",
   "metadata": {},
   "outputs": [
    {
     "data": {
      "text/html": [
       "<div>\n",
       "<style scoped>\n",
       "    .dataframe tbody tr th:only-of-type {\n",
       "        vertical-align: middle;\n",
       "    }\n",
       "\n",
       "    .dataframe tbody tr th {\n",
       "        vertical-align: top;\n",
       "    }\n",
       "\n",
       "    .dataframe thead th {\n",
       "        text-align: right;\n",
       "    }\n",
       "</style>\n",
       "<table border=\"1\" class=\"dataframe\">\n",
       "  <thead>\n",
       "    <tr style=\"text-align: right;\">\n",
       "      <th></th>\n",
       "      <th>Age</th>\n",
       "    </tr>\n",
       "  </thead>\n",
       "  <tbody>\n",
       "    <tr>\n",
       "      <th>count</th>\n",
       "      <td>3.000000</td>\n",
       "    </tr>\n",
       "    <tr>\n",
       "      <th>mean</th>\n",
       "      <td>21.333333</td>\n",
       "    </tr>\n",
       "    <tr>\n",
       "      <th>std</th>\n",
       "      <td>11.015141</td>\n",
       "    </tr>\n",
       "    <tr>\n",
       "      <th>min</th>\n",
       "      <td>10.000000</td>\n",
       "    </tr>\n",
       "    <tr>\n",
       "      <th>25%</th>\n",
       "      <td>16.000000</td>\n",
       "    </tr>\n",
       "    <tr>\n",
       "      <th>50%</th>\n",
       "      <td>22.000000</td>\n",
       "    </tr>\n",
       "    <tr>\n",
       "      <th>75%</th>\n",
       "      <td>27.000000</td>\n",
       "    </tr>\n",
       "    <tr>\n",
       "      <th>max</th>\n",
       "      <td>32.000000</td>\n",
       "    </tr>\n",
       "  </tbody>\n",
       "</table>\n",
       "</div>"
      ],
      "text/plain": [
       "             Age\n",
       "count   3.000000\n",
       "mean   21.333333\n",
       "std    11.015141\n",
       "min    10.000000\n",
       "25%    16.000000\n",
       "50%    22.000000\n",
       "75%    27.000000\n",
       "max    32.000000"
      ]
     },
     "execution_count": 23,
     "metadata": {},
     "output_type": "execute_result"
    }
   ],
   "source": [
    "df.describe()"
   ]
  },
  {
   "cell_type": "markdown",
   "id": "fb568107-6e99-4be0-93d1-f61075730aea",
   "metadata": {},
   "source": [
    "<b>31. What is the output of df.head()?"
   ]
  },
  {
   "cell_type": "code",
   "execution_count": 24,
   "id": "d8ec6b8f-24cc-4deb-a5a9-7af1317c2db0",
   "metadata": {},
   "outputs": [
    {
     "data": {
      "text/html": [
       "<div>\n",
       "<style scoped>\n",
       "    .dataframe tbody tr th:only-of-type {\n",
       "        vertical-align: middle;\n",
       "    }\n",
       "\n",
       "    .dataframe tbody tr th {\n",
       "        vertical-align: top;\n",
       "    }\n",
       "\n",
       "    .dataframe thead th {\n",
       "        text-align: right;\n",
       "    }\n",
       "</style>\n",
       "<table border=\"1\" class=\"dataframe\">\n",
       "  <thead>\n",
       "    <tr style=\"text-align: right;\">\n",
       "      <th></th>\n",
       "      <th>Name</th>\n",
       "      <th>Age</th>\n",
       "    </tr>\n",
       "  </thead>\n",
       "  <tbody>\n",
       "    <tr>\n",
       "      <th>0</th>\n",
       "      <td>Harsha</td>\n",
       "      <td>22.0</td>\n",
       "    </tr>\n",
       "    <tr>\n",
       "      <th>1</th>\n",
       "      <td>Balu</td>\n",
       "      <td>NaN</td>\n",
       "    </tr>\n",
       "    <tr>\n",
       "      <th>2</th>\n",
       "      <td>nithin</td>\n",
       "      <td>32.0</td>\n",
       "    </tr>\n",
       "    <tr>\n",
       "      <th>3</th>\n",
       "      <td>None</td>\n",
       "      <td>10.0</td>\n",
       "    </tr>\n",
       "  </tbody>\n",
       "</table>\n",
       "</div>"
      ],
      "text/plain": [
       "     Name   Age\n",
       "0  Harsha  22.0\n",
       "1    Balu   NaN\n",
       "2  nithin  32.0\n",
       "3    None  10.0"
      ]
     },
     "execution_count": 24,
     "metadata": {},
     "output_type": "execute_result"
    }
   ],
   "source": [
    "df.head()"
   ]
  },
  {
   "cell_type": "markdown",
   "id": "0558937f-b042-4d16-a8c6-ed6ecfc5b7ff",
   "metadata": {},
   "source": [
    "<b>32. How do you rename a column in pandas?"
   ]
  },
  {
   "cell_type": "code",
   "execution_count": 25,
   "id": "7768c40c-d324-4942-bf80-29b8b3d3260b",
   "metadata": {},
   "outputs": [],
   "source": [
    "df.rename(columns={'Age': 'ages'}, inplace=True)"
   ]
  },
  {
   "cell_type": "code",
   "execution_count": 26,
   "id": "79328482-9647-44fc-8854-843f569c30f1",
   "metadata": {},
   "outputs": [
    {
     "data": {
      "text/html": [
       "<div>\n",
       "<style scoped>\n",
       "    .dataframe tbody tr th:only-of-type {\n",
       "        vertical-align: middle;\n",
       "    }\n",
       "\n",
       "    .dataframe tbody tr th {\n",
       "        vertical-align: top;\n",
       "    }\n",
       "\n",
       "    .dataframe thead th {\n",
       "        text-align: right;\n",
       "    }\n",
       "</style>\n",
       "<table border=\"1\" class=\"dataframe\">\n",
       "  <thead>\n",
       "    <tr style=\"text-align: right;\">\n",
       "      <th></th>\n",
       "      <th>Name</th>\n",
       "      <th>ages</th>\n",
       "    </tr>\n",
       "  </thead>\n",
       "  <tbody>\n",
       "    <tr>\n",
       "      <th>0</th>\n",
       "      <td>Harsha</td>\n",
       "      <td>22.0</td>\n",
       "    </tr>\n",
       "    <tr>\n",
       "      <th>1</th>\n",
       "      <td>Balu</td>\n",
       "      <td>NaN</td>\n",
       "    </tr>\n",
       "    <tr>\n",
       "      <th>2</th>\n",
       "      <td>nithin</td>\n",
       "      <td>32.0</td>\n",
       "    </tr>\n",
       "    <tr>\n",
       "      <th>3</th>\n",
       "      <td>None</td>\n",
       "      <td>10.0</td>\n",
       "    </tr>\n",
       "  </tbody>\n",
       "</table>\n",
       "</div>"
      ],
      "text/plain": [
       "     Name  ages\n",
       "0  Harsha  22.0\n",
       "1    Balu   NaN\n",
       "2  nithin  32.0\n",
       "3    None  10.0"
      ]
     },
     "execution_count": 26,
     "metadata": {},
     "output_type": "execute_result"
    }
   ],
   "source": [
    "df"
   ]
  },
  {
   "cell_type": "markdown",
   "id": "25b852f8-a892-406a-a719-0e045884cb99",
   "metadata": {},
   "source": [
    "<b>33. What method is used to join/merge two DataFrames?\n"
   ]
  },
  {
   "cell_type": "markdown",
   "id": "bf30905f-975a-4c5f-a3af-1363c27b82bb",
   "metadata": {},
   "source": [
    "Merge method is used to join two DataFrames"
   ]
  },
  {
   "cell_type": "markdown",
   "id": "3a0b0fbc-4d24-4fee-8542-8cfece1defe3",
   "metadata": {},
   "source": [
    "<b>34. What does df.dropna() do?"
   ]
  },
  {
   "cell_type": "code",
   "execution_count": 27,
   "id": "ccc131cf-f3ea-4c94-a488-d466b0f78f38",
   "metadata": {},
   "outputs": [
    {
     "data": {
      "text/html": [
       "<div>\n",
       "<style scoped>\n",
       "    .dataframe tbody tr th:only-of-type {\n",
       "        vertical-align: middle;\n",
       "    }\n",
       "\n",
       "    .dataframe tbody tr th {\n",
       "        vertical-align: top;\n",
       "    }\n",
       "\n",
       "    .dataframe thead th {\n",
       "        text-align: right;\n",
       "    }\n",
       "</style>\n",
       "<table border=\"1\" class=\"dataframe\">\n",
       "  <thead>\n",
       "    <tr style=\"text-align: right;\">\n",
       "      <th></th>\n",
       "      <th>Name</th>\n",
       "      <th>ages</th>\n",
       "    </tr>\n",
       "  </thead>\n",
       "  <tbody>\n",
       "    <tr>\n",
       "      <th>0</th>\n",
       "      <td>Harsha</td>\n",
       "      <td>22.0</td>\n",
       "    </tr>\n",
       "    <tr>\n",
       "      <th>2</th>\n",
       "      <td>nithin</td>\n",
       "      <td>32.0</td>\n",
       "    </tr>\n",
       "  </tbody>\n",
       "</table>\n",
       "</div>"
      ],
      "text/plain": [
       "     Name  ages\n",
       "0  Harsha  22.0\n",
       "2  nithin  32.0"
      ]
     },
     "execution_count": 27,
     "metadata": {},
     "output_type": "execute_result"
    }
   ],
   "source": [
    "df.dropna()"
   ]
  },
  {
   "cell_type": "markdown",
   "id": "11375a8c-4b48-4ccd-bd3f-9719157acd9a",
   "metadata": {},
   "source": [
    "<b>35. What is the difference between Series and DataFrame?"
   ]
  },
  {
   "cell_type": "markdown",
   "id": "daefbb9d-4446-4a70-8db7-ab82937c4869",
   "metadata": {},
   "source": [
    "1. Series:\n",
    "\n",
    "A Series is a one-dimensional labeled array that can hold any data type (integers, strings, floats, etc.).\n",
    "\n",
    "It is similar to a list or array, but with labels (indexes) for each element.\n",
    "    \n",
    "Key Features:\n",
    "\n",
    "1D structure: A single column of data.\n",
    "    \n",
    "Can have custom indexes.\n",
    "    \n",
    "Stores data in a linear fashion.\n",
    "\n",
    "2. DataFrame:\n",
    "    \n",
    "A DataFrame is a two-dimensional labeled data structure, like a table or spreadsheet, where you have rows and columns.\n",
    "    \n",
    "It is essentially a collection of Series objects that share the same index.\n",
    "    \n",
    "Key Features:\n",
    "\n",
    "2D structure: Can hold data in both rows and columns.\n",
    "    \n",
    "Each column can be a different data type (integers, strings, floats, etc.).\n",
    "    \n",
    "Has both row and column labels (indexes).\n"
   ]
  },
  {
   "cell_type": "markdown",
   "id": "b9a2d505-0086-4fb0-99ef-492a062995f8",
   "metadata": {},
   "source": [
    "<b>36. Load a CSV file into a DataFrame using pandas."
   ]
  },
  {
   "cell_type": "code",
   "execution_count": 28,
   "id": "8996ae22-0981-43a9-81d7-8dd92e0c5fff",
   "metadata": {},
   "outputs": [
    {
     "data": {
      "text/html": [
       "<div>\n",
       "<style scoped>\n",
       "    .dataframe tbody tr th:only-of-type {\n",
       "        vertical-align: middle;\n",
       "    }\n",
       "\n",
       "    .dataframe tbody tr th {\n",
       "        vertical-align: top;\n",
       "    }\n",
       "\n",
       "    .dataframe thead th {\n",
       "        text-align: right;\n",
       "    }\n",
       "</style>\n",
       "<table border=\"1\" class=\"dataframe\">\n",
       "  <thead>\n",
       "    <tr style=\"text-align: right;\">\n",
       "      <th></th>\n",
       "      <th>SL No</th>\n",
       "      <th>Date</th>\n",
       "      <th>Agent Name</th>\n",
       "      <th>Total Chats</th>\n",
       "      <th>Average Response Time</th>\n",
       "      <th>Average Resolution Time</th>\n",
       "      <th>Average Rating</th>\n",
       "      <th>Total Feedback</th>\n",
       "    </tr>\n",
       "  </thead>\n",
       "  <tbody>\n",
       "    <tr>\n",
       "      <th>0</th>\n",
       "      <td>1</td>\n",
       "      <td>7/30/2022</td>\n",
       "      <td>Prerna Singh</td>\n",
       "      <td>11</td>\n",
       "      <td>0:00:38</td>\n",
       "      <td>0:04:20</td>\n",
       "      <td>4.11</td>\n",
       "      <td>9</td>\n",
       "    </tr>\n",
       "    <tr>\n",
       "      <th>1</th>\n",
       "      <td>2</td>\n",
       "      <td>7/30/2022</td>\n",
       "      <td>Nandani Gupta</td>\n",
       "      <td>11</td>\n",
       "      <td>0:01:15</td>\n",
       "      <td>0:28:25</td>\n",
       "      <td>3.14</td>\n",
       "      <td>7</td>\n",
       "    </tr>\n",
       "    <tr>\n",
       "      <th>2</th>\n",
       "      <td>3</td>\n",
       "      <td>7/30/2022</td>\n",
       "      <td>Ameya Jain</td>\n",
       "      <td>14</td>\n",
       "      <td>0:00:30</td>\n",
       "      <td>0:11:36</td>\n",
       "      <td>4.55</td>\n",
       "      <td>11</td>\n",
       "    </tr>\n",
       "    <tr>\n",
       "      <th>3</th>\n",
       "      <td>4</td>\n",
       "      <td>7/30/2022</td>\n",
       "      <td>Mahesh Sarade</td>\n",
       "      <td>14</td>\n",
       "      <td>0:01:04</td>\n",
       "      <td>0:15:46</td>\n",
       "      <td>4.71</td>\n",
       "      <td>7</td>\n",
       "    </tr>\n",
       "    <tr>\n",
       "      <th>4</th>\n",
       "      <td>5</td>\n",
       "      <td>7/30/2022</td>\n",
       "      <td>Swati</td>\n",
       "      <td>14</td>\n",
       "      <td>0:01:11</td>\n",
       "      <td>0:16:33</td>\n",
       "      <td>3.67</td>\n",
       "      <td>6</td>\n",
       "    </tr>\n",
       "  </tbody>\n",
       "</table>\n",
       "</div>"
      ],
      "text/plain": [
       "   SL No       Date     Agent Name  Total Chats Average Response Time  \\\n",
       "0      1  7/30/2022   Prerna Singh           11               0:00:38   \n",
       "1      2  7/30/2022  Nandani Gupta           11               0:01:15   \n",
       "2      3  7/30/2022     Ameya Jain           14               0:00:30   \n",
       "3      4  7/30/2022  Mahesh Sarade           14               0:01:04   \n",
       "4      5  7/30/2022         Swati            14               0:01:11   \n",
       "\n",
       "  Average Resolution Time  Average Rating  Total Feedback  \n",
       "0                 0:04:20            4.11               9  \n",
       "1                 0:28:25            3.14               7  \n",
       "2                 0:11:36            4.55              11  \n",
       "3                 0:15:46            4.71               7  \n",
       "4                 0:16:33            3.67               6  "
      ]
     },
     "execution_count": 28,
     "metadata": {},
     "output_type": "execute_result"
    }
   ],
   "source": [
    "import pandas as pd\n",
    "\n",
    "df = pd.read_csv(\"C:/HARSHA/Course/DATA SCIENCE/DATASETS/AgentPerformance.csv\")\n",
    "\n",
    "df.head()"
   ]
  },
  {
   "cell_type": "markdown",
   "id": "a4596f8e-6599-4818-aaba-2f2ae0dfe742",
   "metadata": {},
   "source": [
    "<b>37. Display the first 5 rows of a DataFrame."
   ]
  },
  {
   "cell_type": "code",
   "execution_count": 29,
   "id": "2c8e6844-1dc0-4065-9f3b-2d70b5ea7263",
   "metadata": {},
   "outputs": [
    {
     "data": {
      "text/html": [
       "<div>\n",
       "<style scoped>\n",
       "    .dataframe tbody tr th:only-of-type {\n",
       "        vertical-align: middle;\n",
       "    }\n",
       "\n",
       "    .dataframe tbody tr th {\n",
       "        vertical-align: top;\n",
       "    }\n",
       "\n",
       "    .dataframe thead th {\n",
       "        text-align: right;\n",
       "    }\n",
       "</style>\n",
       "<table border=\"1\" class=\"dataframe\">\n",
       "  <thead>\n",
       "    <tr style=\"text-align: right;\">\n",
       "      <th></th>\n",
       "      <th>SL No</th>\n",
       "      <th>Date</th>\n",
       "      <th>Agent Name</th>\n",
       "      <th>Total Chats</th>\n",
       "      <th>Average Response Time</th>\n",
       "      <th>Average Resolution Time</th>\n",
       "      <th>Average Rating</th>\n",
       "      <th>Total Feedback</th>\n",
       "    </tr>\n",
       "  </thead>\n",
       "  <tbody>\n",
       "    <tr>\n",
       "      <th>0</th>\n",
       "      <td>1</td>\n",
       "      <td>7/30/2022</td>\n",
       "      <td>Prerna Singh</td>\n",
       "      <td>11</td>\n",
       "      <td>0:00:38</td>\n",
       "      <td>0:04:20</td>\n",
       "      <td>4.11</td>\n",
       "      <td>9</td>\n",
       "    </tr>\n",
       "    <tr>\n",
       "      <th>1</th>\n",
       "      <td>2</td>\n",
       "      <td>7/30/2022</td>\n",
       "      <td>Nandani Gupta</td>\n",
       "      <td>11</td>\n",
       "      <td>0:01:15</td>\n",
       "      <td>0:28:25</td>\n",
       "      <td>3.14</td>\n",
       "      <td>7</td>\n",
       "    </tr>\n",
       "    <tr>\n",
       "      <th>2</th>\n",
       "      <td>3</td>\n",
       "      <td>7/30/2022</td>\n",
       "      <td>Ameya Jain</td>\n",
       "      <td>14</td>\n",
       "      <td>0:00:30</td>\n",
       "      <td>0:11:36</td>\n",
       "      <td>4.55</td>\n",
       "      <td>11</td>\n",
       "    </tr>\n",
       "    <tr>\n",
       "      <th>3</th>\n",
       "      <td>4</td>\n",
       "      <td>7/30/2022</td>\n",
       "      <td>Mahesh Sarade</td>\n",
       "      <td>14</td>\n",
       "      <td>0:01:04</td>\n",
       "      <td>0:15:46</td>\n",
       "      <td>4.71</td>\n",
       "      <td>7</td>\n",
       "    </tr>\n",
       "    <tr>\n",
       "      <th>4</th>\n",
       "      <td>5</td>\n",
       "      <td>7/30/2022</td>\n",
       "      <td>Swati</td>\n",
       "      <td>14</td>\n",
       "      <td>0:01:11</td>\n",
       "      <td>0:16:33</td>\n",
       "      <td>3.67</td>\n",
       "      <td>6</td>\n",
       "    </tr>\n",
       "  </tbody>\n",
       "</table>\n",
       "</div>"
      ],
      "text/plain": [
       "   SL No       Date     Agent Name  Total Chats Average Response Time  \\\n",
       "0      1  7/30/2022   Prerna Singh           11               0:00:38   \n",
       "1      2  7/30/2022  Nandani Gupta           11               0:01:15   \n",
       "2      3  7/30/2022     Ameya Jain           14               0:00:30   \n",
       "3      4  7/30/2022  Mahesh Sarade           14               0:01:04   \n",
       "4      5  7/30/2022         Swati            14               0:01:11   \n",
       "\n",
       "  Average Resolution Time  Average Rating  Total Feedback  \n",
       "0                 0:04:20            4.11               9  \n",
       "1                 0:28:25            3.14               7  \n",
       "2                 0:11:36            4.55              11  \n",
       "3                 0:15:46            4.71               7  \n",
       "4                 0:16:33            3.67               6  "
      ]
     },
     "execution_count": 29,
     "metadata": {},
     "output_type": "execute_result"
    }
   ],
   "source": [
    "df.head()"
   ]
  },
  {
   "cell_type": "markdown",
   "id": "4cc99d23-3883-4009-ab46-284ae90cc94a",
   "metadata": {},
   "source": [
    "<b>38. Select a single column from a DataFrame."
   ]
  },
  {
   "cell_type": "code",
   "execution_count": 31,
   "id": "d00d5426-f2a9-413e-ba33-c27f9ce3c7d7",
   "metadata": {},
   "outputs": [
    {
     "data": {
      "text/html": [
       "<div>\n",
       "<style scoped>\n",
       "    .dataframe tbody tr th:only-of-type {\n",
       "        vertical-align: middle;\n",
       "    }\n",
       "\n",
       "    .dataframe tbody tr th {\n",
       "        vertical-align: top;\n",
       "    }\n",
       "\n",
       "    .dataframe thead th {\n",
       "        text-align: right;\n",
       "    }\n",
       "</style>\n",
       "<table border=\"1\" class=\"dataframe\">\n",
       "  <thead>\n",
       "    <tr style=\"text-align: right;\">\n",
       "      <th></th>\n",
       "      <th>Agent Name</th>\n",
       "    </tr>\n",
       "  </thead>\n",
       "  <tbody>\n",
       "    <tr>\n",
       "      <th>0</th>\n",
       "      <td>Prerna Singh</td>\n",
       "    </tr>\n",
       "    <tr>\n",
       "      <th>1</th>\n",
       "      <td>Nandani Gupta</td>\n",
       "    </tr>\n",
       "    <tr>\n",
       "      <th>2</th>\n",
       "      <td>Ameya Jain</td>\n",
       "    </tr>\n",
       "    <tr>\n",
       "      <th>3</th>\n",
       "      <td>Mahesh Sarade</td>\n",
       "    </tr>\n",
       "    <tr>\n",
       "      <th>4</th>\n",
       "      <td>Swati</td>\n",
       "    </tr>\n",
       "    <tr>\n",
       "      <th>...</th>\n",
       "      <td>...</td>\n",
       "    </tr>\n",
       "    <tr>\n",
       "      <th>2155</th>\n",
       "      <td>Sowmiya Sivakumar</td>\n",
       "    </tr>\n",
       "    <tr>\n",
       "      <th>2156</th>\n",
       "      <td>Nitin M</td>\n",
       "    </tr>\n",
       "    <tr>\n",
       "      <th>2157</th>\n",
       "      <td>Vivek</td>\n",
       "    </tr>\n",
       "    <tr>\n",
       "      <th>2158</th>\n",
       "      <td>Ayushi Mishra</td>\n",
       "    </tr>\n",
       "    <tr>\n",
       "      <th>2159</th>\n",
       "      <td>Chaitra K Hiremath</td>\n",
       "    </tr>\n",
       "  </tbody>\n",
       "</table>\n",
       "<p>2160 rows × 1 columns</p>\n",
       "</div>"
      ],
      "text/plain": [
       "              Agent Name\n",
       "0           Prerna Singh\n",
       "1          Nandani Gupta\n",
       "2             Ameya Jain\n",
       "3          Mahesh Sarade\n",
       "4                 Swati \n",
       "...                  ...\n",
       "2155   Sowmiya Sivakumar\n",
       "2156             Nitin M\n",
       "2157              Vivek \n",
       "2158       Ayushi Mishra\n",
       "2159  Chaitra K Hiremath\n",
       "\n",
       "[2160 rows x 1 columns]"
      ]
     },
     "execution_count": 31,
     "metadata": {},
     "output_type": "execute_result"
    }
   ],
   "source": [
    "df[['Agent Name']]"
   ]
  },
  {
   "cell_type": "markdown",
   "id": "8274de36-358b-45d2-9c47-720125005dca",
   "metadata": {},
   "source": [
    "<b>39. Select multiple columns from a DataFrame."
   ]
  },
  {
   "cell_type": "code",
   "execution_count": 32,
   "id": "05462e76-256a-4226-91ea-4f7cc57d407d",
   "metadata": {},
   "outputs": [
    {
     "data": {
      "text/html": [
       "<div>\n",
       "<style scoped>\n",
       "    .dataframe tbody tr th:only-of-type {\n",
       "        vertical-align: middle;\n",
       "    }\n",
       "\n",
       "    .dataframe tbody tr th {\n",
       "        vertical-align: top;\n",
       "    }\n",
       "\n",
       "    .dataframe thead th {\n",
       "        text-align: right;\n",
       "    }\n",
       "</style>\n",
       "<table border=\"1\" class=\"dataframe\">\n",
       "  <thead>\n",
       "    <tr style=\"text-align: right;\">\n",
       "      <th></th>\n",
       "      <th>Agent Name</th>\n",
       "      <th>Date</th>\n",
       "    </tr>\n",
       "  </thead>\n",
       "  <tbody>\n",
       "    <tr>\n",
       "      <th>0</th>\n",
       "      <td>Prerna Singh</td>\n",
       "      <td>7/30/2022</td>\n",
       "    </tr>\n",
       "    <tr>\n",
       "      <th>1</th>\n",
       "      <td>Nandani Gupta</td>\n",
       "      <td>7/30/2022</td>\n",
       "    </tr>\n",
       "    <tr>\n",
       "      <th>2</th>\n",
       "      <td>Ameya Jain</td>\n",
       "      <td>7/30/2022</td>\n",
       "    </tr>\n",
       "    <tr>\n",
       "      <th>3</th>\n",
       "      <td>Mahesh Sarade</td>\n",
       "      <td>7/30/2022</td>\n",
       "    </tr>\n",
       "    <tr>\n",
       "      <th>4</th>\n",
       "      <td>Swati</td>\n",
       "      <td>7/30/2022</td>\n",
       "    </tr>\n",
       "    <tr>\n",
       "      <th>...</th>\n",
       "      <td>...</td>\n",
       "      <td>...</td>\n",
       "    </tr>\n",
       "    <tr>\n",
       "      <th>2155</th>\n",
       "      <td>Sowmiya Sivakumar</td>\n",
       "      <td>7/1/2022</td>\n",
       "    </tr>\n",
       "    <tr>\n",
       "      <th>2156</th>\n",
       "      <td>Nitin M</td>\n",
       "      <td>7/1/2022</td>\n",
       "    </tr>\n",
       "    <tr>\n",
       "      <th>2157</th>\n",
       "      <td>Vivek</td>\n",
       "      <td>7/1/2022</td>\n",
       "    </tr>\n",
       "    <tr>\n",
       "      <th>2158</th>\n",
       "      <td>Ayushi Mishra</td>\n",
       "      <td>7/1/2022</td>\n",
       "    </tr>\n",
       "    <tr>\n",
       "      <th>2159</th>\n",
       "      <td>Chaitra K Hiremath</td>\n",
       "      <td>7/1/2022</td>\n",
       "    </tr>\n",
       "  </tbody>\n",
       "</table>\n",
       "<p>2160 rows × 2 columns</p>\n",
       "</div>"
      ],
      "text/plain": [
       "              Agent Name       Date\n",
       "0           Prerna Singh  7/30/2022\n",
       "1          Nandani Gupta  7/30/2022\n",
       "2             Ameya Jain  7/30/2022\n",
       "3          Mahesh Sarade  7/30/2022\n",
       "4                 Swati   7/30/2022\n",
       "...                  ...        ...\n",
       "2155   Sowmiya Sivakumar   7/1/2022\n",
       "2156             Nitin M   7/1/2022\n",
       "2157              Vivek    7/1/2022\n",
       "2158       Ayushi Mishra   7/1/2022\n",
       "2159  Chaitra K Hiremath   7/1/2022\n",
       "\n",
       "[2160 rows x 2 columns]"
      ]
     },
     "execution_count": 32,
     "metadata": {},
     "output_type": "execute_result"
    }
   ],
   "source": [
    "df[['Agent Name','Date']]"
   ]
  },
  {
   "cell_type": "markdown",
   "id": "179057e2-8a5e-4eca-87de-6ba70ec36321",
   "metadata": {},
   "source": [
    "<b>40. Filter rows where a column \"Age\" is greater than 25."
   ]
  },
  {
   "cell_type": "code",
   "execution_count": 33,
   "id": "cad003ed-09fb-42d5-bfbc-b3d239dc42e4",
   "metadata": {},
   "outputs": [
    {
     "name": "stdout",
     "output_type": "stream",
     "text": [
      "     Name  Age\n",
      "1    Balu   32\n",
      "3  Nithin   30\n"
     ]
    }
   ],
   "source": [
    "import pandas as pd\n",
    "data = {'Name': ['Harsha', 'Balu', 'Bods', 'Nithin'],\n",
    "        'Age': [24, 32, 21, 30]}\n",
    "df = pd.DataFrame(data)\n",
    "filtered_df = df[df['Age'] > 25]\n",
    "print(filtered_df)"
   ]
  },
  {
   "cell_type": "markdown",
   "id": "9a5a7af8-04e3-4557-a6e3-4b1db298353f",
   "metadata": {},
   "source": [
    "<b>41. Add a new column \"Country\" to an existing DataFrame.\n"
   ]
  },
  {
   "cell_type": "code",
   "execution_count": 34,
   "id": "9869bbc9-5767-4ffb-bf43-05b81f5557e9",
   "metadata": {},
   "outputs": [],
   "source": [
    "df['Country'] = 'India'"
   ]
  },
  {
   "cell_type": "code",
   "execution_count": 35,
   "id": "89dcd4e0-02d4-4b86-b356-b38ff5cdf79c",
   "metadata": {},
   "outputs": [
    {
     "data": {
      "text/html": [
       "<div>\n",
       "<style scoped>\n",
       "    .dataframe tbody tr th:only-of-type {\n",
       "        vertical-align: middle;\n",
       "    }\n",
       "\n",
       "    .dataframe tbody tr th {\n",
       "        vertical-align: top;\n",
       "    }\n",
       "\n",
       "    .dataframe thead th {\n",
       "        text-align: right;\n",
       "    }\n",
       "</style>\n",
       "<table border=\"1\" class=\"dataframe\">\n",
       "  <thead>\n",
       "    <tr style=\"text-align: right;\">\n",
       "      <th></th>\n",
       "      <th>Name</th>\n",
       "      <th>Age</th>\n",
       "      <th>Country</th>\n",
       "    </tr>\n",
       "  </thead>\n",
       "  <tbody>\n",
       "    <tr>\n",
       "      <th>0</th>\n",
       "      <td>Harsha</td>\n",
       "      <td>24</td>\n",
       "      <td>India</td>\n",
       "    </tr>\n",
       "    <tr>\n",
       "      <th>1</th>\n",
       "      <td>Balu</td>\n",
       "      <td>32</td>\n",
       "      <td>India</td>\n",
       "    </tr>\n",
       "    <tr>\n",
       "      <th>2</th>\n",
       "      <td>Bods</td>\n",
       "      <td>21</td>\n",
       "      <td>India</td>\n",
       "    </tr>\n",
       "    <tr>\n",
       "      <th>3</th>\n",
       "      <td>Nithin</td>\n",
       "      <td>30</td>\n",
       "      <td>India</td>\n",
       "    </tr>\n",
       "  </tbody>\n",
       "</table>\n",
       "</div>"
      ],
      "text/plain": [
       "     Name  Age Country\n",
       "0  Harsha   24   India\n",
       "1    Balu   32   India\n",
       "2    Bods   21   India\n",
       "3  Nithin   30   India"
      ]
     },
     "execution_count": 35,
     "metadata": {},
     "output_type": "execute_result"
    }
   ],
   "source": [
    "df.head()"
   ]
  },
  {
   "cell_type": "markdown",
   "id": "4d7ecb47-20a8-4ab9-b571-144d6b6b066b",
   "metadata": {},
   "source": [
    "<b>42. Delete a column from a DataFrame."
   ]
  },
  {
   "cell_type": "code",
   "execution_count": 36,
   "id": "1d012452-cae5-4cd6-9840-053cf3496be1",
   "metadata": {},
   "outputs": [],
   "source": [
    "df.drop('Country',axis=1,inplace=True)"
   ]
  },
  {
   "cell_type": "code",
   "execution_count": 37,
   "id": "08cc9c2f-e455-4062-a7e0-ab05c34bbe01",
   "metadata": {},
   "outputs": [
    {
     "data": {
      "text/html": [
       "<div>\n",
       "<style scoped>\n",
       "    .dataframe tbody tr th:only-of-type {\n",
       "        vertical-align: middle;\n",
       "    }\n",
       "\n",
       "    .dataframe tbody tr th {\n",
       "        vertical-align: top;\n",
       "    }\n",
       "\n",
       "    .dataframe thead th {\n",
       "        text-align: right;\n",
       "    }\n",
       "</style>\n",
       "<table border=\"1\" class=\"dataframe\">\n",
       "  <thead>\n",
       "    <tr style=\"text-align: right;\">\n",
       "      <th></th>\n",
       "      <th>Name</th>\n",
       "      <th>Age</th>\n",
       "    </tr>\n",
       "  </thead>\n",
       "  <tbody>\n",
       "    <tr>\n",
       "      <th>0</th>\n",
       "      <td>Harsha</td>\n",
       "      <td>24</td>\n",
       "    </tr>\n",
       "    <tr>\n",
       "      <th>1</th>\n",
       "      <td>Balu</td>\n",
       "      <td>32</td>\n",
       "    </tr>\n",
       "    <tr>\n",
       "      <th>2</th>\n",
       "      <td>Bods</td>\n",
       "      <td>21</td>\n",
       "    </tr>\n",
       "    <tr>\n",
       "      <th>3</th>\n",
       "      <td>Nithin</td>\n",
       "      <td>30</td>\n",
       "    </tr>\n",
       "  </tbody>\n",
       "</table>\n",
       "</div>"
      ],
      "text/plain": [
       "     Name  Age\n",
       "0  Harsha   24\n",
       "1    Balu   32\n",
       "2    Bods   21\n",
       "3  Nithin   30"
      ]
     },
     "execution_count": 37,
     "metadata": {},
     "output_type": "execute_result"
    }
   ],
   "source": [
    "df"
   ]
  },
  {
   "cell_type": "markdown",
   "id": "ead16798-5ce0-4d80-baa5-97aee32aee8b",
   "metadata": {},
   "source": [
    "<b>43. Apply a lambda function to a column to convert names to uppercase."
   ]
  },
  {
   "cell_type": "code",
   "execution_count": 38,
   "id": "4a61b58b-5a80-4a12-a6f9-b764650e62e1",
   "metadata": {},
   "outputs": [
    {
     "name": "stdout",
     "output_type": "stream",
     "text": [
      "   Name  Age\n",
      "0  HARI   25\n",
      "1  BABY   30\n",
      "2  CARE   53\n"
     ]
    }
   ],
   "source": [
    "import pandas as pd\n",
    "data = {'Name': ['Hari', 'Baby', 'Care'],\n",
    "        'Age': [25, 30, 53]}\n",
    "df = pd.DataFrame(data)\n",
    "df['Name'] = df['Name'].apply(lambda x: x.upper())\n",
    "print(df)"
   ]
  },
  {
   "cell_type": "markdown",
   "id": "2362008d-717f-43e5-a30a-4c807c804038",
   "metadata": {},
   "source": [
    "<b>44. Save a DataFrame to a new CSV file."
   ]
  },
  {
   "cell_type": "code",
   "execution_count": 39,
   "id": "887bc703-8bf7-48f1-b62b-2b0e8540d721",
   "metadata": {},
   "outputs": [],
   "source": [
    "df.to_csv('file_name.csv', index=False)"
   ]
  },
  {
   "cell_type": "markdown",
   "id": "470f4e97-3af1-45e5-b51f-2be8f3cbdd34",
   "metadata": {},
   "source": [
    "<b>45. What are the four principles of OOP?"
   ]
  },
  {
   "cell_type": "markdown",
   "id": "de2b290e-ff48-4335-879e-6f9f1efa7594",
   "metadata": {},
   "source": [
    "1. Inheritance\n",
    "2. Abstraction\n",
    "3. Polymorphism\n",
    "4. Encapsulation"
   ]
  },
  {
   "cell_type": "markdown",
   "id": "85df6e45-1ed6-42d4-a3f4-f5d212ffacd2",
   "metadata": {},
   "source": [
    "<b>46. What is the difference between a class and an object?"
   ]
  },
  {
   "cell_type": "markdown",
   "id": "d953011e-4f1b-4141-865c-9dd9a0c0bb0e",
   "metadata": {},
   "source": [
    "1. Class:\n",
    "\n",
    "A class is a blueprint or template for creating objects (instances).\n",
    "                                  \n",
    "It defines the attributes (properties) and methods (functions) that the objects created from the class will have.\n",
    "    \n",
    "A class itself is not a real entity, but it provides a structure for objects.\n",
    "\n",
    "2. Object:\n",
    "                                                                \n",
    "An object is an instance of a class. It is a real-world entity that is created from a class.\n",
    "                                                                              \n",
    "Each object has its own state (values for attributes) and behavior (methods defined in the class).\n",
    "                                                                              \n",
    "Objects are created by calling the class as if it were a function.                                                               "
   ]
  },
  {
   "cell_type": "markdown",
   "id": "a3491a3b-fe2b-4068-be10-b98506b44a9c",
   "metadata": {},
   "source": [
    "47. What is inheritance and how is it implemented in Python?"
   ]
  },
  {
   "cell_type": "markdown",
   "id": "892dfe34-0d45-47bb-ad30-0f96ab9d868c",
   "metadata": {},
   "source": [
    "You define the parent class, and then the child class inherits from it by passing the parent class name in parentheses.\n",
    "\n",
    "The child class can access methods and attributes of the parent class and can also override (or extend) the parent class methods.\n",
    "\n",
    "Syntax:\n",
    "\n",
    "class ParentClass:\n",
    "\n",
    "    # Parent class code\n",
    "\n",
    "class ChildClass(ParentClass):\n",
    "\n",
    "    # Child class code"
   ]
  },
  {
   "cell_type": "markdown",
   "id": "6356db49-14ff-4cd2-ab83-5a0b7cabc54a",
   "metadata": {},
   "source": [
    "<b>48. What are __init__ and self in Python classes?"
   ]
  },
  {
   "cell_type": "markdown",
   "id": "702e9a11-1056-4450-a7b4-bb35c356f547",
   "metadata": {},
   "source": [
    "In Python, __init__ and self are fundamental components used to define and work with classes and objects. Here's an explanation of each:\n",
    "\n",
    "1. __init__ (Constructor Method):\n",
    "\n",
    "__init__ is a special method (also known as a constructor) in Python classes. It is automatically called when a new object of the class is created.\n",
    "\n",
    "The purpose of __init__ is to initialize the object's attributes (variables) with the values passed during object creation.\n",
    "\n",
    "It's similar to a constructor in other programming languages.\n"
   ]
  },
  {
   "cell_type": "markdown",
   "id": "d232871b-0c46-455b-b552-3ef102f0827f",
   "metadata": {},
   "source": [
    "\n",
    "<b>49. What is method overriding?"
   ]
  },
  {
   "cell_type": "markdown",
   "id": "0a558b96-4ad3-4c60-8ce8-cefa2484cbf0",
   "metadata": {},
   "source": [
    "Method overriding in Python refers to the ability of a child class to provide a specific implementation of a method that is already defined in its parent class. When a child class provides its own version of a method, it overrides the method of the parent class.\n",
    "\n",
    "This allows the child class to modify or extend the behavior of a method inherited from the parent class, without changing the method in the parent class itself."
   ]
  },
  {
   "cell_type": "markdown",
   "id": "af956666-a398-4097-af7c-fb9b55705d59",
   "metadata": {},
   "source": [
    "<b>50. Define a class Car with attributes make, model, and a method to display details."
   ]
  },
  {
   "cell_type": "code",
   "execution_count": 40,
   "id": "2f8748e5-d3ba-4367-852d-020273706eb0",
   "metadata": {},
   "outputs": [
    {
     "data": {
      "text/plain": [
       "('Hyundai', 'Creta', 2024)"
      ]
     },
     "execution_count": 40,
     "metadata": {},
     "output_type": "execute_result"
    }
   ],
   "source": [
    "class Car:\n",
    "    def __init__(self,make,model,year):\n",
    "        self.make=make\n",
    "        self.model=model\n",
    "        self.year=year\n",
    "    def show_details(self):\n",
    "        return self.make,self.model,self.year\n",
    "     \n",
    "c = Car(\"Hyundai\",\"Creta\",2024)\n",
    "c.show_details()"
   ]
  },
  {
   "cell_type": "markdown",
   "id": "da555097-efeb-4f28-b81a-2f135fd288fd",
   "metadata": {},
   "source": [
    "<b>51. Create a class Rectangle with methods to calculate area and perimeter."
   ]
  },
  {
   "cell_type": "code",
   "execution_count": 41,
   "id": "c91bf4dc-e15a-4fc6-934f-14a1157c9ee4",
   "metadata": {},
   "outputs": [
    {
     "name": "stdout",
     "output_type": "stream",
     "text": [
      "Area: 15\n",
      "Perimeter: 16\n"
     ]
    }
   ],
   "source": [
    "class Rectangle:\n",
    "    def __init__(self, length, width):\n",
    "        self.length = length\n",
    "        self.width = width\n",
    "    \n",
    "    def area(self):\n",
    "        return self.length * self.width\n",
    "    \n",
    "    def perimeter(self):\n",
    "        return 2 * (self.length + self.width)\n",
    "rectangle = Rectangle(5, 3)\n",
    "\n",
    "print(f\"Area: {rectangle.area()}\")  \n",
    "print(f\"Perimeter: {rectangle.perimeter()}\")  "
   ]
  },
  {
   "cell_type": "markdown",
   "id": "5d5d6456-f8e5-4c64-8ad4-9ab8563f5379",
   "metadata": {},
   "source": [
    "<b>52. Implement single inheritance using classes Person and Employee."
   ]
  },
  {
   "cell_type": "code",
   "execution_count": 42,
   "id": "09a3fa49-1eaa-4c02-b85a-90c55d7a884b",
   "metadata": {},
   "outputs": [
    {
     "name": "stdout",
     "output_type": "stream",
     "text": [
      "Name: Alice\n",
      "Age: 30\n",
      "Employee ID: E123\n",
      "Department: HR\n"
     ]
    }
   ],
   "source": [
    "class Person:\n",
    "    def __init__(self, name, age):\n",
    "        self.name = name\n",
    "        self.age = age\n",
    "    \n",
    "    def display_info(self):\n",
    "        print(f\"Name: {self.name}\")\n",
    "        print(f\"Age: {self.age}\")\n",
    "\n",
    "class Employee(Person):\n",
    "    def __init__(self, name, age, employee_id, department):\n",
    "        super().__init__(name, age)\n",
    "        self.employee_id = employee_id\n",
    "        self.department = department\n",
    "    \n",
    "    def display_employee_info(self):\n",
    "        self.display_info()\n",
    "        print(f\"Employee ID: {self.employee_id}\")\n",
    "        print(f\"Department: {self.department}\")\n",
    "\n",
    "emp = Employee(\"Alice\", 30, \"E123\", \"HR\")\n",
    "emp.display_employee_info()\n"
   ]
  },
  {
   "cell_type": "markdown",
   "id": "eb50c602-cce0-47f7-b990-da740e6f6836",
   "metadata": {},
   "source": [
    "<b>53. Write a class BankAccount that allows deposit, withdraw, and balance check."
   ]
  },
  {
   "cell_type": "code",
   "execution_count": 43,
   "id": "11e36843-6f61-47d0-96aa-dfa72e9c3ffa",
   "metadata": {},
   "outputs": [
    {
     "name": "stdout",
     "output_type": "stream",
     "text": [
      "Deposited: $500. Current balance: $500\n",
      "Withdrawn: $200. Current balance: $300\n",
      "Current balance: $300\n",
      "Insufficient balance.\n"
     ]
    }
   ],
   "source": [
    "class BankAccount:\n",
    "    def __init__(self, account_holder, balance=0):\n",
    "        self.account_holder = account_holder\n",
    "        self.balance = balance\n",
    "    \n",
    "    def deposit(self, amount):\n",
    "        if amount > 0:\n",
    "            self.balance += amount\n",
    "            print(f\"Deposited: ${amount}. Current balance: ${self.balance}\")\n",
    "        else:\n",
    "            print(\"Deposit amount must be positive.\")\n",
    "    \n",
    "    def withdraw(self, amount):\n",
    "        if amount <= 0:\n",
    "            print(\"Withdrawal amount must be positive.\")\n",
    "        elif amount > self.balance:\n",
    "            print(\"Insufficient balance.\")\n",
    "        else:\n",
    "            self.balance -= amount\n",
    "            print(f\"Withdrawn: ${amount}. Current balance: ${self.balance}\")\n",
    "    \n",
    "    def check_balance(self):\n",
    "        print(f\"Current balance: ${self.balance}\")\n",
    "    \n",
    "account = BankAccount(\"John Doe\")\n",
    "account.deposit(500)\n",
    "account.withdraw(200)\n",
    "account.check_balance()\n",
    "account.withdraw(400)\n"
   ]
  },
  {
   "cell_type": "markdown",
   "id": "13eeedeb-54ff-4046-8f39-e129123826c2",
   "metadata": {},
   "source": [
    "<b>54. Create a class Student that stores name and marks, and has a method to calculate grade."
   ]
  },
  {
   "cell_type": "code",
   "execution_count": 44,
   "id": "35758bcb-fbc1-4c2c-a455-cbcd40af6e85",
   "metadata": {},
   "outputs": [
    {
     "name": "stdout",
     "output_type": "stream",
     "text": [
      "Name: Alice\n",
      "Marks: 85\n",
      "Grade: B\n",
      "\n",
      "Name: Bob\n",
      "Marks: 72\n",
      "Grade: C\n"
     ]
    }
   ],
   "source": [
    "class Student:\n",
    "    def __init__(self, name, marks):\n",
    "        self.name = name\n",
    "        self.marks = marks\n",
    "    \n",
    "    def calculate_grade(self):\n",
    "        if self.marks >= 90:\n",
    "            return \"A\"\n",
    "        elif self.marks >= 80:\n",
    "            return \"B\"\n",
    "        elif self.marks >= 70:\n",
    "            return \"C\"\n",
    "        elif self.marks >= 60:\n",
    "            return \"D\"\n",
    "        else:\n",
    "            return \"F\"\n",
    "    \n",
    "    def display_info(self):\n",
    "        grade = self.calculate_grade()\n",
    "        print(f\"Name: {self.name}\")\n",
    "        print(f\"Marks: {self.marks}\")\n",
    "        print(f\"Grade: {grade}\")\n",
    "\n",
    "student1 = Student(\"Alice\", 85)\n",
    "student2 = Student(\"Bob\", 72)\n",
    "student1.display_info()\n",
    "print() \n",
    "student2.display_info()\n"
   ]
  },
  {
   "cell_type": "markdown",
   "id": "8736f99c-1525-41f9-9654-98c475048ab5",
   "metadata": {},
   "source": [
    "<b>55. What is the purpose of the open() function in Python?"
   ]
  },
  {
   "cell_type": "markdown",
   "id": "d8fbe868-163f-4bfb-a22e-dcaf10027d23",
   "metadata": {},
   "source": [
    "The open() function in Python is used to open a file in a specified mode (e.g., read, write, append) and returns a file object that allows you to interact with the file (e.g., reading or writing).\n",
    "\n"
   ]
  },
  {
   "cell_type": "markdown",
   "id": "f0a0379b-70ed-41fb-acd1-47ea134785ae",
   "metadata": {},
   "source": [
    "<b>56. What are the different modes available in open()?\n",
    "a) 'r', 'w', 'a', 'b', 'x', 'r+' — explain any three."
   ]
  },
  {
   "cell_type": "markdown",
   "id": "79bd7fec-7038-47e8-b859-726d8933e6ac",
   "metadata": {},
   "source": [
    "1. 'r' – Read Mode\n",
    "Purpose: Opens a file for reading only.\n",
    "\n",
    "Behavior: The file must already exist. If the file does not exist, a FileNotFoundError is raised.\n",
    "\n",
    "Use Case: This mode is used when you need to read the content of an existing file.\n",
    "\n",
    "Example:\n",
    "\n",
    "file = open('example.txt', 'r') \n",
    "\n",
    "content = file.read()\n",
    "\n",
    "print(content)\n",
    "\n",
    "file.close()\n",
    "\n",
    "2. 'w' – Write Mode\n",
    "\n",
    "Purpose: Opens a file for writing.\n",
    "\n",
    "Behavior: If the file already exists, it is overwritten. If the file does not exist, it is created.\n",
    "\n",
    "Use Case: This mode is used when you want to write data to a file, but be cautious as existing content in the file will be lost.\n",
    "\n",
    "Example:\n",
    "\n",
    "file = open('example.txt', 'w') \n",
    "\n",
    "file.write(\"Hello, World!\") \n",
    "file.close()\n",
    "\n",
    "3. 'a' – Append Mode\n",
    "\n",
    "Purpose: Opens a file for appending.\n",
    "\n",
    "Behavior: The file is opened and new data is added at the end of the file. If the file does not exist, it will be created. The existing content is not overwritten.\n",
    "\n",
    "Use Case: This mode is useful when you want to add new data to the file without deleting the old content.\n",
    "Example:\n",
    "\n",
    "file = open('example.txt', 'a') \n",
    "\n",
    "file.write(\"\\nThis is a new line.\") \n",
    "\n",
    "file.close()"
   ]
  },
  {
   "cell_type": "markdown",
   "id": "69514139-16b4-4781-8fa9-9fd96a50519d",
   "metadata": {},
   "source": [
    "<b>57. What is the difference between read(), readline(), and readlines()?"
   ]
  },
  {
   "cell_type": "markdown",
   "id": "a99a4b86-443e-46a1-984c-c95ce0d8d039",
   "metadata": {},
   "source": [
    "The functions read(), readline(), and readlines() are used to read data from a file in Python, but they differ in how they return the file's contents.\n",
    "\n",
    "1. read()\n",
    "Purpose: Reads the entire content of the file at once.\n",
    "Return Value: It returns the content as a single string.\n",
    "Behavior: If you do not provide a size argument, it will read the entire file. You can also provide a number to read a specific number of bytes.\n",
    "Use Case: This is useful when you want to read the entire file in one go or when the file size is not very large.\n",
    "Example:\n",
    "\n",
    "with open('example.txt', 'r') as file:\n",
    "    content = file.read()  # Reads all the content\n",
    "    print(content)\n",
    "Output (if the file contains the following content):\n",
    "\n",
    "Hello, this is the file content.\n",
    "It contains multiple lines.\n",
    "2. readline()\n",
    "Purpose: Reads one line from the file at a time.\n",
    "Return Value: It returns a single line from the file, including the newline character (\\n) at the end.\n",
    "Behavior: Each time you call readline(), it reads the next line from the file.\n",
    "Use Case: This is useful when you want to process the file line by line, especially when dealing with large files, to avoid reading everything into memory at once.\n",
    "Example:\n",
    "\n",
    "with open('example.txt', 'r') as file:\n",
    "    line = file.readline()  # Reads the first line\n",
    "    print(line)  # Prints the first line\n",
    "Output:\n",
    "\n",
    "Hello, this is the file content.\n",
    "Subsequent calls to readline() will return the next lines, one by one.\n",
    "\n",
    "3. readlines()\n",
    "Purpose: Reads all the lines in the file and returns them as a list of strings.\n",
    "Return Value: It returns a list where each element is a line from the file.\n",
    "Behavior: The list will include newline characters (\\n) at the end of each line, except for the last line if it doesn't end with a newline.\n",
    "Use Case: This is useful when you want to process all lines at once but still work with them individually, like in a loop or when you need to store them for further processing.\n",
    "Example:\n",
    "\n",
    "with open('example.txt', 'r') as file:\n",
    "    lines = file.readlines()  # Reads all lines and returns a list\n",
    "    print(lines)\n",
    "Output:\n",
    "\n",
    "['Hello, this is the file content.\\n', 'It contains multiple lines.\\n']\n"
   ]
  },
  {
   "cell_type": "markdown",
   "id": "5dfb5c33-d2af-41d8-8e59-134c87af0326",
   "metadata": {},
   "source": [
    "<b>58. What happens if you try to open a file that doesn't exist in read mode?"
   ]
  },
  {
   "cell_type": "markdown",
   "id": "9483560f-a41b-462c-9e96-257be8d87b2a",
   "metadata": {},
   "source": [
    "If you try to open a file that doesn't exist in read mode ('r'), Python will raise a FileNotFoundError.\n",
    "\n"
   ]
  },
  {
   "cell_type": "markdown",
   "id": "5ceea36c-5711-4677-803b-96c6a1002760",
   "metadata": {},
   "source": [
    "<b>59. What is the use of the with statement in file handling?"
   ]
  },
  {
   "cell_type": "markdown",
   "id": "9f83d440-ed7e-4982-b10c-30c6a0e1ecf0",
   "metadata": {},
   "source": [
    "The with statement in Python is used to simplify file handling by ensuring that files are properly opened and closed, even if an error occurs during file operations. It is often referred to as a context manager, and it provides a clean and efficient way to work with files and other resources that need to be explicitly released (like network connections, database connections, etc.).\n",
    "\n"
   ]
  },
  {
   "cell_type": "markdown",
   "id": "544ece87-065f-46f6-9d65-ec70d87ace1a",
   "metadata": {},
   "source": [
    "<b>60. Write a Python program to open a text file and print its content."
   ]
  },
  {
   "cell_type": "code",
   "execution_count": 48,
   "id": "8dacb099-c1af-4f82-89d5-3fcec26b58fd",
   "metadata": {},
   "outputs": [
    {
     "name": "stdout",
     "output_type": "stream",
     "text": [
      "Content To Print\n",
      "I am Learning Python\n"
     ]
    }
   ],
   "source": [
    "with open('sample.txt', 'r') as file:\n",
    "    content = file.read()\n",
    "    print(content)\n"
   ]
  },
  {
   "cell_type": "markdown",
   "id": "57756238-a0d7-4c29-ae4c-a037a47bb010",
   "metadata": {},
   "source": [
    "<b>61. Write a Python program to count the number of lines in a file."
   ]
  },
  {
   "cell_type": "code",
   "execution_count": 55,
   "id": "9389b367-553a-48b6-ac50-9d62cd9af0f4",
   "metadata": {},
   "outputs": [
    {
     "name": "stdout",
     "output_type": "stream",
     "text": [
      "Number of lines: 3\n"
     ]
    }
   ],
   "source": [
    "with open(\"sample.txt\",\"r\") as f:\n",
    "    line_count = sum(1 for line in f)\n",
    "print(f\"Number of lines: {line_count}\")"
   ]
  },
  {
   "cell_type": "markdown",
   "id": "c3a1176e-44e4-41f4-ab86-23e8ba2ac265",
   "metadata": {},
   "source": [
    "<b>62. Write a Python program to read a file line by line and print only lines containing the word \"error\".\n"
   ]
  },
  {
   "cell_type": "code",
   "execution_count": 58,
   "id": "0e6b4639-432f-472d-a357-f958460dbcfa",
   "metadata": {},
   "outputs": [
    {
     "name": "stdout",
     "output_type": "stream",
     "text": [
      "error Has Occured\n"
     ]
    }
   ],
   "source": [
    "with open('sample.txt', 'r') as file:\n",
    "    for line in file:\n",
    "        if 'error' in line:\n",
    "            print(line.strip()) \n"
   ]
  },
  {
   "cell_type": "markdown",
   "id": "2ac0a500-1190-437d-87b9-7d5c5b8613d7",
   "metadata": {},
   "source": [
    "<b>63. Write a program to write a list of strings to a file (each on a new line)."
   ]
  },
  {
   "cell_type": "code",
   "execution_count": 59,
   "id": "e11c9a40-8457-41cf-8f89-77334d18996f",
   "metadata": {},
   "outputs": [],
   "source": [
    "lines = [\"Hello, world!\", \"This is a test.\", \"Writing to a file.\", \"Each line is separate.\"]\n",
    "with open('sample.txt', 'w') as file:\n",
    "    for line in lines:\n",
    "        file.write(line + '\\n') \n"
   ]
  },
  {
   "cell_type": "markdown",
   "id": "6628a6d9-9276-4431-87ea-a454d1431cbb",
   "metadata": {},
   "source": [
    "<b>64. Read a file and create a dictionary with word counts (word frequency).\n"
   ]
  },
  {
   "cell_type": "code",
   "execution_count": null,
   "id": "27843ef3-d25c-4f03-b14e-c1d339a7c95c",
   "metadata": {},
   "outputs": [],
   "source": []
  },
  {
   "cell_type": "markdown",
   "id": "42555d7a-27a9-4200-932b-8b10fde27416",
   "metadata": {},
   "source": [
    "<b>65. Append a new line of text to an existing file."
   ]
  },
  {
   "cell_type": "code",
   "execution_count": 60,
   "id": "09374218-99e1-499c-920b-d5c48ad0cdd4",
   "metadata": {},
   "outputs": [],
   "source": [
    "new_line = \"This is a new line being appended.\"\n",
    "\n",
    "with open('sample.txt', 'a') as file:\n",
    "    file.write(new_line + '\\n') "
   ]
  },
  {
   "cell_type": "markdown",
   "id": "80e9f543-c0b1-44b9-a1da-70c310517a0e",
   "metadata": {},
   "source": [
    "<b>66. Write a function to copy content from one file to another."
   ]
  },
  {
   "cell_type": "code",
   "execution_count": 61,
   "id": "44097bde-32a2-452c-927e-3b035233e3ad",
   "metadata": {},
   "outputs": [],
   "source": [
    "with open('sample.txt', 'r') as file, open('sample1.txt','w') as file1:\n",
    "    for line in file:\n",
    "        file1.write(line)"
   ]
  },
  {
   "cell_type": "markdown",
   "id": "3ab53cf9-eaa1-4c94-8e46-cce8deebb403",
   "metadata": {},
   "source": [
    "<b>67. Write a program that checks if a file exists before trying to open it.\n"
   ]
  },
  {
   "cell_type": "code",
   "execution_count": 63,
   "id": "a22a5ab3-057d-4840-855e-2ea5f6ded225",
   "metadata": {},
   "outputs": [
    {
     "name": "stdout",
     "output_type": "stream",
     "text": [
      "The file 'sampe.txt' does not exist.\n"
     ]
    }
   ],
   "source": [
    "import os\n",
    "\n",
    "filename = 'sampe.txt'\n",
    "if os.path.exists(filename):\n",
    "    with open(filename, 'r') as file:\n",
    "        content = file.read()\n",
    "        print(\"File content:\\n\", content)\n",
    "else:\n",
    "    print(f\"The file '{filename}' does not exist.\")\n"
   ]
  },
  {
   "cell_type": "markdown",
   "id": "6371d957-8b57-4ef1-85d9-1eefdad60834",
   "metadata": {},
   "source": [
    "<b>68. Write a program that reads a CSV file and prints each row."
   ]
  },
  {
   "cell_type": "code",
   "execution_count": 64,
   "id": "460eb97a-9dba-4045-896a-d9cf5f0e73f9",
   "metadata": {},
   "outputs": [
    {
     "data": {
      "text/html": [
       "<div>\n",
       "<style scoped>\n",
       "    .dataframe tbody tr th:only-of-type {\n",
       "        vertical-align: middle;\n",
       "    }\n",
       "\n",
       "    .dataframe tbody tr th {\n",
       "        vertical-align: top;\n",
       "    }\n",
       "\n",
       "    .dataframe thead th {\n",
       "        text-align: right;\n",
       "    }\n",
       "</style>\n",
       "<table border=\"1\" class=\"dataframe\">\n",
       "  <thead>\n",
       "    <tr style=\"text-align: right;\">\n",
       "      <th></th>\n",
       "      <th>SL No</th>\n",
       "      <th>Date</th>\n",
       "      <th>Agent Name</th>\n",
       "      <th>Total Chats</th>\n",
       "      <th>Average Response Time</th>\n",
       "      <th>Average Resolution Time</th>\n",
       "      <th>Average Rating</th>\n",
       "      <th>Total Feedback</th>\n",
       "    </tr>\n",
       "  </thead>\n",
       "  <tbody>\n",
       "    <tr>\n",
       "      <th>0</th>\n",
       "      <td>1</td>\n",
       "      <td>7/30/2022</td>\n",
       "      <td>Prerna Singh</td>\n",
       "      <td>11</td>\n",
       "      <td>0:00:38</td>\n",
       "      <td>0:04:20</td>\n",
       "      <td>4.11</td>\n",
       "      <td>9</td>\n",
       "    </tr>\n",
       "    <tr>\n",
       "      <th>1</th>\n",
       "      <td>2</td>\n",
       "      <td>7/30/2022</td>\n",
       "      <td>Nandani Gupta</td>\n",
       "      <td>11</td>\n",
       "      <td>0:01:15</td>\n",
       "      <td>0:28:25</td>\n",
       "      <td>3.14</td>\n",
       "      <td>7</td>\n",
       "    </tr>\n",
       "    <tr>\n",
       "      <th>2</th>\n",
       "      <td>3</td>\n",
       "      <td>7/30/2022</td>\n",
       "      <td>Ameya Jain</td>\n",
       "      <td>14</td>\n",
       "      <td>0:00:30</td>\n",
       "      <td>0:11:36</td>\n",
       "      <td>4.55</td>\n",
       "      <td>11</td>\n",
       "    </tr>\n",
       "    <tr>\n",
       "      <th>3</th>\n",
       "      <td>4</td>\n",
       "      <td>7/30/2022</td>\n",
       "      <td>Mahesh Sarade</td>\n",
       "      <td>14</td>\n",
       "      <td>0:01:04</td>\n",
       "      <td>0:15:46</td>\n",
       "      <td>4.71</td>\n",
       "      <td>7</td>\n",
       "    </tr>\n",
       "    <tr>\n",
       "      <th>4</th>\n",
       "      <td>5</td>\n",
       "      <td>7/30/2022</td>\n",
       "      <td>Swati</td>\n",
       "      <td>14</td>\n",
       "      <td>0:01:11</td>\n",
       "      <td>0:16:33</td>\n",
       "      <td>3.67</td>\n",
       "      <td>6</td>\n",
       "    </tr>\n",
       "    <tr>\n",
       "      <th>...</th>\n",
       "      <td>...</td>\n",
       "      <td>...</td>\n",
       "      <td>...</td>\n",
       "      <td>...</td>\n",
       "      <td>...</td>\n",
       "      <td>...</td>\n",
       "      <td>...</td>\n",
       "      <td>...</td>\n",
       "    </tr>\n",
       "    <tr>\n",
       "      <th>2155</th>\n",
       "      <td>2156</td>\n",
       "      <td>7/1/2022</td>\n",
       "      <td>Sowmiya Sivakumar</td>\n",
       "      <td>0</td>\n",
       "      <td>0:00:00</td>\n",
       "      <td>0:00:00</td>\n",
       "      <td>0.00</td>\n",
       "      <td>0</td>\n",
       "    </tr>\n",
       "    <tr>\n",
       "      <th>2156</th>\n",
       "      <td>2157</td>\n",
       "      <td>7/1/2022</td>\n",
       "      <td>Nitin M</td>\n",
       "      <td>0</td>\n",
       "      <td>0:00:00</td>\n",
       "      <td>0:00:00</td>\n",
       "      <td>0.00</td>\n",
       "      <td>0</td>\n",
       "    </tr>\n",
       "    <tr>\n",
       "      <th>2157</th>\n",
       "      <td>2158</td>\n",
       "      <td>7/1/2022</td>\n",
       "      <td>Vivek</td>\n",
       "      <td>0</td>\n",
       "      <td>0:00:00</td>\n",
       "      <td>0:00:00</td>\n",
       "      <td>0.00</td>\n",
       "      <td>0</td>\n",
       "    </tr>\n",
       "    <tr>\n",
       "      <th>2158</th>\n",
       "      <td>2159</td>\n",
       "      <td>7/1/2022</td>\n",
       "      <td>Ayushi Mishra</td>\n",
       "      <td>0</td>\n",
       "      <td>0:00:00</td>\n",
       "      <td>0:00:00</td>\n",
       "      <td>0.00</td>\n",
       "      <td>0</td>\n",
       "    </tr>\n",
       "    <tr>\n",
       "      <th>2159</th>\n",
       "      <td>2160</td>\n",
       "      <td>7/1/2022</td>\n",
       "      <td>Chaitra K Hiremath</td>\n",
       "      <td>0</td>\n",
       "      <td>0:00:00</td>\n",
       "      <td>0:00:00</td>\n",
       "      <td>0.00</td>\n",
       "      <td>0</td>\n",
       "    </tr>\n",
       "  </tbody>\n",
       "</table>\n",
       "<p>2160 rows × 8 columns</p>\n",
       "</div>"
      ],
      "text/plain": [
       "      SL No       Date          Agent Name  Total Chats Average Response Time  \\\n",
       "0         1  7/30/2022        Prerna Singh           11               0:00:38   \n",
       "1         2  7/30/2022       Nandani Gupta           11               0:01:15   \n",
       "2         3  7/30/2022          Ameya Jain           14               0:00:30   \n",
       "3         4  7/30/2022       Mahesh Sarade           14               0:01:04   \n",
       "4         5  7/30/2022              Swati            14               0:01:11   \n",
       "...     ...        ...                 ...          ...                   ...   \n",
       "2155   2156   7/1/2022   Sowmiya Sivakumar            0               0:00:00   \n",
       "2156   2157   7/1/2022             Nitin M            0               0:00:00   \n",
       "2157   2158   7/1/2022              Vivek             0               0:00:00   \n",
       "2158   2159   7/1/2022       Ayushi Mishra            0               0:00:00   \n",
       "2159   2160   7/1/2022  Chaitra K Hiremath            0               0:00:00   \n",
       "\n",
       "     Average Resolution Time  Average Rating  Total Feedback  \n",
       "0                    0:04:20            4.11               9  \n",
       "1                    0:28:25            3.14               7  \n",
       "2                    0:11:36            4.55              11  \n",
       "3                    0:15:46            4.71               7  \n",
       "4                    0:16:33            3.67               6  \n",
       "...                      ...             ...             ...  \n",
       "2155                 0:00:00            0.00               0  \n",
       "2156                 0:00:00            0.00               0  \n",
       "2157                 0:00:00            0.00               0  \n",
       "2158                 0:00:00            0.00               0  \n",
       "2159                 0:00:00            0.00               0  \n",
       "\n",
       "[2160 rows x 8 columns]"
      ]
     },
     "execution_count": 64,
     "metadata": {},
     "output_type": "execute_result"
    }
   ],
   "source": [
    "import pandas as pd\n",
    "df = pd.read_csv(\"C:/HARSHA/Course/DATA SCIENCE/DATASETS/AgentPerformance.csv\")\n",
    "\n",
    "df"
   ]
  },
  {
   "cell_type": "markdown",
   "id": "bac7594f-11ca-46f5-aa8b-90a90d096618",
   "metadata": {},
   "source": [
    "<b>69. Write a program to write the current date and time to a log file each time it's run."
   ]
  },
  {
   "cell_type": "code",
   "execution_count": null,
   "id": "10a206d8-d7ea-45f0-ba52-7262c1a6fb4f",
   "metadata": {},
   "outputs": [],
   "source": []
  },
  {
   "cell_type": "markdown",
   "id": "6902c7bc-8848-44b1-b0c4-c8fdaef0970e",
   "metadata": {},
   "source": [
    "<b>70. Write a Python program that reads a text file called data.txt and prints only the lines that contain the word \"success\" (case-insensitive)"
   ]
  },
  {
   "cell_type": "code",
   "execution_count": 65,
   "id": "6f45fba4-7285-43ba-9f33-130da9dfb2a5",
   "metadata": {},
   "outputs": [],
   "source": [
    "with open('sample.txt', 'r') as file:\n",
    "    for line in file:\n",
    "        if 'success' in line.lower():\n",
    "            print(line.strip()) \n"
   ]
  },
  {
   "cell_type": "code",
   "execution_count": null,
   "id": "4723cf84-83b4-40ab-ae9a-c9978787aa65",
   "metadata": {},
   "outputs": [],
   "source": []
  }
 ],
 "metadata": {
  "kernelspec": {
   "display_name": "Python 3 (ipykernel)",
   "language": "python",
   "name": "python3"
  },
  "language_info": {
   "codemirror_mode": {
    "name": "ipython",
    "version": 3
   },
   "file_extension": ".py",
   "mimetype": "text/x-python",
   "name": "python",
   "nbconvert_exporter": "python",
   "pygments_lexer": "ipython3",
   "version": "3.12.7"
  }
 },
 "nbformat": 4,
 "nbformat_minor": 5
}

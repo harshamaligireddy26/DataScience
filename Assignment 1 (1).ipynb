{
 "cells": [
  {
   "cell_type": "markdown",
   "id": "debee7bb-a212-4528-bff5-54ceedd95735",
   "metadata": {},
   "source": [
    "<b>Assignment 1</b>"
   ]
  },
  {
   "cell_type": "code",
   "execution_count": 1,
   "id": "f501a312-fc78-4175-916c-8f11e2ef5a41",
   "metadata": {},
   "outputs": [],
   "source": [
    "s = \"this is My First Python programming class and i am learNING python string and its function\""
   ]
  },
  {
   "cell_type": "markdown",
   "id": "3a10ced0-728b-4302-b442-fe74e9082892",
   "metadata": {},
   "source": [
    "<b>1.Try to extract data from index one to index 300 with a jump of 3</b>"
   ]
  },
  {
   "cell_type": "code",
   "execution_count": 2,
   "id": "d20ac0bc-3ccb-4f77-8f19-9b629e178654",
   "metadata": {},
   "outputs": [
    {
     "data": {
      "text/plain": [
       "'tssyityopgmncsa alrNph rgni ni'"
      ]
     },
     "execution_count": 2,
     "metadata": {},
     "output_type": "execute_result"
    }
   ],
   "source": [
    "s[0:300:3]"
   ]
  },
  {
   "cell_type": "markdown",
   "id": "aa6ef54c-034f-4ce1-8902-807e8bb17ca7",
   "metadata": {},
   "source": [
    "<b>2.Try to reverse a string without using reverse function</b>"
   ]
  },
  {
   "cell_type": "code",
   "execution_count": 3,
   "id": "f324a4f5-bf50-41a6-9d21-d85634e643d8",
   "metadata": {},
   "outputs": [
    {
     "data": {
      "text/plain": [
       "'noitcnuf sti dna gnirts nohtyp GNINrael ma i dna ssalc gnimmargorp nohtyP tsriF yM si siht'"
      ]
     },
     "execution_count": 3,
     "metadata": {},
     "output_type": "execute_result"
    }
   ],
   "source": [
    "s[::-1]"
   ]
  },
  {
   "cell_type": "markdown",
   "id": "5b31728e-a33b-4527-947e-68f64487775f",
   "metadata": {},
   "source": [
    "<b>3.Try to split a string after conversion of entire string in uppercase</b>"
   ]
  },
  {
   "cell_type": "code",
   "execution_count": 4,
   "id": "8eb346c4-f28c-4023-bb8d-cedb68cb679f",
   "metadata": {},
   "outputs": [
    {
     "data": {
      "text/plain": [
       "['THIS',\n",
       " 'IS',\n",
       " 'MY',\n",
       " 'FIRST',\n",
       " 'PYTHON',\n",
       " 'PROGRAMMING',\n",
       " 'CLASS',\n",
       " 'AND',\n",
       " 'I',\n",
       " 'AM',\n",
       " 'LEARNING',\n",
       " 'PYTHON',\n",
       " 'STRING',\n",
       " 'AND',\n",
       " 'ITS',\n",
       " 'FUNCTION']"
      ]
     },
     "execution_count": 4,
     "metadata": {},
     "output_type": "execute_result"
    }
   ],
   "source": [
    "s.upper().split(' ')"
   ]
  },
  {
   "cell_type": "markdown",
   "id": "ad43d5e2-4d7c-4280-9a85-f04140d1ee0b",
   "metadata": {},
   "source": [
    "<b>4.Try to convert the whole string into lower case</b>"
   ]
  },
  {
   "cell_type": "code",
   "execution_count": 5,
   "id": "c1658339-b3cc-4432-84e9-58bd8708d9ab",
   "metadata": {},
   "outputs": [
    {
     "data": {
      "text/plain": [
       "'this is my first python programming class and i am learning python string and its function'"
      ]
     },
     "execution_count": 5,
     "metadata": {},
     "output_type": "execute_result"
    }
   ],
   "source": [
    "s.lower()"
   ]
  },
  {
   "cell_type": "markdown",
   "id": "ff0be7a7-5661-4c7f-8a12-34bf79a39c37",
   "metadata": {},
   "source": [
    "<b>5.Try to capitalize the whole string</b>"
   ]
  },
  {
   "cell_type": "code",
   "execution_count": 6,
   "id": "a5847b7d-5b42-48b4-bfdb-c7cce358c30f",
   "metadata": {},
   "outputs": [
    {
     "data": {
      "text/plain": [
       "'This is my first python programming class and i am learning python string and its function'"
      ]
     },
     "execution_count": 6,
     "metadata": {},
     "output_type": "execute_result"
    }
   ],
   "source": [
    "s.capitalize()"
   ]
  },
  {
   "cell_type": "markdown",
   "id": "b5a9cb42-696c-406a-b02f-f49b92d530df",
   "metadata": {},
   "source": [
    "<b>6.Write a difference between isalnum() and isalpha()</b>"
   ]
  },
  {
   "cell_type": "markdown",
   "id": "f1d64f57-9198-4746-866f-47c8f176164a",
   "metadata": {},
   "source": [
    "<b>isalnum()</b>"
   ]
  },
  {
   "cell_type": "markdown",
   "id": "32b593e1-f7a0-43ad-a02f-0ea52b5e33e7",
   "metadata": {},
   "source": [
    "Checks whether the string contains numbers or letters in it"
   ]
  },
  {
   "cell_type": "markdown",
   "id": "35f82ccc-1af7-4ab6-9890-5ed854e766d3",
   "metadata": {},
   "source": [
    "<b>isalpha()</b>"
   ]
  },
  {
   "cell_type": "markdown",
   "id": "b5630500-91bc-4a9c-9ff9-3408bc2eea5d",
   "metadata": {},
   "source": [
    "Checks whether the string contains letters or not"
   ]
  },
  {
   "cell_type": "markdown",
   "id": "fb0f520b-7a49-46e7-86b3-fd01a8c9b607",
   "metadata": {},
   "source": [
    "<b>7.Try to give an example of expand tab</b>"
   ]
  },
  {
   "cell_type": "code",
   "execution_count": 8,
   "id": "58fc0222-451d-4f1f-95d4-2400ddfe5184",
   "metadata": {},
   "outputs": [
    {
     "data": {
      "text/plain": [
       "'I       am      Learning'"
      ]
     },
     "execution_count": 8,
     "metadata": {},
     "output_type": "execute_result"
    }
   ],
   "source": [
    "a=\"I\\tam\\tLearning\"\n",
    "a.expandtabs()"
   ]
  },
  {
   "cell_type": "markdown",
   "id": "c65dd41f-fb58-462b-a99d-57a32fc39d5c",
   "metadata": {},
   "source": [
    "<b>8.Give an example of strip , lstrip and rstrip</b>"
   ]
  },
  {
   "cell_type": "code",
   "execution_count": 10,
   "id": "809d4755-0834-4095-b3b4-9d6297411268",
   "metadata": {},
   "outputs": [
    {
     "name": "stdout",
     "output_type": "stream",
     "text": [
      "I   am   Learning\n",
      "I   am   Learning   \n",
      "    I   am   Learning\n"
     ]
    }
   ],
   "source": [
    "b=\"    I   am   Learning   \"\n",
    "print(b.strip())\n",
    "print(b.lstrip())\n",
    "print(b.rstrip())"
   ]
  },
  {
   "cell_type": "markdown",
   "id": "ae273223-a677-43f1-80fa-cdf5fe0682c3",
   "metadata": {},
   "source": [
    "<b>9.Replace a string character by another character by taking your own example \"Aimnxt\"</b>"
   ]
  },
  {
   "cell_type": "code",
   "execution_count": 11,
   "id": "e993c56a-0ee8-4b0e-b3e4-5b64a29ab3cc",
   "metadata": {},
   "outputs": [],
   "source": [
    "c=\"Aimnxt\""
   ]
  },
  {
   "cell_type": "code",
   "execution_count": 12,
   "id": "82121b50-55cc-4555-8c21-2418a93dfa25",
   "metadata": {},
   "outputs": [
    {
     "name": "stdout",
     "output_type": "stream",
     "text": [
      "Aimnxt\n",
      "Apmnxt\n"
     ]
    }
   ],
   "source": [
    "print(c)\n",
    "print(c.replace('i','p'))"
   ]
  },
  {
   "cell_type": "markdown",
   "id": "25ee83c9-655e-492b-8c5e-defe339b9a62",
   "metadata": {},
   "source": [
    "<b>10.Try to give a defination of string center function with an example</b>"
   ]
  },
  {
   "cell_type": "markdown",
   "id": "b51a4ef1-df2e-4f69-9215-038311b12a71",
   "metadata": {},
   "source": [
    "It is a function the align in the middle according to the width"
   ]
  },
  {
   "cell_type": "code",
   "execution_count": 13,
   "id": "bdaf44e7-16ed-4e16-87a0-422c3d49d977",
   "metadata": {},
   "outputs": [
    {
     "data": {
      "text/plain": [
       "'@@@@@@@Harsha@@@@@@@'"
      ]
     },
     "execution_count": 13,
     "metadata": {},
     "output_type": "execute_result"
    }
   ],
   "source": [
    "d=\"Harsha\"\n",
    "d.center(20,'@')"
   ]
  },
  {
   "cell_type": "markdown",
   "id": "048bb323-4ab5-47e3-a78e-5940ffb6bcaf",
   "metadata": {},
   "source": [
    "<b>11.Write your own definition of compiler and interpretor</b>"
   ]
  },
  {
   "cell_type": "markdown",
   "id": "f7999db2-5f51-4530-b347-75e78b91e0c7",
   "metadata": {},
   "source": [
    "<b>Compiler:</b>\n",
    "Compiler will execute overall code at one time.Compiler will convert source code to bytecode."
   ]
  },
  {
   "cell_type": "markdown",
   "id": "6872fbb8-b581-4966-aea4-cbf858faaac8",
   "metadata": {},
   "source": [
    "<b>Interpretor:</b>\n",
    "It will execute code line by line.It will give errors at runtime."
   ]
  },
  {
   "cell_type": "markdown",
   "id": "17e1bad5-d4bf-4de8-accd-233200c34b02",
   "metadata": {},
   "source": [
    "<b>12.Python is a interpreted of compiled language</b>"
   ]
  },
  {
   "cell_type": "markdown",
   "id": "fb1930ea-83b7-440c-8797-17a67494a0b5",
   "metadata": {},
   "source": [
    " Python is both compiled as well as an interpreted language, which means the python code will first compiled and then interpreted line by line."
   ]
  },
  {
   "cell_type": "markdown",
   "id": "074f5ae0-6fa5-46cb-8b17-38a0c59b5d52",
   "metadata": {},
   "source": [
    "<b>13.Try to write a usecases of Python</b>"
   ]
  },
  {
   "cell_type": "markdown",
   "id": "3a38b2ff-66ba-42db-9adf-6e01755f1f7b",
   "metadata": {},
   "source": [
    "Python is extensively applied in data science, data analysis, machine learning, data engineering, web development, software development, and other fields\n"
   ]
  },
  {
   "cell_type": "code",
   "execution_count": null,
   "id": "875f4bed-3fd1-43c1-ad62-5b72f6cc0ce5",
   "metadata": {},
   "outputs": [],
   "source": []
  }
 ],
 "metadata": {
  "kernelspec": {
   "display_name": "Python 3 (ipykernel)",
   "language": "python",
   "name": "python3"
  },
  "language_info": {
   "codemirror_mode": {
    "name": "ipython",
    "version": 3
   },
   "file_extension": ".py",
   "mimetype": "text/x-python",
   "name": "python",
   "nbconvert_exporter": "python",
   "pygments_lexer": "ipython3",
   "version": "3.12.7"
  }
 },
 "nbformat": 4,
 "nbformat_minor": 5
}

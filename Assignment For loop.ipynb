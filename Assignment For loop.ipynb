{
 "cells": [
  {
   "cell_type": "raw",
   "id": "8d9e172d-0ab9-47ea-ac5c-ba619395ea53",
   "metadata": {},
   "source": [
    "1:\n",
    "\n",
    "ineruon \n",
    "ineruon ineruon \n",
    "ineruon ineruon ineruon\n",
    "ineruon ineruon ineruon ineruon"
   ]
  },
  {
   "cell_type": "code",
   "execution_count": 1,
   "id": "4e0357cd-9399-494e-b1b4-f99438e3cfd9",
   "metadata": {},
   "outputs": [
    {
     "name": "stdout",
     "output_type": "stream",
     "text": [
      "ineruon \n",
      "ineruon ineruon \n",
      "ineruon ineruon ineruon \n",
      "ineruon ineruon ineruon ineruon \n"
     ]
    }
   ],
   "source": [
    "for i in range(4):\n",
    "    for j in range(i+1):\n",
    "        print(\"ineruon\",end=\" \")\n",
    "    print(\"\")"
   ]
  },
  {
   "cell_type": "raw",
   "id": "74a6be5b-93c1-4fa8-ae08-b13f333248e3",
   "metadata": {},
   "source": [
    "2:\n",
    "\n",
    "          ineruon\n",
    "    ineruon      ineruon\n",
    "ineruon\t\tineruon \tineruon\n",
    "\tineruon\t\t ineruon\n",
    "\t\t  ineruon"
   ]
  },
  {
   "cell_type": "code",
   "execution_count": 2,
   "id": "02553e39-cdcb-4a7a-aca4-3c70c543b5f1",
   "metadata": {},
   "outputs": [
    {
     "name": "stdout",
     "output_type": "stream",
     "text": [
      "           ineruon     \n",
      "      ineruon     ineruon     \n",
      " ineruon     ineruon     ineruon     \n",
      "       ineruon     ineruon     \n",
      "             ineruon     \n"
     ]
    }
   ],
   "source": [
    "n=2\n",
    "for i in range(n):\n",
    "    print(\"     \"*(n-i),\"ineruon     \"*(i+1))\n",
    "m=2\n",
    "for i in range(m+1):\n",
    "    print(\"      \"*(i),\"ineruon     \"*((m+1)-i))\n",
    "    "
   ]
  },
  {
   "cell_type": "markdown",
   "id": "04ad23e9-d1a8-4a7e-a2c4-64ff21cc87ce",
   "metadata": {},
   "source": [
    "...."
   ]
  },
  {
   "cell_type": "code",
   "execution_count": 3,
   "id": "aa077a35-8028-4962-b39c-c323aa9538ab",
   "metadata": {},
   "outputs": [],
   "source": [
    "l = [[1,2,3,4] , (2,3,4,5,6) , (3,4,5,6,7) , set([23,4,5,45,4,4,5,45,45,4,5]) , {'k1' :\"sudh\" , \"k2\" : \"ineuron\",\"k3\":\n",
    "            \"kumar\" , 3:6 , 7:8} , [\"ineuron\" , \"data science \"]]"
   ]
  },
  {
   "cell_type": "code",
   "execution_count": 4,
   "id": "fccbec6f-8f7e-45bc-a5dc-082f359a2363",
   "metadata": {},
   "outputs": [
    {
     "data": {
      "text/plain": [
       "[[1, 2, 3, 4],\n",
       " (2, 3, 4, 5, 6),\n",
       " (3, 4, 5, 6, 7),\n",
       " {4, 5, 23, 45},\n",
       " {'k1': 'sudh', 'k2': 'ineuron', 'k3': 'kumar', 3: 6, 7: 8},\n",
       " ['ineuron', 'data science ']]"
      ]
     },
     "execution_count": 4,
     "metadata": {},
     "output_type": "execute_result"
    }
   ],
   "source": [
    "l"
   ]
  },
  {
   "cell_type": "markdown",
   "id": "e436f4ba-b615-499b-948f-319b5ab2d714",
   "metadata": {},
   "source": [
    "<b>3: Try to extract all the list entity</b>"
   ]
  },
  {
   "cell_type": "code",
   "execution_count": 5,
   "id": "49d34ae6-31c5-407e-85e3-3ee429924262",
   "metadata": {},
   "outputs": [
    {
     "name": "stdout",
     "output_type": "stream",
     "text": [
      "[1, 2, 3, 4]\n",
      "['ineuron', 'data science ']\n"
     ]
    }
   ],
   "source": [
    "for i in l:\n",
    "    if type(i)==list:\n",
    "        print(i)"
   ]
  },
  {
   "cell_type": "markdown",
   "id": "199af76f-259d-4e8f-8e4d-34b1e897f7fd",
   "metadata": {},
   "source": [
    "<b>4 : Try to extract all the dict enteties</b>"
   ]
  },
  {
   "cell_type": "code",
   "execution_count": 6,
   "id": "9f0cbb0d-3211-4209-bde5-4821f0a5e605",
   "metadata": {},
   "outputs": [
    {
     "name": "stdout",
     "output_type": "stream",
     "text": [
      "{'k1': 'sudh', 'k2': 'ineuron', 'k3': 'kumar', 3: 6, 7: 8}\n"
     ]
    }
   ],
   "source": [
    "for i in l:\n",
    "    if type(i)==dict:\n",
    "        print(i)"
   ]
  },
  {
   "cell_type": "markdown",
   "id": "7e5410c8-28d5-4bd2-8096-447da5ad5198",
   "metadata": {},
   "source": [
    "<b>5 : Try to extract all the tuples entities</b>"
   ]
  },
  {
   "cell_type": "code",
   "execution_count": 7,
   "id": "47539bb1-7f64-4046-8f36-3e767f4cff28",
   "metadata": {},
   "outputs": [
    {
     "name": "stdout",
     "output_type": "stream",
     "text": [
      "(2, 3, 4, 5, 6)\n",
      "(3, 4, 5, 6, 7)\n"
     ]
    }
   ],
   "source": [
    "for i in l:\n",
    "    if type(i)==tuple:\n",
    "        print(i)"
   ]
  },
  {
   "cell_type": "markdown",
   "id": "3e528d8e-921a-4728-b9e9-a02ea28ba054",
   "metadata": {},
   "source": [
    "<b>6 : Try to extract all the numerical data it may be part of dict key and values</b>"
   ]
  },
  {
   "cell_type": "code",
   "execution_count": 8,
   "id": "e45a8552-5c7a-40c6-81eb-3858ec7d48e2",
   "metadata": {},
   "outputs": [
    {
     "data": {
      "text/plain": [
       "[[1, 2, 3, 4],\n",
       " (2, 3, 4, 5, 6),\n",
       " (3, 4, 5, 6, 7),\n",
       " {4, 5, 23, 45},\n",
       " {'k1': 'sudh', 'k2': 'ineuron', 'k3': 'kumar', 3: 6, 7: 8},\n",
       " ['ineuron', 'data science ']]"
      ]
     },
     "execution_count": 8,
     "metadata": {},
     "output_type": "execute_result"
    }
   ],
   "source": [
    "l"
   ]
  },
  {
   "cell_type": "code",
   "execution_count": 9,
   "id": "2fa5b36c-ba0b-4b6d-abe2-2aaa68a972b7",
   "metadata": {},
   "outputs": [
    {
     "name": "stdout",
     "output_type": "stream",
     "text": [
      "1\n",
      "2\n",
      "3\n",
      "4\n",
      "2\n",
      "3\n",
      "4\n",
      "5\n",
      "6\n",
      "3\n",
      "4\n",
      "5\n",
      "6\n",
      "7\n",
      "45\n",
      "4\n",
      "5\n",
      "23\n",
      "3 : 6\n",
      "7 : 8\n",
      "[1, 2, 3, 4, 2, 3, 4, 5, 6, 3, 4, 5, 6, 7, 45, 4, 5, 23, 3, 6, 7, 8]\n"
     ]
    }
   ],
   "source": [
    "list1=[]\n",
    "for i in l:\n",
    "    if type(i)==dict:\n",
    "        for j,v in i.items():\n",
    "            if type(j)==int or type(v)==int:\n",
    "                list1+=[j]\n",
    "                list1.append(v)\n",
    "                print(j,\":\",i[j])\n",
    "                \n",
    "    else:\n",
    "         for j in i:\n",
    "             if type(j)==int:\n",
    "                list1+=[j]\n",
    "                print(j)\n",
    "print(list1)"
   ]
  },
  {
   "cell_type": "markdown",
   "id": "f6478e3d-5ded-42db-87f6-195054458e37",
   "metadata": {},
   "source": [
    "<b>7 : Try to give summation of all the numeric data</b>"
   ]
  },
  {
   "cell_type": "code",
   "execution_count": 10,
   "id": "3a000daa-2639-4ab4-b3b4-8dfcbd2a98f6",
   "metadata": {},
   "outputs": [
    {
     "data": {
      "text/plain": [
       "[[1, 2, 3, 4],\n",
       " (2, 3, 4, 5, 6),\n",
       " (3, 4, 5, 6, 7),\n",
       " {4, 5, 23, 45},\n",
       " {'k1': 'sudh', 'k2': 'ineuron', 'k3': 'kumar', 3: 6, 7: 8},\n",
       " ['ineuron', 'data science ']]"
      ]
     },
     "execution_count": 10,
     "metadata": {},
     "output_type": "execute_result"
    }
   ],
   "source": [
    "l"
   ]
  },
  {
   "cell_type": "code",
   "execution_count": 11,
   "id": "d00d7eba-650e-45d6-b6b6-9def15c5f361",
   "metadata": {},
   "outputs": [
    {
     "name": "stdout",
     "output_type": "stream",
     "text": [
      "156\n",
      "[1, 2, 3, 4, 2, 3, 4, 5, 6, 3, 4, 5, 6, 7, 45, 4, 5, 23, 3, 6, 7, 8]\n"
     ]
    }
   ],
   "source": [
    "list1=[]\n",
    "for i in l:\n",
    "    if type(i)==dict:\n",
    "        for a,b in i.items():\n",
    "            if type(a)==int or type(b)==int :\n",
    "                list1+=[a]\n",
    "                list1+=[b]\n",
    "                \n",
    "    else:\n",
    "       for j in i:\n",
    "          if type(j)== int:\n",
    "              list1+=[j]\n",
    "\n",
    "sum1=sum(list1)\n",
    "print(sum1)\n",
    "print(list1)\n",
    "\n",
    "\n"
   ]
  },
  {
   "cell_type": "markdown",
   "id": "c1bc3507-5ab1-4f63-a0dc-39919dc0fbd0",
   "metadata": {},
   "source": [
    "<b>8 : Try to filter out all the odd values out all numeric data which is a part of a list.</b> "
   ]
  },
  {
   "cell_type": "code",
   "execution_count": 13,
   "id": "53e99224-54c7-4816-b2cc-973c80c0857f",
   "metadata": {},
   "outputs": [
    {
     "data": {
      "text/plain": [
       "[[1, 2, 3, 4],\n",
       " (2, 3, 4, 5, 6),\n",
       " (3, 4, 5, 6, 7),\n",
       " {4, 5, 23, 45},\n",
       " {'k1': 'sudh', 'k2': 'ineuron', 'k3': 'kumar', 3: 6, 7: 8},\n",
       " ['ineuron', 'data science ']]"
      ]
     },
     "execution_count": 13,
     "metadata": {},
     "output_type": "execute_result"
    }
   ],
   "source": [
    "l"
   ]
  },
  {
   "cell_type": "code",
   "execution_count": 14,
   "id": "573507a0-f5f7-49a6-801c-841322d972df",
   "metadata": {},
   "outputs": [
    {
     "name": "stdout",
     "output_type": "stream",
     "text": [
      "{1, 3, 5, 7, 45, 23}\n"
     ]
    }
   ],
   "source": [
    "list1=[]\n",
    "for i in l:\n",
    "        for j in i:\n",
    "            if type(j)==int:\n",
    "                if j%2!=0:\n",
    "                    list1+=[j]\n",
    "set1=set(list1)\n",
    "print(set1)                  \n",
    "        "
   ]
  },
  {
   "cell_type": "code",
   "execution_count": 15,
   "id": "28fb4b79-83fa-4899-ba43-8f37aee52eaf",
   "metadata": {},
   "outputs": [
    {
     "name": "stdout",
     "output_type": "stream",
     "text": [
      "{1, 2, 3, 4}\n",
      "{2, 3, 4, 5, 6}\n",
      "{3, 4, 5, 6, 7}\n",
      "{45, 4, 5, 23}\n",
      "{3, 'k1', 'k3', 7, 'k2'}\n",
      "{'data science ', 'ineuron'}\n"
     ]
    }
   ],
   "source": [
    "for i in l:\n",
    "    if type(i)!=set:\n",
    "        set1=set(i)\n",
    "        print(set1)\n",
    "    else:\n",
    "        print(i)\n"
   ]
  },
  {
   "cell_type": "markdown",
   "id": "a580609f-06ac-4225-83ff-1b8863e44d1e",
   "metadata": {},
   "source": [
    "<b>9 : Try to extract \"ineruon\" out of this data</b>"
   ]
  },
  {
   "cell_type": "code",
   "execution_count": 16,
   "id": "5fc5bb5c-b2b8-4fa4-85cc-b4957c616866",
   "metadata": {},
   "outputs": [
    {
     "data": {
      "text/plain": [
       "'ineuron'"
      ]
     },
     "execution_count": 16,
     "metadata": {},
     "output_type": "execute_result"
    }
   ],
   "source": [
    "l[-1][0]"
   ]
  },
  {
   "cell_type": "markdown",
   "id": "bce9456a-9350-47ef-a641-0a67b103e70e",
   "metadata": {},
   "source": [
    "<b>10 : Try to find out a number of occurances of all the data</b> "
   ]
  },
  {
   "cell_type": "code",
   "execution_count": 17,
   "id": "4b4f7903-70e4-488e-b040-134cdeb91f3d",
   "metadata": {},
   "outputs": [
    {
     "data": {
      "text/plain": [
       "[[1, 2, 3, 4],\n",
       " (2, 3, 4, 5, 6),\n",
       " (3, 4, 5, 6, 7),\n",
       " {4, 5, 23, 45},\n",
       " {'k1': 'sudh', 'k2': 'ineuron', 'k3': 'kumar', 3: 6, 7: 8},\n",
       " ['ineuron', 'data science ']]"
      ]
     },
     "execution_count": 17,
     "metadata": {},
     "output_type": "execute_result"
    }
   ],
   "source": [
    "l"
   ]
  },
  {
   "cell_type": "code",
   "execution_count": 18,
   "id": "45ae8589-7792-4c80-b46a-6e813314e54f",
   "metadata": {},
   "outputs": [
    {
     "name": "stdout",
     "output_type": "stream",
     "text": [
      "{1: 1, 2: 2, 3: 4, 4: 4, 5: 3, 6: 2, 7: 2, 45: 1, 23: 1, 'k1': 1, 'k2': 1, 'k3': 1, 'ineuron': 1, 'data science ': 1}\n",
      "1 : 1\n",
      "2 : 2\n",
      "3 : 4\n",
      "4 : 4\n",
      "5 : 3\n",
      "6 : 2\n",
      "7 : 2\n",
      "45 : 1\n",
      "23 : 1\n",
      "k1 : 1\n",
      "k2 : 1\n",
      "k3 : 1\n",
      "ineuron : 1\n",
      "data science  : 1\n"
     ]
    }
   ],
   "source": [
    "list1=[]\n",
    "for  i in l:\n",
    "    for j in i:\n",
    "        list1+=[j]\n",
    "coun = {}\n",
    "for item in list1:\n",
    "    if item in coun:\n",
    "        coun[item] += 1\n",
    "    else:\n",
    "        coun[item] = 1\n",
    "print(coun)\n",
    "for a,b in coun.items():\n",
    "    print(a,\":\",b)"
   ]
  },
  {
   "cell_type": "markdown",
   "id": "9dd9af4b-ea9b-448c-9ab9-af05fb54d1e7",
   "metadata": {},
   "source": [
    "<b>11 : Try to find out number of keys in dict element</b>"
   ]
  },
  {
   "cell_type": "code",
   "execution_count": 19,
   "id": "7b9ae61f-49de-4483-b82f-c4465208ed4b",
   "metadata": {},
   "outputs": [
    {
     "name": "stdout",
     "output_type": "stream",
     "text": [
      "5\n"
     ]
    }
   ],
   "source": [
    "count1=0\n",
    "for i in l:\n",
    "    if type(i)==dict:\n",
    "       a=len(i.keys())\n",
    "print(a)"
   ]
  },
  {
   "cell_type": "markdown",
   "id": "edb30e3a-58f9-43b8-bd03-48d405309acc",
   "metadata": {},
   "source": [
    "<b>12 : Try to filter out all the string data</b>"
   ]
  },
  {
   "cell_type": "code",
   "execution_count": 20,
   "id": "0cf0a22a-586c-4ee5-aceb-3204ef07331e",
   "metadata": {},
   "outputs": [
    {
     "data": {
      "text/plain": [
       "[[1, 2, 3, 4],\n",
       " (2, 3, 4, 5, 6),\n",
       " (3, 4, 5, 6, 7),\n",
       " {4, 5, 23, 45},\n",
       " {'k1': 'sudh', 'k2': 'ineuron', 'k3': 'kumar', 3: 6, 7: 8},\n",
       " ['ineuron', 'data science ']]"
      ]
     },
     "execution_count": 20,
     "metadata": {},
     "output_type": "execute_result"
    }
   ],
   "source": [
    "l"
   ]
  },
  {
   "cell_type": "code",
   "execution_count": 21,
   "id": "178e8a4e-0b37-4386-84ee-2c8c22be402e",
   "metadata": {},
   "outputs": [
    {
     "name": "stdout",
     "output_type": "stream",
     "text": [
      "sudh\n",
      "ineuron\n",
      "kumar\n",
      "ineuron\n",
      "data science \n"
     ]
    }
   ],
   "source": [
    "for i in l:\n",
    "    if type(i)==dict:\n",
    "        for j in i:\n",
    "            if type(i[j])==str:\n",
    "                print(i[j])\n",
    "    else:\n",
    "        for j in i:\n",
    "            if type(j)==str:\n",
    "                print(j)"
   ]
  },
  {
   "cell_type": "markdown",
   "id": "5ffb55d6-cc36-4a0c-bafa-61d8b581cc07",
   "metadata": {},
   "source": [
    "<b>13 : Try to Find  out alphanum in data</b>"
   ]
  },
  {
   "cell_type": "code",
   "execution_count": 22,
   "id": "fccd763a-ef7c-4958-b426-63c89506c011",
   "metadata": {},
   "outputs": [
    {
     "data": {
      "text/plain": [
       "[[1, 2, 3, 4],\n",
       " (2, 3, 4, 5, 6),\n",
       " (3, 4, 5, 6, 7),\n",
       " {4, 5, 23, 45},\n",
       " {'k1': 'sudh', 'k2': 'ineuron', 'k3': 'kumar', 3: 6, 7: 8},\n",
       " ['ineuron', 'data science ']]"
      ]
     },
     "execution_count": 22,
     "metadata": {},
     "output_type": "execute_result"
    }
   ],
   "source": [
    "l"
   ]
  },
  {
   "cell_type": "code",
   "execution_count": 23,
   "id": "70153107-2dc5-4afa-8fbc-25dffd3aaec9",
   "metadata": {},
   "outputs": [
    {
     "name": "stdout",
     "output_type": "stream",
     "text": [
      "1\n",
      "2\n",
      "3\n",
      "4\n",
      "2\n",
      "3\n",
      "4\n",
      "5\n",
      "6\n",
      "3\n",
      "4\n",
      "5\n",
      "6\n",
      "7\n",
      "45\n",
      "4\n",
      "5\n",
      "23\n",
      "k1\n",
      "k2\n",
      "k3\n",
      "3\n",
      "7\n",
      "sudh\n",
      "ineuron\n",
      "kumar\n",
      "6\n",
      "8\n",
      "ineuron\n"
     ]
    }
   ],
   "source": [
    "list1=[]\n",
    "list2=[]\n",
    "for i in l:\n",
    "    if type(i)==dict:\n",
    "        for a,b in i.items():\n",
    "            list1+=[a]\n",
    "            list2+=[b]\n",
    "        for k in list1:\n",
    "            a=str(k)\n",
    "            if a.isalnum()==True:\n",
    "                    print(k)\n",
    "        for l in list2:\n",
    "            b=str(l)\n",
    "            if b.isalnum()==True:\n",
    "                print(b)\n",
    "    else: \n",
    "        for j in i:\n",
    "            a=str(j)\n",
    "            if a.isalnum()==True:\n",
    "                print(a)\n",
    "\n"
   ]
  },
  {
   "cell_type": "markdown",
   "id": "72a8d5dd-3a17-449f-8ec5-0709f723b8fe",
   "metadata": {},
   "source": [
    "<b>14 : Try to find out multiplication of all numeric value in  the individual collection inside dataset</b>"
   ]
  },
  {
   "cell_type": "code",
   "execution_count": 49,
   "id": "6e2ebb23-aae8-412b-a876-6ef3d84dab9d",
   "metadata": {},
   "outputs": [],
   "source": [
    "l=[[1, 2, 3, 4],\n",
    " (2, 3, 4, 5, 6),\n",
    " (3, 4, 5, 6, 7),\n",
    " {4, 5, 23, 45},\n",
    " {'k1': 'sudh', 'k2': 'ineuron', 'k3': 'kumar', 3: 6, 7: 8},\n",
    " ['ineuron', 'data science ']]"
   ]
  },
  {
   "cell_type": "code",
   "execution_count": 50,
   "id": "029c62f7-6d23-4730-89b5-49901f73fd2d",
   "metadata": {},
   "outputs": [
    {
     "name": "stdout",
     "output_type": "stream",
     "text": [
      "[24, 720, 2520, 20700, 3, 7, 1]\n"
     ]
    }
   ],
   "source": [
    "list1=[]\n",
    "multi=1\n",
    "for i in l:\n",
    "    if type(i)==list or type(i)==tuple or type(i)==set:\n",
    "        multi=1\n",
    "        for j in i:\n",
    "            if type(j)==int:\n",
    "                 multi=multi*j\n",
    "        list1.append(multi)\n",
    "    elif type(i)==dict:\n",
    "        for a,b in i.items():\n",
    "            multi=1\n",
    "            if type(a)==int:\n",
    "                multi*=a\n",
    "                list1.append(multi)\n",
    "            elif type(b)==int:\n",
    "                multi*=b\n",
    "                list1.append(multi)\n",
    "\n",
    "print(list1)      "
   ]
  },
  {
   "cell_type": "markdown",
   "id": "6ede4a85-0bb9-4546-ad97-1780e838f565",
   "metadata": {},
   "source": [
    "<b>15 : Try to unwrape all the collection inside collection and create a flat list</b>"
   ]
  },
  {
   "cell_type": "code",
   "execution_count": 1,
   "id": "83c095ae-619c-4f48-a3a6-023d3171e176",
   "metadata": {},
   "outputs": [],
   "source": [
    "l=[[1, 2, 3, 4],\n",
    " (2, 3, 4, 5, 6),\n",
    " (3, 4, 5, 6, 7),\n",
    " {4, 5, 23, 45},\n",
    " {'k1': 'sudh', 'k2': 'ineuron', 'k3': 'kumar', 3: 6, 7: 8},\n",
    " ['ineuron', 'data science ']]"
   ]
  },
  {
   "cell_type": "code",
   "execution_count": 2,
   "id": "2de57195-c093-4ad4-8c0c-bdcf38882bb2",
   "metadata": {},
   "outputs": [
    {
     "name": "stdout",
     "output_type": "stream",
     "text": [
      "[1, 2, 3, 4, 2, 3, 4, 5, 6, 3, 4, 5, 6, 7, 5, 4, 45, 23, 'k1', 'sudh', 'k2', 'ineuron', 'k3', 'kumar', 3, 6, 7, 8, 'ineuron', 'data science ']\n"
     ]
    }
   ],
   "source": [
    "list1=[]\n",
    "for i in l:\n",
    "    if type(i)==dict:\n",
    "        for a,b in i.items():\n",
    "            list1.append(a)\n",
    "            list1.append(b)\n",
    "    else:\n",
    "         for j in i:\n",
    "              list1.append(j)\n",
    "print(list1)"
   ]
  },
  {
   "cell_type": "markdown",
   "id": "e1ffa257-c096-4482-ae04-e04c8d76426f",
   "metadata": {},
   "source": [
    "<b>.......</b>"
   ]
  },
  {
   "cell_type": "markdown",
   "id": "291439f9-7373-4eec-8da2-6bb7eef92bac",
   "metadata": {},
   "source": [
    "<b>1. Filter Floats from a List</b>"
   ]
  },
  {
   "cell_type": "markdown",
   "id": "6a59fd01-3a54-4165-ba78-033737fbe98a",
   "metadata": {},
   "source": [
    "<b>Write a program that extracts all the floating-point numbers from a list containing mixed data types. The program should create a new list containing only the floats.</b>"
   ]
  },
  {
   "cell_type": "code",
   "execution_count": 28,
   "id": "a77dec2e-2ea3-45d1-8dd7-65b73e5ca0a2",
   "metadata": {},
   "outputs": [],
   "source": [
    "l=[12.5, 45, \"hello\", 23.0, 56.78, 90, \"world\"]"
   ]
  },
  {
   "cell_type": "code",
   "execution_count": 29,
   "id": "de027adb-5fb6-4b4d-8c83-cd4423fe6578",
   "metadata": {},
   "outputs": [
    {
     "name": "stdout",
     "output_type": "stream",
     "text": [
      "[12.5, 23.0, 56.78]\n"
     ]
    }
   ],
   "source": [
    "list1=[]\n",
    "for i in l:\n",
    "    if type(i)==float:\n",
    "        list1.append(i)\n",
    "print(list1)\n",
    "        "
   ]
  },
  {
   "cell_type": "markdown",
   "id": "d54a6024-1c84-409e-ac02-83ce2686a875",
   "metadata": {},
   "source": [
    "<b>2. Filter Strings from a List</b>"
   ]
  },
  {
   "cell_type": "markdown",
   "id": "9fb14880-1e5d-45b6-a342-acfe5ab95bfc",
   "metadata": {},
   "source": [
    "<b>Write a program to extract all the string elements from a mixed list and store them in a new list.</b>"
   ]
  },
  {
   "cell_type": "code",
   "execution_count": 30,
   "id": "8e92f3a3-7c3d-406c-b0da-67a5ecc4b42e",
   "metadata": {},
   "outputs": [],
   "source": [
    "l=[1, \"Python\", 3.14, \"Coding\", 42, \"AI\"]"
   ]
  },
  {
   "cell_type": "code",
   "execution_count": 31,
   "id": "218fca10-73d5-49f7-bf48-1171690bd513",
   "metadata": {},
   "outputs": [
    {
     "name": "stdout",
     "output_type": "stream",
     "text": [
      "['Python', 'Coding', 'AI']\n"
     ]
    }
   ],
   "source": [
    "list1=[]\n",
    "for i in l:\n",
    "    if type(i)==str:\n",
    "        list1.append(i)\n",
    "print(list1)"
   ]
  },
  {
   "cell_type": "markdown",
   "id": "b616783f-db28-423d-8e8d-054a7c01dca2",
   "metadata": {},
   "source": [
    "<b>3. Filter Non-Integers from a List</b>"
   ]
  },
  {
   "cell_type": "markdown",
   "id": "73a32617-8bea-4d0a-856e-45cd3a0d1f5c",
   "metadata": {},
   "source": [
    "<b>Write a program to create a new list that contains all elements from a given list except for integers.</b>"
   ]
  },
  {
   "cell_type": "code",
   "execution_count": 32,
   "id": "a3c201e4-173b-4f55-baff-d1c9045ea480",
   "metadata": {},
   "outputs": [],
   "source": [
    "l = [1, 2, 3, \"data\", 4.5, True, None]"
   ]
  },
  {
   "cell_type": "code",
   "execution_count": 33,
   "id": "f7e37833-ad81-4e7d-9802-b69ace42cfbe",
   "metadata": {},
   "outputs": [
    {
     "name": "stdout",
     "output_type": "stream",
     "text": [
      "['data', 4.5, True, None]\n"
     ]
    }
   ],
   "source": [
    "list1=[]\n",
    "for i in l:\n",
    "    if type(i)!=int:\n",
    "        list1.append(i)\n",
    "print(list1)"
   ]
  },
  {
   "cell_type": "markdown",
   "id": "c05adda7-74f9-454a-9b4d-33673221fce2",
   "metadata": {},
   "source": [
    "<b>4. Filter Boolean Values from a List</b>"
   ]
  },
  {
   "cell_type": "markdown",
   "id": "0a14758e-89f7-4b50-b460-50c8ecff3bf6",
   "metadata": {},
   "source": [
    "<b>Write a program to extract all the boolean values (True or False) from a mixed list.</b>"
   ]
  },
  {
   "cell_type": "code",
   "execution_count": 34,
   "id": "d21a3fb3-7ddf-4416-81d3-0fedfce15200",
   "metadata": {},
   "outputs": [],
   "source": [
    "l = [True, 42, \"yes\", False, 3.14, \"AI\"]"
   ]
  },
  {
   "cell_type": "code",
   "execution_count": 35,
   "id": "f4113c6f-3569-4b7d-8261-682a780e9b31",
   "metadata": {},
   "outputs": [
    {
     "name": "stdout",
     "output_type": "stream",
     "text": [
      "[True, False]\n"
     ]
    }
   ],
   "source": [
    "list1=[]\n",
    "for i in l:\n",
    "    if type(i)==bool:\n",
    "        list1.append(i)\n",
    "print(list1)"
   ]
  },
  {
   "cell_type": "markdown",
   "id": "464bcdf5-c497-4a25-bc37-bf98199c9e36",
   "metadata": {},
   "source": [
    "<b>5. Filter Even Integers from a List</b>"
   ]
  },
  {
   "cell_type": "markdown",
   "id": "9db2e687-6cba-4044-8db9-280d3838eef1",
   "metadata": {},
   "source": [
    "<b>Write a program that filters only the even integers from a mixed list and stores them in a new list.</b>"
   ]
  },
  {
   "cell_type": "code",
   "execution_count": 36,
   "id": "929acb7b-8756-442c-8477-98143a2b8ae2",
   "metadata": {},
   "outputs": [],
   "source": [
    "l = [1, 2, 3, 4, 5, 6, \"even\", 7.8]"
   ]
  },
  {
   "cell_type": "code",
   "execution_count": 37,
   "id": "09230027-f16d-4a34-b52f-505a890b948a",
   "metadata": {},
   "outputs": [
    {
     "name": "stdout",
     "output_type": "stream",
     "text": [
      "[2, 4, 6]\n"
     ]
    }
   ],
   "source": [
    "list1=[]\n",
    "for i in l:\n",
    "    if type(i)==int:\n",
    "        list1.append(i)\n",
    "list2=[]\n",
    "for j in list1:\n",
    "    if j%2==0:\n",
    "        list2.append(j)\n",
    "print(list2)\n",
    "        "
   ]
  },
  {
   "cell_type": "markdown",
   "id": "d1040086-d140-4654-8b5a-4c52528ffd04",
   "metadata": {},
   "source": [
    "<b>6. Filter Odd Integers from a List</b>"
   ]
  },
  {
   "cell_type": "markdown",
   "id": "1d72fe8b-801d-49c4-9f7e-1a45277b7a8b",
   "metadata": {},
   "source": [
    "<b>Write a program that extracts only the odd integers from a mixed list into a new list.</b>"
   ]
  },
  {
   "cell_type": "code",
   "execution_count": 38,
   "id": "5846849e-2f2c-4ffc-9497-8c21b1fa7d06",
   "metadata": {},
   "outputs": [],
   "source": [
    "l = [10, 21, 32, 43, \"odd\", 54, 65]"
   ]
  },
  {
   "cell_type": "code",
   "execution_count": 39,
   "id": "83cbb44c-70c1-42d4-ab61-9774fcebab04",
   "metadata": {},
   "outputs": [
    {
     "name": "stdout",
     "output_type": "stream",
     "text": [
      "[21, 43, 65]\n"
     ]
    }
   ],
   "source": [
    "list1=[]\n",
    "for i in l:\n",
    "    if type(i)==int:\n",
    "        list1.append(i)\n",
    "list2=[]\n",
    "for j in list1:\n",
    "    if j%2!=0:\n",
    "        list2.append(j)\n",
    "print(list2)"
   ]
  },
  {
   "cell_type": "markdown",
   "id": "69667df6-5c6e-49ef-83c6-2b649243cb2f",
   "metadata": {},
   "source": [
    "<b>7. Filter Elements of a Specific Length</b>"
   ]
  },
  {
   "cell_type": "markdown",
   "id": "2558c25a-e4e0-41ab-b5d4-122c170cf2fc",
   "metadata": {},
   "source": [
    "<b>Write a program to filter all string elements with a length greater than 4 characters from a mixed list.</b>"
   ]
  },
  {
   "cell_type": "code",
   "execution_count": 40,
   "id": "beabb937-8ba7-493c-8362-4a1084fe1d23",
   "metadata": {},
   "outputs": [],
   "source": [
    "l = [\"apple\", \"AI\", 123, \"data\", \"hello\", 3.14]"
   ]
  },
  {
   "cell_type": "code",
   "execution_count": 41,
   "id": "acd1310d-1d0c-4c5b-8242-ca5837f62079",
   "metadata": {},
   "outputs": [
    {
     "name": "stdout",
     "output_type": "stream",
     "text": [
      "['apple', 'hello']\n"
     ]
    }
   ],
   "source": [
    "list1=[]\n",
    "for i in l:\n",
    "    a=str(i)\n",
    "    if len(a)>4:\n",
    "        list1.append(a)\n",
    "print(list1)"
   ]
  },
  {
   "cell_type": "markdown",
   "id": "4991cc4d-84a9-4bc8-b0dc-141ca2c8e713",
   "metadata": {},
   "source": [
    "<b>8. Filter None Values</b>"
   ]
  },
  {
   "cell_type": "markdown",
   "id": "c0ed2a24-61a4-4598-bc73-0a95034aaa69",
   "metadata": {},
   "source": [
    "<b>Write a program to remove all None values from a mixed list and store the remaining elements in a new list.</b>"
   ]
  },
  {
   "cell_type": "code",
   "execution_count": 42,
   "id": "a51cd29d-5506-4fe3-a445-6203cc887081",
   "metadata": {},
   "outputs": [],
   "source": [
    "l = [1, None, \"Python\", None, 45.6, \"data\"]"
   ]
  },
  {
   "cell_type": "code",
   "execution_count": 43,
   "id": "46709711-72ce-444f-bb80-636e5beace30",
   "metadata": {},
   "outputs": [
    {
     "name": "stdout",
     "output_type": "stream",
     "text": [
      "[1, 'Python', 45.6, 'data']\n"
     ]
    }
   ],
   "source": [
    "list1=[]\n",
    "for i in l:\n",
    "    if i is not None:\n",
    "        list1.append(i)\n",
    "print(list1)"
   ]
  },
  {
   "cell_type": "markdown",
   "id": "dbc7bcc3-7e95-4fdc-a85c-1a7cea5ff1c0",
   "metadata": {},
   "source": [
    "<b>9. Filter Alphabetic Strings Only</b>"
   ]
  },
  {
   "cell_type": "markdown",
   "id": "d7dd76fb-ad31-46ff-a6cc-d8bcf5b23cba",
   "metadata": {},
   "source": [
    "<b>Write a program that extracts only alphabetic strings (strings without numbers or special characters) from a mixed list.</b>"
   ]
  },
  {
   "cell_type": "code",
   "execution_count": 45,
   "id": "907d32cc-c4e1-4e5e-9bd9-516120b23142",
   "metadata": {},
   "outputs": [],
   "source": [
    "l = [\"AI\", \"Data123\", \"hello!\", \"world\", 42, \"Python3\"]"
   ]
  },
  {
   "cell_type": "code",
   "execution_count": 46,
   "id": "e23425ef-d993-4a4c-94e9-0371de176a21",
   "metadata": {},
   "outputs": [
    {
     "name": "stdout",
     "output_type": "stream",
     "text": [
      "['AI', 'world']\n"
     ]
    }
   ],
   "source": [
    "list1=[]\n",
    "for i in l:\n",
    "    a=str(i)\n",
    "    if a.isalpha()==True:\n",
    "        list1.append(i)\n",
    "print(list1)"
   ]
  },
  {
   "cell_type": "markdown",
   "id": "7cf053a9-79bb-4afd-afc7-70712f76e29f",
   "metadata": {},
   "source": [
    "<b>10. Filter Elements of Specific Data Type</b>\n"
   ]
  },
  {
   "cell_type": "markdown",
   "id": "5a87b1c7-2395-4c2c-82c0-e7fe0b6b5edd",
   "metadata": {},
   "source": [
    "<b>Write a program that asks the user to input a data type (e.g., int, float, str) and filters elements of that type from a given mixed list.\n",
    "</b>"
   ]
  },
  {
   "cell_type": "code",
   "execution_count": 47,
   "id": "45647a62-4e14-4942-a03b-89700cfb08d5",
   "metadata": {},
   "outputs": [
    {
     "name": "stdin",
     "output_type": "stream",
     "text": [
      "Data type(int,float,str,bool) to filter: float\n"
     ]
    },
    {
     "name": "stdout",
     "output_type": "stream",
     "text": [
      "[2.5, 4.0]\n"
     ]
    }
   ],
   "source": [
    "l = [1, 2.5, \"hello\", 3, 4.0, \"world\",True,False]\n",
    "list1=[]\n",
    "num=input(\"Data type(int,float,str,bool) to filter:\").lower()\n",
    "if num==\"float\":\n",
    "    for i in l:\n",
    "        if type(i)==float:\n",
    "            list1.append(i)\n",
    "elif num==\"str\":\n",
    "    for i in l:\n",
    "        if type(i)==str:\n",
    "            list1.append(i)\n",
    "elif num==\"int\":\n",
    "    for i in l:\n",
    "        if type(i)==int:\n",
    "            list1.append(i)\n",
    "elif num==\"bool\":\n",
    "      for i in l:\n",
    "        if type(i)==bool:\n",
    "            list1.append(i)\n",
    "print(list1)\n",
    "     \n",
    "        \n",
    "        \n",
    "\n",
    "   "
   ]
  },
  {
   "cell_type": "code",
   "execution_count": null,
   "id": "6b39787c-de58-4340-92df-e624d45df61a",
   "metadata": {},
   "outputs": [],
   "source": []
  }
 ],
 "metadata": {
  "kernelspec": {
   "display_name": "Python 3 (ipykernel)",
   "language": "python",
   "name": "python3"
  },
  "language_info": {
   "codemirror_mode": {
    "name": "ipython",
    "version": 3
   },
   "file_extension": ".py",
   "mimetype": "text/x-python",
   "name": "python",
   "nbconvert_exporter": "python",
   "pygments_lexer": "ipython3",
   "version": "3.12.7"
  }
 },
 "nbformat": 4,
 "nbformat_minor": 5
}

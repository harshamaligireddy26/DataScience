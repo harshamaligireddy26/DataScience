{
 "cells": [
  {
   "cell_type": "markdown",
   "id": "2415bbc1-a990-499a-b7ec-cca629f4c159",
   "metadata": {},
   "source": [
    "<b>1. Write a function that takes two numbers and returns their sum.</b>"
   ]
  },
  {
   "cell_type": "code",
   "execution_count": 1,
   "id": "d539d58b-d885-4c86-b97a-e45c45393208",
   "metadata": {},
   "outputs": [
    {
     "name": "stdin",
     "output_type": "stream",
     "text": [
      "Input A : 10\n",
      "Input B : 15\n"
     ]
    },
    {
     "data": {
      "text/plain": [
       "25"
      ]
     },
     "execution_count": 1,
     "metadata": {},
     "output_type": "execute_result"
    }
   ],
   "source": [
    "def add(a,b):\n",
    "    return a+b\n",
    "a=int(input(\"Input A :\"))\n",
    "b=int(input(\"Input B :\"))\n",
    "add(a,b)"
   ]
  },
  {
   "cell_type": "markdown",
   "id": "ed28ad95-3757-4bb3-9a2c-6a9c55cd1838",
   "metadata": {},
   "source": [
    "<b>2. Write a function that takes a string and returns it reversed.</b>"
   ]
  },
  {
   "cell_type": "code",
   "execution_count": 2,
   "id": "ed5208b1-43a7-4f26-a17f-755ffaa06c0a",
   "metadata": {},
   "outputs": [
    {
     "name": "stdin",
     "output_type": "stream",
     "text": [
      "Enter a String: harsha\n"
     ]
    },
    {
     "data": {
      "text/plain": [
       "'ahsrah'"
      ]
     },
     "execution_count": 2,
     "metadata": {},
     "output_type": "execute_result"
    }
   ],
   "source": [
    "def reverse(n):\n",
    "    n1=n[::-1]\n",
    "    return n1\n",
    "n=input(\"Enter a String:\")\n",
    "reverse(n)"
   ]
  },
  {
   "cell_type": "markdown",
   "id": "74f254c1-2195-4c0a-8e41-b1109e9280ec",
   "metadata": {},
   "source": [
    "<b>3. Write a function that checks if a number is even or odd.</b>"
   ]
  },
  {
   "cell_type": "code",
   "execution_count": 3,
   "id": "2e59d8cb-1b00-4e29-9b18-9d29a2eea377",
   "metadata": {},
   "outputs": [
    {
     "name": "stdin",
     "output_type": "stream",
     "text": [
      "Enter a Number :  75\n"
     ]
    },
    {
     "name": "stdout",
     "output_type": "stream",
     "text": [
      "Number is Odd\n"
     ]
    }
   ],
   "source": [
    "def evenodd(n):\n",
    "    if n%2==0:\n",
    "        print(\"Number is Even\")\n",
    "    else:\n",
    "        print(\"Number is Odd\")\n",
    "n=int(input(\"Enter a Number : \"))\n",
    "evenodd(n)"
   ]
  },
  {
   "cell_type": "markdown",
   "id": "5d211282-1817-4ff7-a527-708a7ece680b",
   "metadata": {},
   "source": [
    "<b>4. Write a function that returns the factorial of a number.</b>"
   ]
  },
  {
   "cell_type": "code",
   "execution_count": 4,
   "id": "c66e6806-093d-4109-899f-8a09ff0842c5",
   "metadata": {},
   "outputs": [
    {
     "name": "stdin",
     "output_type": "stream",
     "text": [
      "Input : 10\n"
     ]
    },
    {
     "data": {
      "text/plain": [
       "3628800"
      ]
     },
     "execution_count": 4,
     "metadata": {},
     "output_type": "execute_result"
    }
   ],
   "source": [
    "def factorial(n):\n",
    "    i=1\n",
    "    multi=1\n",
    "    while i<=n:\n",
    "        multi=multi*i\n",
    "        i=i+1\n",
    "    return multi\n",
    "n=int(input(\"Input :\"))\n",
    "factorial(n)"
   ]
  },
  {
   "cell_type": "markdown",
   "id": "5885e468-07dd-4710-98c8-7b71bd25e106",
   "metadata": {},
   "source": [
    "<b>5. Write a function that takes a list and returns the maximum element.</b>"
   ]
  },
  {
   "cell_type": "code",
   "execution_count": 5,
   "id": "a8c75760-d749-4016-b10d-21382eef1df4",
   "metadata": {},
   "outputs": [
    {
     "name": "stdin",
     "output_type": "stream",
     "text": [
      "Number of values to Add: 5\n",
      "Enter 1 Value : 13\n",
      "Enter 2 Value : 32\n",
      "Enter 3 Value : 2\n",
      "Enter 4 Value : 35\n",
      "Enter 5 Value : 2\n"
     ]
    },
    {
     "name": "stdout",
     "output_type": "stream",
     "text": [
      "Maximum Element :35\n"
     ]
    }
   ],
   "source": [
    "def maxim():\n",
    "    n=int(input(\"Number of values to Add:\"))\n",
    "    list2=[]\n",
    "    for i in range(1,n+1):\n",
    "        a=int(input(f\"Enter {i} Value :\"))\n",
    "        list2.append(a)\n",
    "    print(f\"Maximum Element :{max(list2)}\")\n",
    "maxim()"
   ]
  },
  {
   "cell_type": "markdown",
   "id": "67b21d6f-d397-4a49-b726-785c6f29c753",
   "metadata": {},
   "source": [
    "<b>6. Print numbers from 1 to 10 using a for loop.</b>"
   ]
  },
  {
   "cell_type": "code",
   "execution_count": 6,
   "id": "d1d5e823-b4be-4863-8117-550d4f5f9bd5",
   "metadata": {},
   "outputs": [
    {
     "name": "stdout",
     "output_type": "stream",
     "text": [
      "1\n",
      "2\n",
      "3\n",
      "4\n",
      "5\n",
      "6\n",
      "7\n",
      "8\n",
      "9\n",
      "10\n"
     ]
    }
   ],
   "source": [
    "for i in range(1,11):\n",
    "    print(i)"
   ]
  },
  {
   "cell_type": "markdown",
   "id": "efce7835-0f4a-49fc-b72a-9d312ade04d7",
   "metadata": {},
   "source": [
    "<b>7. Print each character in a string using a for loop.</b>"
   ]
  },
  {
   "cell_type": "code",
   "execution_count": 7,
   "id": "d5f19a70-8cd5-46e6-a0b2-08275705210f",
   "metadata": {},
   "outputs": [
    {
     "name": "stdin",
     "output_type": "stream",
     "text": [
      "Enter a String: harsha\n"
     ]
    },
    {
     "name": "stdout",
     "output_type": "stream",
     "text": [
      "h\n",
      "a\n",
      "r\n",
      "s\n",
      "h\n",
      "a\n"
     ]
    }
   ],
   "source": [
    "def rev(n):\n",
    "    for i in n:\n",
    "        print(i)\n",
    "n=input(\"Enter a String:\")\n",
    "rev(n)"
   ]
  },
  {
   "cell_type": "markdown",
   "id": "f7aa76a8-d5a6-4b55-9b06-20aee5bc51ae",
   "metadata": {},
   "source": [
    "<b>8. Write a program that sums all numbers in a list using a for loop.\n",
    "</b>"
   ]
  },
  {
   "cell_type": "code",
   "execution_count": 8,
   "id": "440827ed-09dc-4503-a4b0-0fdd0aa37250",
   "metadata": {},
   "outputs": [
    {
     "name": "stdout",
     "output_type": "stream",
     "text": [
      "44\n"
     ]
    }
   ],
   "source": [
    "def lis(l):\n",
    "    sum1=0\n",
    "    for i in l:\n",
    "        if type(i)==int:\n",
    "            sum1+=i\n",
    "    print(sum1)\n",
    "l=[1,2,34,7]\n",
    "lis(l)"
   ]
  },
  {
   "cell_type": "markdown",
   "id": "a10137b0-3374-4776-9aad-b1ef0f534992",
   "metadata": {},
   "source": [
    "<b>9. Print the multiplication table of a given number using a for loop\n",
    "</b>"
   ]
  },
  {
   "cell_type": "code",
   "execution_count": 9,
   "id": "f0d64d55-2901-40a1-a10b-3c939721eef0",
   "metadata": {},
   "outputs": [
    {
     "name": "stdin",
     "output_type": "stream",
     "text": [
      "Enter Nmber to Get Multiplication: 6\n"
     ]
    },
    {
     "name": "stdout",
     "output_type": "stream",
     "text": [
      "6 x 1 = 6\n",
      "6 x 2 = 12\n",
      "6 x 3 = 18\n",
      "6 x 4 = 24\n",
      "6 x 5 = 30\n",
      "6 x 6 = 36\n",
      "6 x 7 = 42\n",
      "6 x 8 = 48\n",
      "6 x 9 = 54\n",
      "6 x 10 = 60\n"
     ]
    }
   ],
   "source": [
    "def multi(n):\n",
    "    for i in range(1,11):\n",
    "        print(n,\"x\",i,\"=\",n*i)\n",
    "n=int(input(\"Enter Nmber to Get Multiplication:\"))\n",
    "multi(n)"
   ]
  },
  {
   "cell_type": "markdown",
   "id": "8ea10a9f-29ef-4cdc-804c-a4aa5d94839c",
   "metadata": {},
   "source": [
    "<b>10. Write a program that prints all even numbers from 1 to 50.</b>"
   ]
  },
  {
   "cell_type": "code",
   "execution_count": 10,
   "id": "1e4f21ba-4b1d-43ed-8743-9c943485fb9d",
   "metadata": {},
   "outputs": [
    {
     "name": "stdout",
     "output_type": "stream",
     "text": [
      "[2, 4, 6, 8, 10, 12, 14, 16, 18, 20, 22, 24, 26, 28, 30, 32, 34, 36, 38, 40, 42, 44, 46, 48, 50]\n"
     ]
    }
   ],
   "source": [
    "list1=[]\n",
    "for i in range(1,51):\n",
    "    if i%2==0:\n",
    "        list1.append(i)\n",
    "print(list1)"
   ]
  },
  {
   "cell_type": "markdown",
   "id": "0d936263-6e0d-4af2-8113-c54f08393011",
   "metadata": {},
   "source": [
    "<b>11. Print numbers from 1 to 10 using a while loop.</b>"
   ]
  },
  {
   "cell_type": "code",
   "execution_count": 11,
   "id": "505c77a0-370d-4afe-9c86-d86629adcf3a",
   "metadata": {},
   "outputs": [
    {
     "name": "stdout",
     "output_type": "stream",
     "text": [
      "1\n",
      "2\n",
      "3\n",
      "4\n",
      "5\n",
      "6\n",
      "7\n",
      "8\n",
      "9\n",
      "10\n"
     ]
    }
   ],
   "source": [
    "i=1\n",
    "while i<11:\n",
    "    print(i)\n",
    "    i=i+1"
   ]
  },
  {
   "cell_type": "markdown",
   "id": "a1a0da08-9e47-4baf-a1f1-4c733623245d",
   "metadata": {},
   "source": [
    "<b>12. Keep taking input from the user until they type \"exit\".</b>"
   ]
  },
  {
   "cell_type": "code",
   "execution_count": 12,
   "id": "e3333e6d-5823-4e9b-a7ae-2f1010ce756d",
   "metadata": {},
   "outputs": [
    {
     "name": "stdin",
     "output_type": "stream",
     "text": [
      "Input : wuged\n",
      "Input : exit\n"
     ]
    }
   ],
   "source": [
    "i=1\n",
    "while i>0:\n",
    "    a=input(\"Input :\").lower()\n",
    "    if a==\"exit\":\n",
    "        break"
   ]
  },
  {
   "cell_type": "markdown",
   "id": "abae725a-3cf3-4db5-80c9-7b18d6fec6b8",
   "metadata": {},
   "source": [
    "<b>13. Write a program that finds the sum of digits of a number using a while loop.</b>"
   ]
  },
  {
   "cell_type": "code",
   "execution_count": 13,
   "id": "2216adc9-4c8c-48af-9b4e-76a290dc7d76",
   "metadata": {},
   "outputs": [
    {
     "name": "stdin",
     "output_type": "stream",
     "text": [
      "Enter a Number : 1234\n"
     ]
    },
    {
     "name": "stdout",
     "output_type": "stream",
     "text": [
      "10\n"
     ]
    }
   ],
   "source": [
    "n=int((input(\"Enter a Number :\")))\n",
    "a=str(n)\n",
    "sum1=0\n",
    "for i in a:\n",
    "    b=int(i)\n",
    "    sum1+=b\n",
    "print(sum1)\n",
    "    "
   ]
  },
  {
   "cell_type": "markdown",
   "id": "a594a34f-4cbc-48a1-81e4-7e4d03fc3203",
   "metadata": {},
   "source": [
    "<b>14. Guess the number game: Keep asking the user until they guess the correct number.</b>"
   ]
  },
  {
   "cell_type": "code",
   "execution_count": 14,
   "id": "bbb47c8d-6d05-4552-9592-8967eb25e80d",
   "metadata": {},
   "outputs": [
    {
     "name": "stdin",
     "output_type": "stream",
     "text": [
      "Guess the Number : 1\n",
      "Guess the Number : 2\n",
      "Guess the Number : 3\n",
      "Guess the Number : 4\n",
      "Guess the Number : 5\n",
      "Guess the Number : 12\n"
     ]
    },
    {
     "name": "stdout",
     "output_type": "stream",
     "text": [
      "Your Guess Number is Correct\n"
     ]
    }
   ],
   "source": [
    "correct_number=12\n",
    "i=1\n",
    "while i>0:\n",
    "    guess=int(input(\"Guess the Number :\"))\n",
    "    if guess==correct_number:\n",
    "        print(\"Your Guess Number is Correct\")\n",
    "        break\n",
    "        \n",
    "    "
   ]
  },
  {
   "cell_type": "markdown",
   "id": "ded26542-c1d3-46d3-80ec-94ee470b87b3",
   "metadata": {},
   "source": [
    "<b>15. Print the Fibonacci sequence up to n terms using a while loop.</b>"
   ]
  },
  {
   "cell_type": "code",
   "execution_count": 15,
   "id": "39e99bc9-95d2-4e92-aeb8-123fb3ba8ffb",
   "metadata": {},
   "outputs": [
    {
     "name": "stdin",
     "output_type": "stream",
     "text": [
      "Enter the number of Fibonacci terms you want:  7\n"
     ]
    },
    {
     "name": "stdout",
     "output_type": "stream",
     "text": [
      "Fibonacci Sequence:\n",
      "[0, 1, 1, 2, 3, 5, 8]\n"
     ]
    }
   ],
   "source": [
    "def fibonacci(n):\n",
    "    list1 = [0, 1]\n",
    "    i=2\n",
    "    while i<n:\n",
    "        a = list1[i-1] + list1[i-2]\n",
    "        list1.append(a)\n",
    "        i=i+1\n",
    "    return list1\n",
    "n = int(input(\"Enter the number of Fibonacci terms you want: \"))\n",
    "list1 = fibonacci(n)\n",
    "\n",
    "print(\"Fibonacci Sequence:\")\n",
    "print(list1)"
   ]
  },
  {
   "cell_type": "markdown",
   "id": "fc5d1f20-adb3-413b-9d74-f2c0581091de",
   "metadata": {},
   "source": [
    "<b>16. Write a function that takes variable number of arguments using *args and returns their sum.</b>"
   ]
  },
  {
   "cell_type": "code",
   "execution_count": 16,
   "id": "005a7b2b-136d-4850-9674-6214e1748137",
   "metadata": {},
   "outputs": [
    {
     "name": "stdout",
     "output_type": "stream",
     "text": [
      "22\n"
     ]
    }
   ],
   "source": [
    "def func(*args):\n",
    "    sum1=0\n",
    "    for i in args:\n",
    "        sum1=sum1+i\n",
    "    print(sum1)\n",
    "\n",
    "func(1,2,4,5,3,7)\n",
    "\n",
    "    "
   ]
  },
  {
   "cell_type": "markdown",
   "id": "2685d32c-d5b6-4622-bc81-26def4e34a52",
   "metadata": {},
   "source": [
    "<b>17. Write a program that unpacks a list into separate variables using *.</b>"
   ]
  },
  {
   "cell_type": "code",
   "execution_count": 17,
   "id": "824ee7fa-3065-4f69-b71d-c9e6cd3a0a73",
   "metadata": {},
   "outputs": [
    {
     "name": "stdout",
     "output_type": "stream",
     "text": [
      "1\n",
      "[2, 3, 4, 5]\n"
     ]
    }
   ],
   "source": [
    "nums = [1,2,3,4,5]\n",
    "a, *b =nums\n",
    "print(a)\n",
    "print(b)"
   ]
  },
  {
   "cell_type": "markdown",
   "id": "6c9ff3c7-7c01-438f-abc0-a6234233b15e",
   "metadata": {},
   "source": [
    "<b>18. Create a function that multiplies a number with itself n times using * (e.g., 2 * 3 = 6).</b>"
   ]
  },
  {
   "cell_type": "code",
   "execution_count": 18,
   "id": "a73e0792-e919-402a-8aa3-505ff8c6f15c",
   "metadata": {},
   "outputs": [
    {
     "data": {
      "text/plain": [
       "6"
      ]
     },
     "execution_count": 18,
     "metadata": {},
     "output_type": "execute_result"
    }
   ],
   "source": [
    "def multi(num, n):\n",
    "    m = num * n\n",
    "    return m\n",
    "\n",
    "multi(2,3)"
   ]
  },
  {
   "cell_type": "markdown",
   "id": "4c50cb14-1983-493d-a164-992445c5345a",
   "metadata": {},
   "source": [
    "<b>19. Use * to combine two lists into one:</b>\n",
    "\n"
   ]
  },
  {
   "cell_type": "raw",
   "id": "790103e4-e1f6-4e01-9cee-cae5276025ce",
   "metadata": {},
   "source": [
    "a = [1, 2]\n",
    "b = [3, 4]\n",
    "\n",
    "Combined = [*a, *b]</b>"
   ]
  },
  {
   "cell_type": "code",
   "execution_count": 19,
   "id": "f2e62485-c588-48b1-ae6f-b8785d54b320",
   "metadata": {},
   "outputs": [
    {
     "data": {
      "text/plain": [
       "[1, 2, 3, 4]"
      ]
     },
     "execution_count": 19,
     "metadata": {},
     "output_type": "execute_result"
    }
   ],
   "source": [
    "a = [1,2]\n",
    "b = [3,4]\n",
    "combined = [*a,*b]\n",
    "\n",
    "combined"
   ]
  },
  {
   "cell_type": "markdown",
   "id": "3a1a7a8b-431f-4daf-9ef2-4a3fe5f835c8",
   "metadata": {},
   "source": [
    "<b>20. Write a function that checks whether a string is a palindrome.</b>"
   ]
  },
  {
   "cell_type": "code",
   "execution_count": 20,
   "id": "16dcc439-eff9-45a8-83aa-6d73a0b19aa0",
   "metadata": {},
   "outputs": [
    {
     "name": "stdin",
     "output_type": "stream",
     "text": [
      "Input: 5615\n"
     ]
    },
    {
     "name": "stdout",
     "output_type": "stream",
     "text": [
      "False\n"
     ]
    }
   ],
   "source": [
    "def palin(n):\n",
    "    \n",
    "    str2=n[::-1]\n",
    "    if str2==n:\n",
    "        print(True)\n",
    "    else:\n",
    "      print(False)\n",
    "    \n",
    "n=input(\"Input:\")\n",
    "palin(n)\n"
   ]
  },
  {
   "cell_type": "markdown",
   "id": "2f394a5b-7aee-4d61-bde5-9a2c1908d6b4",
   "metadata": {},
   "source": [
    "<b>21. Write a function that returns the number of vowels in a given string.</b>"
   ]
  },
  {
   "cell_type": "code",
   "execution_count": 21,
   "id": "cf78a92c-5f24-4464-a612-6f5c10fbf326",
   "metadata": {},
   "outputs": [
    {
     "name": "stdin",
     "output_type": "stream",
     "text": [
      "Enter a String afeiou\n"
     ]
    },
    {
     "data": {
      "text/plain": [
       "5"
      ]
     },
     "execution_count": 21,
     "metadata": {},
     "output_type": "execute_result"
    }
   ],
   "source": [
    "def count_vowels(s):\n",
    "    list1=list(s)\n",
    "    list2=['a','e','i','o','u']\n",
    "    count1=0\n",
    "    for i in list1:\n",
    "        if i in list2:\n",
    "            count1=count1+1\n",
    "    return count1\n",
    "s=input(\"Enter a String\").lower()\n",
    "count_vowels(s)"
   ]
  },
  {
   "cell_type": "markdown",
   "id": "5c024cfe-beb6-4c36-8d8f-37635cce6e34",
   "metadata": {},
   "source": [
    "<b>22. Write a function that takes a list of numbers and returns only the even numbers.</b>"
   ]
  },
  {
   "cell_type": "code",
   "execution_count": 22,
   "id": "9ac0d769-9a5e-4932-a033-acf0915df01f",
   "metadata": {},
   "outputs": [
    {
     "name": "stdin",
     "output_type": "stream",
     "text": [
      "Number of values to Add: 3\n",
      "Enter 1 Value : 12\n",
      "Enter 2 Value : 34\n",
      "Enter 3 Value : 44\n"
     ]
    },
    {
     "name": "stdout",
     "output_type": "stream",
     "text": [
      "Even Numbers :\n",
      "12\n",
      "34\n",
      "44\n"
     ]
    }
   ],
   "source": [
    "def lit1():\n",
    "    n=int(input(\"Number of values to Add:\"))\n",
    "    list2=[]\n",
    "    for i in range(1,n+1):\n",
    "        a=int(input(f\"Enter {i} Value :\"))\n",
    "        list2.append(a)\n",
    "    print(\"Even Numbers :\")\n",
    "    for i in list2:\n",
    "        if i%2==0:\n",
    "            print(i)\n",
    "            \n",
    "lit1()\n",
    "\n",
    "    "
   ]
  },
  {
   "cell_type": "markdown",
   "id": "9f34058a-a0c2-4805-a1f4-44fbe2eeadbd",
   "metadata": {},
   "source": [
    "<b>23. Write a function that converts Celsius to Fahrenheit.</b>"
   ]
  },
  {
   "cell_type": "code",
   "execution_count": 23,
   "id": "d2e29e8d-fb52-4b32-ab33-697eee905686",
   "metadata": {},
   "outputs": [
    {
     "name": "stdin",
     "output_type": "stream",
     "text": [
      "Celsius : 65\n"
     ]
    },
    {
     "data": {
      "text/plain": [
       "149.0"
      ]
     },
     "execution_count": 23,
     "metadata": {},
     "output_type": "execute_result"
    }
   ],
   "source": [
    "def funct(n):\n",
    "    fahren=float((n * 9/5) + 32)\n",
    "    return fahren\n",
    "n=float(input(\"Celsius :\"))\n",
    "funct(n)"
   ]
  },
  {
   "cell_type": "markdown",
   "id": "68217cd8-67ec-441e-a231-e9bbcfaf7903",
   "metadata": {},
   "source": [
    "<b>24. Write a function that takes a string and returns the number of words in it.</b>"
   ]
  },
  {
   "cell_type": "code",
   "execution_count": 24,
   "id": "cc4f0f4a-fea7-4d13-9a2e-2fb1b4fb8a13",
   "metadata": {},
   "outputs": [
    {
     "name": "stdin",
     "output_type": "stream",
     "text": [
      "String : harsha nani\n"
     ]
    },
    {
     "name": "stdout",
     "output_type": "stream",
     "text": [
      "Total Number of Words :10\n"
     ]
    }
   ],
   "source": [
    "str1=input(\"String :\").lower()\n",
    "count=0\n",
    "list1=[ 'a',' b', 'c', 'd', 'e', 'f', 'g', 'h', 'i', 'j',' k', 'l', 'm', 'n',' o',' p', 'q', 'r', 's', 't', 'u', 'v',' w', 'x', 'y' ,' z']\n",
    "for i in str1:\n",
    "    if i in list1:\n",
    "        count=count+1\n",
    "print(f\"Total Number of Words :{count}\")"
   ]
  },
  {
   "cell_type": "markdown",
   "id": "9d4394a4-a5cd-45a0-8baa-3c19bbbe8c09",
   "metadata": {},
   "source": [
    "<b>25. Write a function that uses *args and prints all values line by line with their index.</b>"
   ]
  },
  {
   "cell_type": "code",
   "execution_count": 1,
   "id": "370b8707-0dab-4039-b18a-89b4a10e2a5c",
   "metadata": {},
   "outputs": [
    {
     "name": "stdout",
     "output_type": "stream",
     "text": [
      "args[i]\n",
      "args[i]\n",
      "args[i]\n",
      "args[i]\n"
     ]
    }
   ],
   "source": [
    "def "
   ]
  },
  {
   "cell_type": "markdown",
   "id": "c7a1bd0f-06b1-4ca4-ae8f-871c6fdc4a53",
   "metadata": {},
   "source": [
    "<b>26. Write a function that takes *args and returns their average.</b>"
   ]
  },
  {
   "cell_type": "code",
   "execution_count": 2,
   "id": "c234f5da-567e-4603-8ddd-be0f3e7e746a",
   "metadata": {},
   "outputs": [
    {
     "name": "stdout",
     "output_type": "stream",
     "text": [
      "25.0\n"
     ]
    }
   ],
   "source": [
    "def avg(*args):\n",
    "    sum1=sum(args)\n",
    "    length=len(args)\n",
    "    print(sum1/length)\n",
    "avg(10,20,30,40)"
   ]
  },
  {
   "cell_type": "markdown",
   "id": "08bef612-3753-4f66-98c5-4601c6fd9743",
   "metadata": {},
   "source": [
    "<b>27. Keep asking the user to enter a positive number. Stop when they enter a negative number.</b>"
   ]
  },
  {
   "cell_type": "code",
   "execution_count": 3,
   "id": "7867c05e-2615-4924-9627-330c40717d45",
   "metadata": {},
   "outputs": [
    {
     "name": "stdin",
     "output_type": "stream",
     "text": [
      "Enter Positive Numbers: 2\n",
      "Enter Positive Numbers: -3\n"
     ]
    },
    {
     "name": "stdout",
     "output_type": "stream",
     "text": [
      "Stop\n"
     ]
    }
   ],
   "source": [
    "\n",
    "i=1\n",
    "while i>0:\n",
    "    n=int(input(\"Enter Positive Numbers:\"))\n",
    "    if n<0:\n",
    "        print(\"Stop\")\n",
    "        break\n",
    "    "
   ]
  },
  {
   "cell_type": "markdown",
   "id": "34eb318b-e4e3-43ec-a744-7421b58a5904",
   "metadata": {},
   "source": [
    "<b>28. Write a program to reverse a number using a while loop.</b>"
   ]
  },
  {
   "cell_type": "code",
   "execution_count": 4,
   "id": "fb97704d-a0a2-4556-a991-191af7825a97",
   "metadata": {},
   "outputs": [
    {
     "name": "stdin",
     "output_type": "stream",
     "text": [
      "Input Number : 123456\n"
     ]
    },
    {
     "name": "stdout",
     "output_type": "stream",
     "text": [
      "654321"
     ]
    }
   ],
   "source": [
    "n=int(input(\"Input Number :\"))\n",
    "s=str(n)\n",
    "i=len(s)-1\n",
    "while i>=0:\n",
    "    print(s[i],end=\"\")\n",
    "    i=i-1\n",
    "    "
   ]
  },
  {
   "cell_type": "markdown",
   "id": "99facdca-a530-4a60-8673-963145a7a39a",
   "metadata": {},
   "source": [
    "<b>29. Find the first number divisible by both 3 and 5 greater than 100 using while.</b>"
   ]
  },
  {
   "cell_type": "code",
   "execution_count": 5,
   "id": "30add581-6d66-4eee-a970-c09a549c28f2",
   "metadata": {},
   "outputs": [
    {
     "name": "stdout",
     "output_type": "stream",
     "text": [
      "105\n"
     ]
    }
   ],
   "source": [
    "i=101\n",
    "while i>100:\n",
    "    if i%3==0 and i%5==0:\n",
    "        print(i)\n",
    "        break\n",
    "    i=i+1"
   ]
  },
  {
   "cell_type": "markdown",
   "id": "019a4792-074f-45e5-a6c3-45b85c73bd28",
   "metadata": {},
   "source": [
    "\n",
    "<b>30. Use a while loop to check if a number is a prime.</b>"
   ]
  },
  {
   "cell_type": "code",
   "execution_count": 6,
   "id": "2dec203a-4ac3-4c23-aaec-82957d34eaec",
   "metadata": {},
   "outputs": [
    {
     "name": "stdin",
     "output_type": "stream",
     "text": [
      "Enter a number: 67\n"
     ]
    },
    {
     "data": {
      "text/plain": [
       "'True'"
      ]
     },
     "execution_count": 6,
     "metadata": {},
     "output_type": "execute_result"
    }
   ],
   "source": [
    "def is_prime(n):\n",
    "    c = 0\n",
    "    if n==0:\n",
    "        return 1\n",
    "    for i in range(1,n+1):\n",
    "        if n%i == 0:\n",
    "            c = c+1\n",
    "    if c == 2:\n",
    "        return \"True\"\n",
    "    else:\n",
    "        return \"False\"\n",
    "n=int(input(\"Enter a number:\"))\n",
    "is_prime(n)"
   ]
  },
  {
   "cell_type": "markdown",
   "id": "e1fe024c-b82e-4452-bc66-a8f8f6a274e3",
   "metadata": {},
   "source": [
    "<b>31. Create a countdown timer using while, e.g., from 10 to 1.</b>"
   ]
  },
  {
   "cell_type": "code",
   "execution_count": 7,
   "id": "a204f876-d352-411f-bc5f-202f1402c27d",
   "metadata": {},
   "outputs": [
    {
     "name": "stdin",
     "output_type": "stream",
     "text": [
      "Enter number:  10\n"
     ]
    },
    {
     "name": "stdout",
     "output_type": "stream",
     "text": [
      "10\n",
      "9\n",
      "8\n",
      "7\n",
      "6\n",
      "5\n",
      "4\n",
      "3\n",
      "2\n",
      "1\n"
     ]
    }
   ],
   "source": [
    "def countdown(n):\n",
    "    i = n\n",
    "    while(i>0):\n",
    "        print(i)\n",
    "        i=i-1\n",
    "n= int(input(\"Enter number: \"))\n",
    "countdown(n)"
   ]
  },
  {
   "cell_type": "markdown",
   "id": "4f3a803e-bf05-4e0f-9294-ef9a2bd8e3fe",
   "metadata": {},
   "source": [
    "<b>32. Print all elements in a nested list.</b>"
   ]
  },
  {
   "cell_type": "code",
   "execution_count": 8,
   "id": "f7374f82-e184-4b3e-b0a1-cf0dc5b90488",
   "metadata": {},
   "outputs": [
    {
     "name": "stdout",
     "output_type": "stream",
     "text": [
      "4\n",
      "5\n",
      "6\n"
     ]
    }
   ],
   "source": [
    "l = [1,2,3,[4,5,6]]\n",
    "\n",
    "for i in l:\n",
    "    if type(i) == list:\n",
    "        for j in i :\n",
    "            print(j)"
   ]
  },
  {
   "cell_type": "markdown",
   "id": "b826bd3d-0138-4a07-8b12-66ac67858f07",
   "metadata": {},
   "source": [
    "<b>33. Count how many times each character appears in a string.</b>"
   ]
  },
  {
   "cell_type": "code",
   "execution_count": 9,
   "id": "486a70e4-004e-4c9a-8518-191b2674462c",
   "metadata": {},
   "outputs": [
    {
     "name": "stdin",
     "output_type": "stream",
     "text": [
      "Enter string :  harsha\n"
     ]
    },
    {
     "data": {
      "text/plain": [
       "{'h': 2, 'a': 2, 'r': 1, 's': 1}"
      ]
     },
     "execution_count": 9,
     "metadata": {},
     "output_type": "execute_result"
    }
   ],
   "source": [
    "def count_characters(s):\n",
    "    char_count = {}\n",
    "    for char in s:\n",
    "        if char in char_count:\n",
    "            char_count[char] += 1\n",
    "        else:\n",
    "            char_count[char] = 1\n",
    "    return char_count\n",
    "s = input(\"Enter string : \")\n",
    "count_characters(s)"
   ]
  },
  {
   "cell_type": "markdown",
   "id": "87cef10f-8352-4ad0-83d2-5b2a95b0f5ca",
   "metadata": {},
   "source": [
    "<b>34. Use a for loop to find the largest number in a list without using max().</b>"
   ]
  },
  {
   "cell_type": "code",
   "execution_count": 10,
   "id": "db02f9f0-9bc4-4212-9771-86c08dcd33b2",
   "metadata": {},
   "outputs": [
    {
     "name": "stdout",
     "output_type": "stream",
     "text": [
      "10\n"
     ]
    }
   ],
   "source": [
    "list1=[1,3,5,7,2,4,10]\n",
    "largest=list1[0]\n",
    "for i in list1:\n",
    "    if i>largest:\n",
    "        largest=i\n",
    "print(largest)"
   ]
  },
  {
   "cell_type": "markdown",
   "id": "8dbfb709-99ec-469d-b3ff-4e13cf60b8fd",
   "metadata": {},
   "source": [
    "<b>35. Create a list of squares for numbers from 1 to 10 using a loop.</b>"
   ]
  },
  {
   "cell_type": "code",
   "execution_count": 11,
   "id": "12719033-947e-49b7-a380-9111a6e2c647",
   "metadata": {},
   "outputs": [
    {
     "name": "stdout",
     "output_type": "stream",
     "text": [
      "[1, 4, 9, 16, 25, 36, 49, 64, 81, 100]\n"
     ]
    }
   ],
   "source": [
    "list1=[]\n",
    "for i in range(1,11):\n",
    "    a=i*i\n",
    "    list1.append(a)\n",
    "print(list1)\n",
    "    "
   ]
  },
  {
   "cell_type": "code",
   "execution_count": null,
   "id": "74988657-f5f1-4447-bed1-cead2e91bf8c",
   "metadata": {},
   "outputs": [],
   "source": []
  }
 ],
 "metadata": {
  "kernelspec": {
   "display_name": "Python 3 (ipykernel)",
   "language": "python",
   "name": "python3"
  },
  "language_info": {
   "codemirror_mode": {
    "name": "ipython",
    "version": 3
   },
   "file_extension": ".py",
   "mimetype": "text/x-python",
   "name": "python",
   "nbconvert_exporter": "python",
   "pygments_lexer": "ipython3",
   "version": "3.12.7"
  }
 },
 "nbformat": 4,
 "nbformat_minor": 5
}
